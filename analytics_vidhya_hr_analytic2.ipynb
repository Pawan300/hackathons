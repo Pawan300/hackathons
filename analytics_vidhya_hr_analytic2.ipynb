{
  "nbformat": 4,
  "nbformat_minor": 0,
  "metadata": {
    "colab": {
      "name": "hacathon2.ipynb",
      "provenance": [],
      "toc_visible": true
    },
    "kernelspec": {
      "name": "python3",
      "display_name": "Python 3"
    }
  },
  "cells": [
    {
      "cell_type": "code",
      "metadata": {
        "id": "e0AC4CUKK_Qb",
        "colab_type": "code",
        "colab": {
          "base_uri": "https://localhost:8080/",
          "height": 72
        },
        "outputId": "ce16f36c-a8ec-4f34-ff75-1959a1f46c4c"
      },
      "source": [
        "import sys\n",
        "import pandas as pd\n",
        "import numpy as np\n",
        "import seaborn as sns\n",
        "import matplotlib.pyplot as plt\n",
        "from statistics import mode\n",
        "from sklearn.model_selection import train_test_split\n",
        "from sklearn.metrics import f1_score\n",
        "from sklearn.ensemble import RandomForestClassifier,GradientBoostingClassifier,AdaBoostClassifier\n",
        "from sklearn.linear_model import LogisticRegression\n",
        "from sklearn.svm import SVC\n",
        "from sklearn.neighbors import KNeighborsClassifier\n",
        "from sklearn.neural_network import MLPClassifier\n",
        "from sklearn.tree import DecisionTreeClassifier\n",
        "from sklearn.naive_bayes import GaussianNB\n",
        "from xgboost import XGBClassifier\n",
        "from imblearn.over_sampling import SMOTE"
      ],
      "execution_count": 1,
      "outputs": [
        {
          "output_type": "stream",
          "text": [
            "/usr/local/lib/python3.6/dist-packages/sklearn/externals/six.py:31: DeprecationWarning: The module is deprecated in version 0.21 and will be removed in version 0.23 since we've dropped support for Python 2.7. Please rely on the official version of six (https://pypi.org/project/six/).\n",
            "  \"(https://pypi.org/project/six/).\", DeprecationWarning)\n"
          ],
          "name": "stderr"
        }
      ]
    },
    {
      "cell_type": "code",
      "metadata": {
        "id": "1wxnlZrCLBGk",
        "colab_type": "code",
        "outputId": "d62283a4-10d3-4796-a591-8643bf0d119e",
        "colab": {
          "base_uri": "https://localhost:8080/",
          "height": 125
        }
      },
      "source": [
        "from google.colab import drive\n",
        "drive.mount('/content/drive')"
      ],
      "execution_count": 2,
      "outputs": [
        {
          "output_type": "stream",
          "text": [
            "Go to this URL in a browser: https://accounts.google.com/o/oauth2/auth?client_id=947318989803-6bn6qk8qdgf4n4g3pfee6491hc0brc4i.apps.googleusercontent.com&redirect_uri=urn%3aietf%3awg%3aoauth%3a2.0%3aoob&response_type=code&scope=email%20https%3a%2f%2fwww.googleapis.com%2fauth%2fdocs.test%20https%3a%2f%2fwww.googleapis.com%2fauth%2fdrive%20https%3a%2f%2fwww.googleapis.com%2fauth%2fdrive.photos.readonly%20https%3a%2f%2fwww.googleapis.com%2fauth%2fpeopleapi.readonly\n",
            "\n",
            "Enter your authorization code:\n",
            "··········\n",
            "Mounted at /content/drive\n"
          ],
          "name": "stdout"
        }
      ]
    },
    {
      "cell_type": "code",
      "metadata": {
        "id": "yLmDxwUBLC3z",
        "colab_type": "code",
        "colab": {}
      },
      "source": [
        "train=pd.read_csv(\"/content/drive/My Drive/Colab Notebooks/hacathon_analytic_vidhya/train.csv\")\n",
        "test=pd.read_csv(\"/content/drive/My Drive/Colab Notebooks/hacathon_analytic_vidhya/test.csv\")"
      ],
      "execution_count": 0,
      "outputs": []
    },
    {
      "cell_type": "markdown",
      "metadata": {
        "id": "xF87GbvVnTxv",
        "colab_type": "text"
      },
      "source": [
        "## Smote"
      ]
    },
    {
      "cell_type": "code",
      "metadata": {
        "id": "0nkl8C3GGuYJ",
        "colab_type": "code",
        "colab": {}
      },
      "source": [
        "y=data1['is_promoted']\n",
        "train=data1.drop('is_promoted',axis=1)\n",
        "sm=SMOTE()\n",
        "data1,y=sm.fit_sample(train,y)\n"
      ],
      "execution_count": 0,
      "outputs": []
    },
    {
      "cell_type": "code",
      "metadata": {
        "id": "fi6aUcsvh1dW",
        "colab_type": "code",
        "colab": {}
      },
      "source": [
        "x_train,x_test,x_train_label,x_test_label=train_test_split(data1,y,train_size=0.7)\n"
      ],
      "execution_count": 0,
      "outputs": []
    },
    {
      "cell_type": "code",
      "metadata": {
        "id": "Ofc-SMzAPl-G",
        "colab_type": "code",
        "outputId": "f5b4f70b-cd76-4528-f64c-9d45a8449d87",
        "colab": {
          "base_uri": "https://localhost:8080/",
          "height": 141
        }
      },
      "source": [
        "for i in [3,4,5,6,7,8,9]:\n",
        "  model = XGBClassifier(min_depth=i)\n",
        "  model.fit(x_train,x_train_label)\n",
        "  predict=model.predict(x_test)\n",
        "  print(f1_score(predict,x_test_label))\n"
      ],
      "execution_count": 0,
      "outputs": [
        {
          "output_type": "stream",
          "text": [
            "0.9547517631450317\n",
            "0.9547517631450317\n",
            "0.9547517631450317\n",
            "0.9547517631450317\n",
            "0.9547517631450317\n",
            "0.9547517631450317\n",
            "0.9547517631450317\n"
          ],
          "name": "stdout"
        }
      ]
    },
    {
      "cell_type": "code",
      "metadata": {
        "id": "honUDPlbQfQ3",
        "colab_type": "code",
        "colab": {}
      },
      "source": [
        "prediction=model.predict(data2.values)\n",
        "df=pd.DataFrame(prediction,data2['employee_id'],columns=['is_promoted'])\n",
        "df.to_csv(\"/content/drive/My Drive/Colab Notebooks/hacathon_analytic_vidhya/result.csv\")"
      ],
      "execution_count": 0,
      "outputs": []
    },
    {
      "cell_type": "markdown",
      "metadata": {
        "id": "IcG0ekIPPiKe",
        "colab_type": "text"
      },
      "source": [
        "## Without *smote*"
      ]
    },
    {
      "cell_type": "code",
      "metadata": {
        "id": "F2u8SSW0PvOg",
        "colab_type": "code",
        "colab": {}
      },
      "source": [
        "y=data1['is_promoted']\n",
        "data1=data1.drop('is_promoted',axis=1)\n",
        "x_train,x_test,x_train_label,x_test_label=train_test_split(data1,y,train_size=0.7)"
      ],
      "execution_count": 0,
      "outputs": []
    },
    {
      "cell_type": "code",
      "metadata": {
        "id": "7h4jaSqsI918",
        "colab_type": "code",
        "outputId": "5a6ae209-33e8-4ba8-c66d-09500156933c",
        "colab": {
          "base_uri": "https://localhost:8080/",
          "height": 141
        }
      },
      "source": [
        "for i in [3,4,5,6,7,8,9]:\n",
        "  model = XGBClassifier(min_depth=i)\n",
        "  model.fit(x_traiy=data1['is_promoted']\n",
        "data1=data1.drop('is_promoted',axis=1)\n",
        "x_train,x_test,x_train_label,x_test_label=train_test_split(data1,y,train_size=0.7)n,x_train_label)\n",
        "  predict=model.predict(x_test)\n",
        "  print(f1_score(predict,x_test_label))"
      ],
      "execution_count": 0,
      "outputs": [
        {
          "output_type": "stream",
          "text": [
            "0.3936291240045507\n",
            "0.3936291240045507\n",
            "0.3936291240045507\n",
            "0.3936291240045507\n",
            "0.3936291240045507\n",
            "0.3936291240045507\n",
            "0.3936291240045507\n"
          ],
          "name": "stdout"
        }
      ]
    },
    {
      "cell_type": "code",
      "metadata": {
        "colab_type": "code",
        "id": "s_uMCszAkXQO",
        "colab": {}
      },
      "source": [
        "prediction=model.predict(data2.values)"
      ],
      "execution_count": 0,
      "outputs": []
    },
    {
      "cell_type": "code",
      "metadata": {
        "id": "xGLRLxQch1Rr",
        "colab_type": "code",
        "colab": {}
      },
      "source": [
        "df=pd.DataFrame(prediction,data2['employee_id'],columns=['is_promoted'])\n",
        "df.to_csv(\"/content/drive/My Drive/Colab Notebooks/hacathon_analytic_vidhya/result.csv\")"
      ],
      "execution_count": 0,
      "outputs": []
    },
    {
      "cell_type": "markdown",
      "metadata": {
        "id": "70VBzAwwQA8B",
        "colab_type": "text"
      },
      "source": [
        "## random"
      ]
    },
    {
      "cell_type": "code",
      "metadata": {
        "id": "KxUW5WSumlM3",
        "colab_type": "code",
        "outputId": "28d8e43b-f2a9-4b34-9058-f308d102ea40",
        "colab": {
          "base_uri": "https://localhost:8080/",
          "height": 234
        }
      },
      "source": [
        "train.head()"
      ],
      "execution_count": 0,
      "outputs": [
        {
          "output_type": "execute_result",
          "data": {
            "text/html": [
              "<div>\n",
              "<style scoped>\n",
              "    .dataframe tbody tr th:only-of-type {\n",
              "        vertical-align: middle;\n",
              "    }\n",
              "\n",
              "    .dataframe tbody tr th {\n",
              "        vertical-align: top;\n",
              "    }\n",
              "\n",
              "    .dataframe thead th {\n",
              "        text-align: right;\n",
              "    }\n",
              "</style>\n",
              "<table border=\"1\" class=\"dataframe\">\n",
              "  <thead>\n",
              "    <tr style=\"text-align: right;\">\n",
              "      <th></th>\n",
              "      <th>KPIs_met &gt;80%</th>\n",
              "      <th>age</th>\n",
              "      <th>avg_training_score</th>\n",
              "      <th>awards_won?</th>\n",
              "      <th>department</th>\n",
              "      <th>education</th>\n",
              "      <th>employee_id</th>\n",
              "      <th>gender</th>\n",
              "      <th>length_of_service</th>\n",
              "      <th>no_of_trainings</th>\n",
              "      <th>previous_year_rating</th>\n",
              "      <th>recruitment_channel</th>\n",
              "      <th>region</th>\n",
              "    </tr>\n",
              "  </thead>\n",
              "  <tbody>\n",
              "    <tr>\n",
              "      <th>10</th>\n",
              "      <td>0</td>\n",
              "      <td>30</td>\n",
              "      <td>77</td>\n",
              "      <td>0</td>\n",
              "      <td>8</td>\n",
              "      <td>2.0</td>\n",
              "      <td>29934</td>\n",
              "      <td>1</td>\n",
              "      <td>1</td>\n",
              "      <td>1</td>\n",
              "      <td>3.0</td>\n",
              "      <td>3</td>\n",
              "      <td>23</td>\n",
              "    </tr>\n",
              "    <tr>\n",
              "      <th>90</th>\n",
              "      <td>0</td>\n",
              "      <td>20</td>\n",
              "      <td>55</td>\n",
              "      <td>0</td>\n",
              "      <td>7</td>\n",
              "      <td>2.0</td>\n",
              "      <td>62658</td>\n",
              "      <td>0</td>\n",
              "      <td>1</td>\n",
              "      <td>1</td>\n",
              "      <td>3.0</td>\n",
              "      <td>3</td>\n",
              "      <td>2</td>\n",
              "    </tr>\n",
              "    <tr>\n",
              "      <th>245</th>\n",
              "      <td>1</td>\n",
              "      <td>25</td>\n",
              "      <td>76</td>\n",
              "      <td>0</td>\n",
              "      <td>6</td>\n",
              "      <td>2.0</td>\n",
              "      <td>24414</td>\n",
              "      <td>1</td>\n",
              "      <td>1</td>\n",
              "      <td>1</td>\n",
              "      <td>5.0</td>\n",
              "      <td>1</td>\n",
              "      <td>2</td>\n",
              "    </tr>\n",
              "    <tr>\n",
              "      <th>475</th>\n",
              "      <td>1</td>\n",
              "      <td>24</td>\n",
              "      <td>55</td>\n",
              "      <td>0</td>\n",
              "      <td>7</td>\n",
              "      <td>2.0</td>\n",
              "      <td>36691</td>\n",
              "      <td>1</td>\n",
              "      <td>1</td>\n",
              "      <td>1</td>\n",
              "      <td>5.0</td>\n",
              "      <td>1</td>\n",
              "      <td>14</td>\n",
              "    </tr>\n",
              "    <tr>\n",
              "      <th>508</th>\n",
              "      <td>1</td>\n",
              "      <td>40</td>\n",
              "      <td>51</td>\n",
              "      <td>0</td>\n",
              "      <td>7</td>\n",
              "      <td>2.0</td>\n",
              "      <td>6788</td>\n",
              "      <td>0</td>\n",
              "      <td>1</td>\n",
              "      <td>2</td>\n",
              "      <td>5.0</td>\n",
              "      <td>1</td>\n",
              "      <td>2</td>\n",
              "    </tr>\n",
              "  </tbody>\n",
              "</table>\n",
              "</div>"
            ],
            "text/plain": [
              "     KPIs_met >80%  age  ...  recruitment_channel  region\n",
              "10               0   30  ...                    3      23\n",
              "90               0   20  ...                    3       2\n",
              "245              1   25  ...                    1       2\n",
              "475              1   24  ...                    1      14\n",
              "508              1   40  ...                    1       2\n",
              "\n",
              "[5 rows x 13 columns]"
            ]
          },
          "metadata": {
            "tags": []
          },
          "execution_count": 80
        }
      ]
    },
    {
      "cell_type": "code",
      "metadata": {
        "id": "Vu9PRxYtwhO2",
        "colab_type": "code",
        "colab": {}
      },
      "source": [
        "train['education']=train['education'].fillna(mode(train['education']))\n",
        "train['previous_year_rating']=train['previous_year_rating'].fillna(mode(train['previous_year_rating']))\n",
        "\n",
        "test['education']=test['education'].fillna(mode(test['education']))\n",
        "test['previous_year_rating']=test['previous_year_rating'].fillna(mode(test['previous_year_rating']))"
      ],
      "execution_count": 0,
      "outputs": []
    },
    {
      "cell_type": "code",
      "metadata": {
        "id": "SRvCi3ulyDhQ",
        "colab_type": "code",
        "colab": {}
      },
      "source": [
        "y=train['is_promoted']\n",
        "train=train.drop('is_promoted',axis=1)\n",
        "\n",
        "x_train,x_test,x_train_label,x_test_label=train_test_split(train,y,train_size=0.7)"
      ],
      "execution_count": 0,
      "outputs": []
    },
    {
      "cell_type": "code",
      "metadata": {
        "id": "UEbhB8vpybs0",
        "colab_type": "code",
        "outputId": "1fd6825f-9130-4448-838c-1880f83ed49e",
        "colab": {
          "base_uri": "https://localhost:8080/",
          "height": 141
        }
      },
      "source": [
        "for i in [3,4,5,6,7,8,9]:\n",
        "  model = XGBClassifier(min_depth=3)\n",
        "  model.fit(x_train,x_train_label)\n",
        "  predict=model.predict(x_test)\n",
        "  print(f1_score(predict,x_test_label))"
      ],
      "execution_count": 0,
      "outputs": [
        {
          "output_type": "stream",
          "text": [
            "0.9326157027306453\n",
            "0.9326157027306453\n",
            "0.9326157027306453\n",
            "0.9326157027306453\n",
            "0.9326157027306453\n",
            "0.9326157027306453\n",
            "0.9326157027306453\n"
          ],
          "name": "stdout"
        }
      ]
    },
    {
      "cell_type": "code",
      "metadata": {
        "id": "gUplGY5Syut_",
        "colab_type": "code",
        "colab": {}
      },
      "source": [
        "prediction=model.predict(test)\n",
        "df=pd.DataFrame(prediction,data2['employee_id'],columns=['is_promoted'])\n",
        "df.to_csv(\"/content/drive/My Drive/Colab Notebooks/hacathon_analytic_vidhya/result.csv\")\n"
      ],
      "execution_count": 0,
      "outputs": []
    },
    {
      "cell_type": "markdown",
      "metadata": {
        "id": "iQvWvExmm3iA",
        "colab_type": "text"
      },
      "source": [
        "## Grid search on XGboost"
      ]
    },
    {
      "cell_type": "code",
      "metadata": {
        "id": "i1Ui7JCsdRyj",
        "colab_type": "code",
        "colab": {}
      },
      "source": [
        "from sklearn.model_selection import StratifiedKFold\n",
        "from sklearn.model_selection import RandomizedSearchCV"
      ],
      "execution_count": 0,
      "outputs": []
    },
    {
      "cell_type": "code",
      "metadata": {
        "id": "8uf1rNqrm2iA",
        "colab_type": "code",
        "outputId": "b3af85ad-85bd-4a07-ee95-3be73fe38a0f",
        "colab": {
          "base_uri": "https://localhost:8080/",
          "height": 105
        }
      },
      "source": [
        "train.columns"
      ],
      "execution_count": 0,
      "outputs": [
        {
          "output_type": "execute_result",
          "data": {
            "text/plain": [
              "Index(['employee_id', 'department', 'region', 'education', 'gender',\n",
              "       'recruitment_channel', 'no_of_trainings', 'age', 'previous_year_rating',\n",
              "       'length_of_service', 'KPIs_met >80%', 'awards_won?',\n",
              "       'avg_training_score', 'is_promoted'],\n",
              "      dtype='object')"
            ]
          },
          "metadata": {
            "tags": []
          },
          "execution_count": 42
        }
      ]
    },
    {
      "cell_type": "code",
      "metadata": {
        "id": "eEtrzjzseUBP",
        "colab_type": "code",
        "colab": {}
      },
      "source": [
        "test['education']=test['education'].fillna(mode(test['education']))\n",
        "test['previous_year_rating']=test['previous_year_rating'].fillna(mode(test['previous_year_rating']))\n",
        "\n",
        "train['education']=train['education'].fillna(mode(train['education']))\n",
        "train['previous_year_rating']=train['previous_year_rating'].fillna(mode(train['previous_year_rating']))\n",
        "\n",
        "test=test.drop('recruitment_channel',axis=1)\n",
        "train=train.drop('recruitment_channel',axis=1)\n",
        "\n",
        "from sklearn.preprocessing import LabelEncoder\n",
        "l=LabelEncoder()\n",
        "a1=train[['department','region','education','gender']]\n",
        "a1=a1.apply(lambda x:l.fit_transform(x))\n",
        "a2=test[['department','region','education','gender']]\n",
        "a2=a2.apply(lambda x:l.fit_transform(x))\n",
        "\n",
        "train[['department','region','education','gender']]=a1\n",
        "test[['department','region','education','gender']]=a2\n",
        "\n",
        "y=train['is_promoted']\n",
        "train=train.drop(['is_promoted'],axis=1)\n",
        "x_train,x_test,x_train_label,x_test_label=train_test_split(train,y,train_size=0.7)"
      ],
      "execution_count": 0,
      "outputs": []
    },
    {
      "cell_type": "code",
      "metadata": {
        "id": "6y8z067IUBRy",
        "colab_type": "code",
        "outputId": "12c40f55-9e4d-4098-909f-e00a64eaed37",
        "colab": {
          "base_uri": "https://localhost:8080/",
          "height": 87
        }
      },
      "source": [
        "train.columns"
      ],
      "execution_count": 0,
      "outputs": [
        {
          "output_type": "execute_result",
          "data": {
            "text/plain": [
              "Index(['employee_id', 'department', 'region', 'education', 'gender',\n",
              "       'no_of_trainings', 'age', 'previous_year_rating', 'length_of_service',\n",
              "       'KPIs_met >80%', 'awards_won?', 'avg_training_score'],\n",
              "      dtype='object')"
            ]
          },
          "metadata": {
            "tags": []
          },
          "execution_count": 69
        }
      ]
    },
    {
      "cell_type": "code",
      "metadata": {
        "id": "dGCzBnY6UzSw",
        "colab_type": "code",
        "colab": {}
      },
      "source": [
        "params = {\n",
        "        'min_child_weight': [1, 5, 10],\n",
        "        'gamma': [0.5, 1, 1.5, 2, 5],\n",
        "        'subsample': [0.6, 0.8, 1.0],\n",
        "        'colsample_bytree': [0.6, 0.8, 1.0],\n",
        "        'max_depth': [3, 4, 5]\n",
        "        }\n",
        "xgb = XGBClassifier(learning_rate=0.02, n_estimators=600, objective='binary:logistic',\n",
        "                    silent=True, nthread=1)\n",
        "folds = 3\n",
        "param_comb = 5\n",
        "\n",
        "skf = StratifiedKFold(n_splits=folds, shuffle = True, random_state = 1001)\n",
        "model = RandomizedSearchCV(xgb, param_distributions=params, n_iter=param_comb, scoring='roc_auc', n_jobs=4, cv=skf.split(x_train,x_train_label), verbose=3, random_state=1001 )"
      ],
      "execution_count": 0,
      "outputs": []
    },
    {
      "cell_type": "code",
      "metadata": {
        "id": "rPufxPrgUg8u",
        "colab_type": "code",
        "outputId": "77964590-ab78-4add-c40b-73f4ce1802a7",
        "colab": {
          "base_uri": "https://localhost:8080/",
          "height": 87
        }
      },
      "source": [
        "model.fit(x_train,x_train_label)\n",
        "predict=model.predict(x_test)\n",
        "print(f1_score(predict,x_test_label))"
      ],
      "execution_count": 0,
      "outputs": [
        {
          "output_type": "stream",
          "text": [
            "Fitting 3 folds for each of 5 candidates, totalling 15 fits\n"
          ],
          "name": "stdout"
        },
        {
          "output_type": "stream",
          "text": [
            "[Parallel(n_jobs=4)]: Using backend LokyBackend with 4 concurrent workers.\n",
            "[Parallel(n_jobs=4)]: Done  15 out of  15 | elapsed:  2.2min finished\n"
          ],
          "name": "stderr"
        },
        {
          "output_type": "stream",
          "text": [
            "0.49363057324840764\n"
          ],
          "name": "stdout"
        }
      ]
    },
    {
      "cell_type": "code",
      "metadata": {
        "id": "TH7cFEbud0-7",
        "colab_type": "code",
        "colab": {}
      },
      "source": [
        "prediction=model.predict(test)\n",
        "df=pd.DataFrame(prediction,test['employee_id'],columns=['is_promoted'])\n",
        "df.to_csv(\"/content/drive/My Drive/Colab Notebooks/hacathon_analytic_vidhya/result.csv\")"
      ],
      "execution_count": 0,
      "outputs": []
    },
    {
      "cell_type": "code",
      "metadata": {
        "id": "KYi-SOLseLSe",
        "colab_type": "code",
        "outputId": "aa20a124-f433-420c-d815-f6186699f985",
        "colab": {
          "base_uri": "https://localhost:8080/",
          "height": 34
        }
      },
      "source": [
        "model=XGBClassifier(max_depth=5,n_estimators=200)\n",
        "model.fit(x_train,x_train_label)\n",
        "predict=model.predict(x_test)\n",
        "print(f1_score(predict,x_test_label))"
      ],
      "execution_count": 0,
      "outputs": [
        {
          "output_type": "stream",
          "text": [
            "0.5056065239551478\n"
          ],
          "name": "stdout"
        }
      ]
    },
    {
      "cell_type": "markdown",
      "metadata": {
        "id": "V0xvfP92_QYp",
        "colab_type": "text"
      },
      "source": [
        "### Light gbm"
      ]
    },
    {
      "cell_type": "code",
      "metadata": {
        "id": "9wzZGKRxVn1N",
        "colab_type": "code",
        "colab": {}
      },
      "source": [
        "import lightgbm as lgb"
      ],
      "execution_count": 0,
      "outputs": []
    },
    {
      "cell_type": "code",
      "metadata": {
        "id": "7HZHUbBnVvsC",
        "colab_type": "code",
        "colab": {}
      },
      "source": [
        "param={'num_leaves': 31, 'objective': 'binary',\n",
        "'metric': 'auc'}\n",
        "\n",
        "train_data=lgb.Dataset(x_train,label=x_train_label)\n",
        "num_round = 10\n",
        "bst= lgb.train(param, train_data, num_round)\n",
        "lgb.cv(param, train_data, num_round, nfold=5)\n",
        "p=[]\n",
        "prediction=bst.predict(test)\n",
        "for i in range(len(prediction)):\n",
        "  if(i<0.5):\n",
        "    p.append(0)\n",
        "  else:\n",
        "    p.append(1)\n",
        "df=pd.DataFrame(p,test['employee_id'],columns=['is_promoted'])\n",
        "df.to_csv(\"/content/drive/My Drive/Colab Notebooks/hacathon_analytic_vidhya/result.csv\")"
      ],
      "execution_count": 0,
      "outputs": []
    },
    {
      "cell_type": "markdown",
      "metadata": {
        "id": "ZuTo-k3eMieM",
        "colab_type": "text"
      },
      "source": [
        "### CASE imbalance\n",
        "\n",
        "\n"
      ]
    },
    {
      "cell_type": "code",
      "metadata": {
        "id": "FPlPQOvMXgBm",
        "colab_type": "code",
        "outputId": "715b67b1-7834-4025-af57-2648687c1fe0",
        "colab": {
          "base_uri": "https://localhost:8080/",
          "height": 70
        }
      },
      "source": [
        "train['is_promoted'].value_counts()"
      ],
      "execution_count": 0,
      "outputs": [
        {
          "output_type": "execute_result",
          "data": {
            "text/plain": [
              "0    50140\n",
              "1     4668\n",
              "Name: is_promoted, dtype: int64"
            ]
          },
          "metadata": {
            "tags": []
          },
          "execution_count": 32
        }
      ]
    },
    {
      "cell_type": "code",
      "metadata": {
        "id": "hCtynb-9Pa-t",
        "colab_type": "code",
        "colab": {}
      },
      "source": [
        "test['education']=test['education'].fillna(mode(test['education']))\n",
        "test['previous_year_rating']=test['previous_year_rating'].fillna(mode(test['previous_year_rating']))\n",
        "\n",
        "train['education']=train['education'].fillna(mode(train['education']))\n",
        "train['previous_year_rating']=train['previous_year_rating'].fillna(mode(train['previous_year_rating']))\n",
        "\n",
        "from sklearn.preprocessing import LabelEncoder\n",
        "l=LabelEncoder()\n",
        "a1=train[['department','region','education','gender','recruitment_channel']]\n",
        "a1=a1.apply(lambda x:l.fit_transform(x))\n",
        "a2=test[['department','region','education','gender','recruitment_channel']]\n",
        "a2=a2.apply(lambda x:l.fit_transform(x))\n",
        "\n",
        "train[['department','region','education','gender','recruitment_channel']]=a1\n",
        "test[['department','region','education','gender','recruitment_channel']]=a2"
      ],
      "execution_count": 0,
      "outputs": []
    },
    {
      "cell_type": "code",
      "metadata": {
        "id": "3el2u65O9Pml",
        "colab_type": "code",
        "colab": {}
      },
      "source": [
        "import lightgbm as lgb\n",
        "def lgb_f1_score(y_hat, data):\n",
        "    y_true = data.get_label()\n",
        "    y_hat = np.round(y_hat) # scikits f1 doesn't like probabilities\n",
        "    return 'f1', f1_score(y_true, y_hat), True\n",
        "def f(x_train,x_test,x_train_label,x_test_label):\n",
        "  params = {  \n",
        "      \"objective\" : \"binary\",\n",
        "       \"n_estimators\":10000,\n",
        "       \"reg_alpha\" : 0.1,\n",
        "       \"reg_lambda\":0.1,\n",
        "       \"n_jobs\":-1,\n",
        "       \"colsample_bytree\":.8,\n",
        "       \"min_child_weight\":8,\n",
        "       \"subsample\":0.8715623,\n",
        "       \"min_data_in_leaf\":100,\n",
        "       \"nthread\":4,\n",
        "       \"metric\" : \"f1\",\n",
        "       \"num_leaves\" : 600,\n",
        "       \"learning_rate\" : 0.01,\n",
        "       \"verbosity\" : -1,\n",
        "       \"seed\": 120,\n",
        "       \"max_bin\":60,\n",
        "       'max_depth':15,\n",
        "       'min_gain_to_split':.0222415,\n",
        "       'scale_pos_weight':2  \n",
        "  }\n",
        "  lgtrain = lgb.Dataset(x_train, label=x_train_label)\n",
        "  lgval = lgb.Dataset(x_test, label=x_test_label)\n",
        "  evals_result = {}\n",
        "  model = lgb.train(params, lgtrain, 10000, \n",
        "                      valid_sets=[lgtrain, lgval], \n",
        "                      early_stopping_rounds=100, \n",
        "                      verbose_eval=100, \n",
        "                      evals_result=evals_result,feval=lgb_f1_score)\n",
        "  pred_test_y = model.predict(test.values, num_iteration=model.best_iteration)\n",
        "  p=[]\n",
        "  for i in pred_test_y:\n",
        "    if(i<0.5):\n",
        "      p.append(0)\n",
        "    else:\n",
        "      p.append(1)\n",
        "  return(p)"
      ],
      "execution_count": 0,
      "outputs": []
    },
    {
      "cell_type": "code",
      "metadata": {
        "id": "xCTIcWl9MguW",
        "colab_type": "code",
        "outputId": "40cd71a8-cd5e-49cb-8343-ee6384d8592b",
        "colab": {
          "base_uri": "https://localhost:8080/",
          "height": 1000
        }
      },
      "source": [
        "#1200,5000, 3000,10000  \n",
        "\n",
        "pre=[]\n",
        "for i in range(50):\n",
        "  data=train[train['is_promoted']==1].sample(n=1200)\n",
        "  data1=train[train['is_promoted']==0].sample(n=5000)\n",
        "  data3=pd.concat([data1,data])\n",
        "\n",
        "  y=data3['is_promoted']\n",
        "  data3=data3.drop(['is_promoted'],axis=1)\n",
        "  x_train,x_test,x_train_label,x_test_label=train_test_split(data3,y,train_size=0.7)\n",
        "\n",
        "  #model=XGBClassifier(max_depth=3,n_estimators=500)\n",
        "  #model.fit(x_train,x_train_label)\n",
        "  #predict=model.predict(x_test)\n",
        "  #print(f1_score(predict,x_test_label))\n",
        "  \n",
        "  \n",
        "  p=f(x_train,x_test,x_train_label,x_test_label)\n",
        "\n",
        "  p=model.predict(test)\n",
        "  pre.append(p)"
      ],
      "execution_count": 0,
      "outputs": [
        {
          "output_type": "stream",
          "text": [
            "/usr/local/lib/python3.6/dist-packages/lightgbm/engine.py:118: UserWarning: Found `n_estimators` in params. Will use it instead of argument\n",
            "  warnings.warn(\"Found `{}` in params. Will use it instead of argument\".format(alias))\n",
            "/usr/local/lib/python3.6/dist-packages/sklearn/metrics/classification.py:1437: UndefinedMetricWarning: F-score is ill-defined and being set to 0.0 due to no predicted samples.\n",
            "  'precision', 'predicted', average, warn_for)\n"
          ],
          "name": "stderr"
        },
        {
          "output_type": "stream",
          "text": [
            "Training until validation scores don't improve for 100 rounds.\n",
            "[100]\ttraining's f1: 0.296736\tvalid_1's f1: 0.310421\n",
            "[200]\ttraining's f1: 0.617564\tvalid_1's f1: 0.525084\n",
            "[300]\ttraining's f1: 0.69335\tvalid_1's f1: 0.606936\n",
            "[400]\ttraining's f1: 0.714286\tvalid_1's f1: 0.611898\n",
            "[500]\ttraining's f1: 0.730588\tvalid_1's f1: 0.627451\n",
            "[600]\ttraining's f1: 0.747785\tvalid_1's f1: 0.627615\n",
            "[700]\ttraining's f1: 0.769501\tvalid_1's f1: 0.626573\n",
            "Early stopping, best iteration is:\n",
            "[600]\ttraining's f1: 0.747785\tvalid_1's f1: 0.627615\n"
          ],
          "name": "stdout"
        },
        {
          "output_type": "stream",
          "text": [
            "/usr/local/lib/python3.6/dist-packages/lightgbm/engine.py:118: UserWarning: Found `n_estimators` in params. Will use it instead of argument\n",
            "  warnings.warn(\"Found `{}` in params. Will use it instead of argument\".format(alias))\n",
            "/usr/local/lib/python3.6/dist-packages/sklearn/metrics/classification.py:1437: UndefinedMetricWarning: F-score is ill-defined and being set to 0.0 due to no predicted samples.\n",
            "  'precision', 'predicted', average, warn_for)\n"
          ],
          "name": "stderr"
        },
        {
          "output_type": "stream",
          "text": [
            "Training until validation scores don't improve for 100 rounds.\n",
            "[100]\ttraining's f1: 0.324056\tvalid_1's f1: 0.307692\n",
            "[200]\ttraining's f1: 0.594711\tvalid_1's f1: 0.506211\n",
            "[300]\ttraining's f1: 0.665834\tvalid_1's f1: 0.557241\n",
            "[400]\ttraining's f1: 0.693829\tvalid_1's f1: 0.583222\n",
            "[500]\ttraining's f1: 0.716892\tvalid_1's f1: 0.595745\n",
            "[600]\ttraining's f1: 0.729314\tvalid_1's f1: 0.605405\n",
            "[700]\ttraining's f1: 0.749266\tvalid_1's f1: 0.608931\n",
            "[800]\ttraining's f1: 0.765432\tvalid_1's f1: 0.619112\n",
            "[900]\ttraining's f1: 0.779859\tvalid_1's f1: 0.621803\n",
            "Early stopping, best iteration is:\n",
            "[893]\ttraining's f1: 0.778233\tvalid_1's f1: 0.623482\n"
          ],
          "name": "stdout"
        },
        {
          "output_type": "stream",
          "text": [
            "/usr/local/lib/python3.6/dist-packages/lightgbm/engine.py:118: UserWarning: Found `n_estimators` in params. Will use it instead of argument\n",
            "  warnings.warn(\"Found `{}` in params. Will use it instead of argument\".format(alias))\n",
            "/usr/local/lib/python3.6/dist-packages/sklearn/metrics/classification.py:1437: UndefinedMetricWarning: F-score is ill-defined and being set to 0.0 due to no predicted samples.\n",
            "  'precision', 'predicted', average, warn_for)\n"
          ],
          "name": "stderr"
        },
        {
          "output_type": "stream",
          "text": [
            "Training until validation scores don't improve for 100 rounds.\n",
            "[100]\ttraining's f1: 0.331395\tvalid_1's f1: 0.231884\n",
            "[200]\ttraining's f1: 0.583807\tvalid_1's f1: 0.465608\n",
            "[300]\ttraining's f1: 0.686456\tvalid_1's f1: 0.557377\n",
            "[400]\ttraining's f1: 0.716064\tvalid_1's f1: 0.562054\n",
            "Early stopping, best iteration is:\n",
            "[334]\ttraining's f1: 0.697136\tvalid_1's f1: 0.572271\n"
          ],
          "name": "stdout"
        },
        {
          "output_type": "stream",
          "text": [
            "/usr/local/lib/python3.6/dist-packages/lightgbm/engine.py:118: UserWarning: Found `n_estimators` in params. Will use it instead of argument\n",
            "  warnings.warn(\"Found `{}` in params. Will use it instead of argument\".format(alias))\n",
            "/usr/local/lib/python3.6/dist-packages/sklearn/metrics/classification.py:1437: UndefinedMetricWarning: F-score is ill-defined and being set to 0.0 due to no predicted samples.\n",
            "  'precision', 'predicted', average, warn_for)\n"
          ],
          "name": "stderr"
        },
        {
          "output_type": "stream",
          "text": [
            "Training until validation scores don't improve for 100 rounds.\n",
            "[100]\ttraining's f1: 0.275932\tvalid_1's f1: 0.321586\n",
            "[200]\ttraining's f1: 0.559371\tvalid_1's f1: 0.493671\n",
            "[300]\ttraining's f1: 0.64625\tvalid_1's f1: 0.534459\n",
            "[400]\ttraining's f1: 0.688134\tvalid_1's f1: 0.557951\n",
            "[500]\ttraining's f1: 0.720468\tvalid_1's f1: 0.583443\n",
            "[600]\ttraining's f1: 0.742424\tvalid_1's f1: 0.591623\n",
            "Early stopping, best iteration is:\n",
            "[545]\ttraining's f1: 0.731536\tvalid_1's f1: 0.592689\n"
          ],
          "name": "stdout"
        },
        {
          "output_type": "stream",
          "text": [
            "/usr/local/lib/python3.6/dist-packages/lightgbm/engine.py:118: UserWarning: Found `n_estimators` in params. Will use it instead of argument\n",
            "  warnings.warn(\"Found `{}` in params. Will use it instead of argument\".format(alias))\n",
            "/usr/local/lib/python3.6/dist-packages/sklearn/metrics/classification.py:1437: UndefinedMetricWarning: F-score is ill-defined and being set to 0.0 due to no predicted samples.\n",
            "  'precision', 'predicted', average, warn_for)\n"
          ],
          "name": "stderr"
        },
        {
          "output_type": "stream",
          "text": [
            "Training until validation scores don't improve for 100 rounds.\n",
            "[100]\ttraining's f1: 0.29899\tvalid_1's f1: 0.297297\n",
            "[200]\ttraining's f1: 0.602011\tvalid_1's f1: 0.507463\n",
            "[300]\ttraining's f1: 0.680564\tvalid_1's f1: 0.575035\n",
            "[400]\ttraining's f1: 0.710605\tvalid_1's f1: 0.610667\n",
            "[500]\ttraining's f1: 0.739079\tvalid_1's f1: 0.618037\n",
            "Early stopping, best iteration is:\n",
            "[483]\ttraining's f1: 0.733294\tvalid_1's f1: 0.620872\n"
          ],
          "name": "stdout"
        },
        {
          "output_type": "stream",
          "text": [
            "/usr/local/lib/python3.6/dist-packages/lightgbm/engine.py:118: UserWarning: Found `n_estimators` in params. Will use it instead of argument\n",
            "  warnings.warn(\"Found `{}` in params. Will use it instead of argument\".format(alias))\n",
            "/usr/local/lib/python3.6/dist-packages/sklearn/metrics/classification.py:1437: UndefinedMetricWarning: F-score is ill-defined and being set to 0.0 due to no predicted samples.\n",
            "  'precision', 'predicted', average, warn_for)\n"
          ],
          "name": "stderr"
        },
        {
          "output_type": "stream",
          "text": [
            "Training until validation scores don't improve for 100 rounds.\n",
            "[100]\ttraining's f1: 0.285435\tvalid_1's f1: 0.240602\n",
            "[200]\ttraining's f1: 0.619792\tvalid_1's f1: 0.467577\n",
            "[300]\ttraining's f1: 0.6609\tvalid_1's f1: 0.520059\n",
            "[400]\ttraining's f1: 0.694878\tvalid_1's f1: 0.545977\n",
            "Early stopping, best iteration is:\n",
            "[389]\ttraining's f1: 0.694059\tvalid_1's f1: 0.551429\n"
          ],
          "name": "stdout"
        },
        {
          "output_type": "stream",
          "text": [
            "/usr/local/lib/python3.6/dist-packages/lightgbm/engine.py:118: UserWarning: Found `n_estimators` in params. Will use it instead of argument\n",
            "  warnings.warn(\"Found `{}` in params. Will use it instead of argument\".format(alias))\n",
            "/usr/local/lib/python3.6/dist-packages/sklearn/metrics/classification.py:1437: UndefinedMetricWarning: F-score is ill-defined and being set to 0.0 due to no predicted samples.\n",
            "  'precision', 'predicted', average, warn_for)\n"
          ],
          "name": "stderr"
        },
        {
          "output_type": "stream",
          "text": [
            "Training until validation scores don't improve for 100 rounds.\n",
            "[100]\ttraining's f1: 0.330401\tvalid_1's f1: 0.315335\n",
            "[200]\ttraining's f1: 0.580468\tvalid_1's f1: 0.488095\n",
            "[300]\ttraining's f1: 0.652619\tvalid_1's f1: 0.544966\n",
            "[400]\ttraining's f1: 0.689895\tvalid_1's f1: 0.548303\n",
            "Early stopping, best iteration is:\n",
            "[316]\ttraining's f1: 0.660682\tvalid_1's f1: 0.552457\n"
          ],
          "name": "stdout"
        },
        {
          "output_type": "stream",
          "text": [
            "/usr/local/lib/python3.6/dist-packages/lightgbm/engine.py:118: UserWarning: Found `n_estimators` in params. Will use it instead of argument\n",
            "  warnings.warn(\"Found `{}` in params. Will use it instead of argument\".format(alias))\n",
            "/usr/local/lib/python3.6/dist-packages/sklearn/metrics/classification.py:1437: UndefinedMetricWarning: F-score is ill-defined and being set to 0.0 due to no predicted samples.\n",
            "  'precision', 'predicted', average, warn_for)\n"
          ],
          "name": "stderr"
        },
        {
          "output_type": "stream",
          "text": [
            "Training until validation scores don't improve for 100 rounds.\n",
            "[100]\ttraining's f1: 0.271903\tvalid_1's f1: 0.267281\n",
            "[200]\ttraining's f1: 0.59593\tvalid_1's f1: 0.464716\n",
            "[300]\ttraining's f1: 0.691646\tvalid_1's f1: 0.537911\n",
            "[400]\ttraining's f1: 0.715629\tvalid_1's f1: 0.551247\n",
            "[500]\ttraining's f1: 0.742066\tvalid_1's f1: 0.551075\n",
            "[600]\ttraining's f1: 0.764265\tvalid_1's f1: 0.5722\n",
            "[700]\ttraining's f1: 0.780909\tvalid_1's f1: 0.568707\n",
            "Early stopping, best iteration is:\n",
            "[613]\ttraining's f1: 0.764876\tvalid_1's f1: 0.575676\n"
          ],
          "name": "stdout"
        },
        {
          "output_type": "stream",
          "text": [
            "/usr/local/lib/python3.6/dist-packages/lightgbm/engine.py:118: UserWarning: Found `n_estimators` in params. Will use it instead of argument\n",
            "  warnings.warn(\"Found `{}` in params. Will use it instead of argument\".format(alias))\n",
            "/usr/local/lib/python3.6/dist-packages/sklearn/metrics/classification.py:1437: UndefinedMetricWarning: F-score is ill-defined and being set to 0.0 due to no predicted samples.\n",
            "  'precision', 'predicted', average, warn_for)\n"
          ],
          "name": "stderr"
        },
        {
          "output_type": "stream",
          "text": [
            "Training until validation scores don't improve for 100 rounds.\n",
            "[100]\ttraining's f1: 0.27532\tvalid_1's f1: 0.250627\n",
            "[200]\ttraining's f1: 0.628684\tvalid_1's f1: 0.516129\n",
            "[300]\ttraining's f1: 0.690338\tvalid_1's f1: 0.55794\n",
            "[400]\ttraining's f1: 0.720996\tvalid_1's f1: 0.567867\n",
            "[500]\ttraining's f1: 0.741321\tvalid_1's f1: 0.564384\n",
            "Early stopping, best iteration is:\n",
            "[442]\ttraining's f1: 0.731653\tvalid_1's f1: 0.573388\n"
          ],
          "name": "stdout"
        },
        {
          "output_type": "stream",
          "text": [
            "/usr/local/lib/python3.6/dist-packages/lightgbm/engine.py:118: UserWarning: Found `n_estimators` in params. Will use it instead of argument\n",
            "  warnings.warn(\"Found `{}` in params. Will use it instead of argument\".format(alias))\n",
            "/usr/local/lib/python3.6/dist-packages/sklearn/metrics/classification.py:1437: UndefinedMetricWarning: F-score is ill-defined and being set to 0.0 due to no predicted samples.\n",
            "  'precision', 'predicted', average, warn_for)\n"
          ],
          "name": "stderr"
        },
        {
          "output_type": "stream",
          "text": [
            "Training until validation scores don't improve for 100 rounds.\n",
            "[100]\ttraining's f1: 0.333016\tvalid_1's f1: 0.285036\n",
            "[200]\ttraining's f1: 0.591724\tvalid_1's f1: 0.480969\n",
            "[300]\ttraining's f1: 0.671894\tvalid_1's f1: 0.538813\n",
            "[400]\ttraining's f1: 0.710725\tvalid_1's f1: 0.572674\n",
            "[500]\ttraining's f1: 0.729131\tvalid_1's f1: 0.595136\n",
            "[600]\ttraining's f1: 0.744027\tvalid_1's f1: 0.594828\n",
            "Early stopping, best iteration is:\n",
            "[561]\ttraining's f1: 0.737798\tvalid_1's f1: 0.600284\n"
          ],
          "name": "stdout"
        },
        {
          "output_type": "stream",
          "text": [
            "/usr/local/lib/python3.6/dist-packages/lightgbm/engine.py:118: UserWarning: Found `n_estimators` in params. Will use it instead of argument\n",
            "  warnings.warn(\"Found `{}` in params. Will use it instead of argument\".format(alias))\n",
            "/usr/local/lib/python3.6/dist-packages/sklearn/metrics/classification.py:1437: UndefinedMetricWarning: F-score is ill-defined and being set to 0.0 due to no predicted samples.\n",
            "  'precision', 'predicted', average, warn_for)\n"
          ],
          "name": "stderr"
        },
        {
          "output_type": "stream",
          "text": [
            "Training until validation scores don't improve for 100 rounds.\n",
            "[100]\ttraining's f1: 0.340111\tvalid_1's f1: 0.293839\n",
            "[200]\ttraining's f1: 0.592395\tvalid_1's f1: 0.488599\n",
            "[300]\ttraining's f1: 0.676488\tvalid_1's f1: 0.538235\n",
            "[400]\ttraining's f1: 0.713004\tvalid_1's f1: 0.54979\n",
            "[500]\ttraining's f1: 0.726363\tvalid_1's f1: 0.570629\n",
            "[600]\ttraining's f1: 0.756396\tvalid_1's f1: 0.587744\n",
            "[700]\ttraining's f1: 0.77154\tvalid_1's f1: 0.602241\n",
            "[800]\ttraining's f1: 0.783814\tvalid_1's f1: 0.604457\n",
            "[900]\ttraining's f1: 0.79735\tvalid_1's f1: 0.614108\n",
            "[1000]\ttraining's f1: 0.81457\tvalid_1's f1: 0.604138\n",
            "Early stopping, best iteration is:\n",
            "[934]\ttraining's f1: 0.803759\tvalid_1's f1: 0.617729\n"
          ],
          "name": "stdout"
        },
        {
          "output_type": "stream",
          "text": [
            "/usr/local/lib/python3.6/dist-packages/lightgbm/engine.py:118: UserWarning: Found `n_estimators` in params. Will use it instead of argument\n",
            "  warnings.warn(\"Found `{}` in params. Will use it instead of argument\".format(alias))\n",
            "/usr/local/lib/python3.6/dist-packages/sklearn/metrics/classification.py:1437: UndefinedMetricWarning: F-score is ill-defined and being set to 0.0 due to no predicted samples.\n",
            "  'precision', 'predicted', average, warn_for)\n"
          ],
          "name": "stderr"
        },
        {
          "output_type": "stream",
          "text": [
            "Training until validation scores don't improve for 100 rounds.\n",
            "[100]\ttraining's f1: 0.30099\tvalid_1's f1: 0.369231\n",
            "[200]\ttraining's f1: 0.577394\tvalid_1's f1: 0.516351\n",
            "[300]\ttraining's f1: 0.694514\tvalid_1's f1: 0.566814\n",
            "[400]\ttraining's f1: 0.72043\tvalid_1's f1: 0.603043\n",
            "[500]\ttraining's f1: 0.739079\tvalid_1's f1: 0.600823\n",
            "[600]\ttraining's f1: 0.754982\tvalid_1's f1: 0.608696\n",
            "Early stopping, best iteration is:\n",
            "[567]\ttraining's f1: 0.752499\tvalid_1's f1: 0.614754\n"
          ],
          "name": "stdout"
        },
        {
          "output_type": "stream",
          "text": [
            "/usr/local/lib/python3.6/dist-packages/lightgbm/engine.py:118: UserWarning: Found `n_estimators` in params. Will use it instead of argument\n",
            "  warnings.warn(\"Found `{}` in params. Will use it instead of argument\".format(alias))\n",
            "/usr/local/lib/python3.6/dist-packages/sklearn/metrics/classification.py:1437: UndefinedMetricWarning: F-score is ill-defined and being set to 0.0 due to no predicted samples.\n",
            "  'precision', 'predicted', average, warn_for)\n"
          ],
          "name": "stderr"
        },
        {
          "output_type": "stream",
          "text": [
            "Training until validation scores don't improve for 100 rounds.\n",
            "[100]\ttraining's f1: 0.306796\tvalid_1's f1: 0.281755\n",
            "[200]\ttraining's f1: 0.598611\tvalid_1's f1: 0.465364\n",
            "[300]\ttraining's f1: 0.674787\tvalid_1's f1: 0.549254\n",
            "[400]\ttraining's f1: 0.708309\tvalid_1's f1: 0.549356\n",
            "[500]\ttraining's f1: 0.723454\tvalid_1's f1: 0.570213\n",
            "[600]\ttraining's f1: 0.748395\tvalid_1's f1: 0.575071\n",
            "Early stopping, best iteration is:\n",
            "[591]\ttraining's f1: 0.74519\tvalid_1's f1: 0.575887\n"
          ],
          "name": "stdout"
        },
        {
          "output_type": "stream",
          "text": [
            "/usr/local/lib/python3.6/dist-packages/lightgbm/engine.py:118: UserWarning: Found `n_estimators` in params. Will use it instead of argument\n",
            "  warnings.warn(\"Found `{}` in params. Will use it instead of argument\".format(alias))\n",
            "/usr/local/lib/python3.6/dist-packages/sklearn/metrics/classification.py:1437: UndefinedMetricWarning: F-score is ill-defined and being set to 0.0 due to no predicted samples.\n",
            "  'precision', 'predicted', average, warn_for)\n"
          ],
          "name": "stderr"
        },
        {
          "output_type": "stream",
          "text": [
            "Training until validation scores don't improve for 100 rounds.\n",
            "[100]\ttraining's f1: 0.320773\tvalid_1's f1: 0.283063\n",
            "[200]\ttraining's f1: 0.616467\tvalid_1's f1: 0.472973\n",
            "[300]\ttraining's f1: 0.683498\tvalid_1's f1: 0.538905\n",
            "[400]\ttraining's f1: 0.701484\tvalid_1's f1: 0.54242\n",
            "Early stopping, best iteration is:\n",
            "[334]\ttraining's f1: 0.696548\tvalid_1's f1: 0.549296\n"
          ],
          "name": "stdout"
        },
        {
          "output_type": "stream",
          "text": [
            "/usr/local/lib/python3.6/dist-packages/lightgbm/engine.py:118: UserWarning: Found `n_estimators` in params. Will use it instead of argument\n",
            "  warnings.warn(\"Found `{}` in params. Will use it instead of argument\".format(alias))\n",
            "/usr/local/lib/python3.6/dist-packages/sklearn/metrics/classification.py:1437: UndefinedMetricWarning: F-score is ill-defined and being set to 0.0 due to no predicted samples.\n",
            "  'precision', 'predicted', average, warn_for)\n"
          ],
          "name": "stderr"
        },
        {
          "output_type": "stream",
          "text": [
            "Training until validation scores don't improve for 100 rounds.\n",
            "[100]\ttraining's f1: 0.327962\tvalid_1's f1: 0.272076\n",
            "[200]\ttraining's f1: 0.608812\tvalid_1's f1: 0.520868\n",
            "[300]\ttraining's f1: 0.676242\tvalid_1's f1: 0.582353\n",
            "[400]\ttraining's f1: 0.699708\tvalid_1's f1: 0.581921\n",
            "Early stopping, best iteration is:\n",
            "[344]\ttraining's f1: 0.691809\tvalid_1's f1: 0.590258\n"
          ],
          "name": "stdout"
        },
        {
          "output_type": "stream",
          "text": [
            "/usr/local/lib/python3.6/dist-packages/lightgbm/engine.py:118: UserWarning: Found `n_estimators` in params. Will use it instead of argument\n",
            "  warnings.warn(\"Found `{}` in params. Will use it instead of argument\".format(alias))\n",
            "/usr/local/lib/python3.6/dist-packages/sklearn/metrics/classification.py:1437: UndefinedMetricWarning: F-score is ill-defined and being set to 0.0 due to no predicted samples.\n",
            "  'precision', 'predicted', average, warn_for)\n"
          ],
          "name": "stderr"
        },
        {
          "output_type": "stream",
          "text": [
            "Training until validation scores don't improve for 100 rounds.\n",
            "[100]\ttraining's f1: 0.289628\tvalid_1's f1: 0.237864\n",
            "[200]\ttraining's f1: 0.584677\tvalid_1's f1: 0.460548\n",
            "[300]\ttraining's f1: 0.674825\tvalid_1's f1: 0.515021\n",
            "[400]\ttraining's f1: 0.706479\tvalid_1's f1: 0.538988\n",
            "[500]\ttraining's f1: 0.735441\tvalid_1's f1: 0.550802\n",
            "Early stopping, best iteration is:\n",
            "[476]\ttraining's f1: 0.732629\tvalid_1's f1: 0.559572\n"
          ],
          "name": "stdout"
        },
        {
          "output_type": "stream",
          "text": [
            "/usr/local/lib/python3.6/dist-packages/lightgbm/engine.py:118: UserWarning: Found `n_estimators` in params. Will use it instead of argument\n",
            "  warnings.warn(\"Found `{}` in params. Will use it instead of argument\".format(alias))\n",
            "/usr/local/lib/python3.6/dist-packages/sklearn/metrics/classification.py:1437: UndefinedMetricWarning: F-score is ill-defined and being set to 0.0 due to no predicted samples.\n",
            "  'precision', 'predicted', average, warn_for)\n"
          ],
          "name": "stderr"
        },
        {
          "output_type": "stream",
          "text": [
            "Training until validation scores don't improve for 100 rounds.\n",
            "[100]\ttraining's f1: 0.30489\tvalid_1's f1: 0.308756\n",
            "[200]\ttraining's f1: 0.609227\tvalid_1's f1: 0.516963\n",
            "[300]\ttraining's f1: 0.676259\tvalid_1's f1: 0.56241\n",
            "[400]\ttraining's f1: 0.714943\tvalid_1's f1: 0.571429\n",
            "[500]\ttraining's f1: 0.738028\tvalid_1's f1: 0.5722\n",
            "[600]\ttraining's f1: 0.758814\tvalid_1's f1: 0.579088\n",
            "[700]\ttraining's f1: 0.777342\tvalid_1's f1: 0.586345\n",
            "Early stopping, best iteration is:\n",
            "[673]\ttraining's f1: 0.774846\tvalid_1's f1: 0.59012\n"
          ],
          "name": "stdout"
        },
        {
          "output_type": "stream",
          "text": [
            "/usr/local/lib/python3.6/dist-packages/lightgbm/engine.py:118: UserWarning: Found `n_estimators` in params. Will use it instead of argument\n",
            "  warnings.warn(\"Found `{}` in params. Will use it instead of argument\".format(alias))\n",
            "/usr/local/lib/python3.6/dist-packages/sklearn/metrics/classification.py:1437: UndefinedMetricWarning: F-score is ill-defined and being set to 0.0 due to no predicted samples.\n",
            "  'precision', 'predicted', average, warn_for)\n"
          ],
          "name": "stderr"
        },
        {
          "output_type": "stream",
          "text": [
            "Training until validation scores don't improve for 100 rounds.\n",
            "[100]\ttraining's f1: 0.291545\tvalid_1's f1: 0.243902\n",
            "[200]\ttraining's f1: 0.625759\tvalid_1's f1: 0.480274\n",
            "[300]\ttraining's f1: 0.693805\tvalid_1's f1: 0.539259\n",
            "[400]\ttraining's f1: 0.724355\tvalid_1's f1: 0.543385\n",
            "Early stopping, best iteration is:\n",
            "[373]\ttraining's f1: 0.722158\tvalid_1's f1: 0.553495\n"
          ],
          "name": "stdout"
        },
        {
          "output_type": "stream",
          "text": [
            "/usr/local/lib/python3.6/dist-packages/lightgbm/engine.py:118: UserWarning: Found `n_estimators` in params. Will use it instead of argument\n",
            "  warnings.warn(\"Found `{}` in params. Will use it instead of argument\".format(alias))\n",
            "/usr/local/lib/python3.6/dist-packages/sklearn/metrics/classification.py:1437: UndefinedMetricWarning: F-score is ill-defined and being set to 0.0 due to no predicted samples.\n",
            "  'precision', 'predicted', average, warn_for)\n"
          ],
          "name": "stderr"
        },
        {
          "output_type": "stream",
          "text": [
            "Training until validation scores don't improve for 100 rounds.\n",
            "[100]\ttraining's f1: 0.310448\tvalid_1's f1: 0.314159\n",
            "[200]\ttraining's f1: 0.613428\tvalid_1's f1: 0.519868\n",
            "[300]\ttraining's f1: 0.68162\tvalid_1's f1: 0.582242\n",
            "[400]\ttraining's f1: 0.711966\tvalid_1's f1: 0.593438\n",
            "[500]\ttraining's f1: 0.729537\tvalid_1's f1: 0.597222\n",
            "Early stopping, best iteration is:\n",
            "[431]\ttraining's f1: 0.71743\tvalid_1's f1: 0.603086\n"
          ],
          "name": "stdout"
        },
        {
          "output_type": "stream",
          "text": [
            "/usr/local/lib/python3.6/dist-packages/lightgbm/engine.py:118: UserWarning: Found `n_estimators` in params. Will use it instead of argument\n",
            "  warnings.warn(\"Found `{}` in params. Will use it instead of argument\".format(alias))\n",
            "/usr/local/lib/python3.6/dist-packages/sklearn/metrics/classification.py:1437: UndefinedMetricWarning: F-score is ill-defined and being set to 0.0 due to no predicted samples.\n",
            "  'precision', 'predicted', average, warn_for)\n"
          ],
          "name": "stderr"
        },
        {
          "output_type": "stream",
          "text": [
            "Training until validation scores don't improve for 100 rounds.\n",
            "[100]\ttraining's f1: 0.33557\tvalid_1's f1: 0.297872\n",
            "[200]\ttraining's f1: 0.600269\tvalid_1's f1: 0.476346\n",
            "[300]\ttraining's f1: 0.668235\tvalid_1's f1: 0.525108\n",
            "[400]\ttraining's f1: 0.701357\tvalid_1's f1: 0.533149\n",
            "[500]\ttraining's f1: 0.731461\tvalid_1's f1: 0.545455\n",
            "[600]\ttraining's f1: 0.751701\tvalid_1's f1: 0.544966\n",
            "Early stopping, best iteration is:\n",
            "[533]\ttraining's f1: 0.738911\tvalid_1's f1: 0.552737\n"
          ],
          "name": "stdout"
        },
        {
          "output_type": "stream",
          "text": [
            "/usr/local/lib/python3.6/dist-packages/lightgbm/engine.py:118: UserWarning: Found `n_estimators` in params. Will use it instead of argument\n",
            "  warnings.warn(\"Found `{}` in params. Will use it instead of argument\".format(alias))\n",
            "/usr/local/lib/python3.6/dist-packages/sklearn/metrics/classification.py:1437: UndefinedMetricWarning: F-score is ill-defined and being set to 0.0 due to no predicted samples.\n",
            "  'precision', 'predicted', average, warn_for)\n"
          ],
          "name": "stderr"
        },
        {
          "output_type": "stream",
          "text": [
            "Training until validation scores don't improve for 100 rounds.\n",
            "[100]\ttraining's f1: 0.299901\tvalid_1's f1: 0.272109\n",
            "[200]\ttraining's f1: 0.556522\tvalid_1's f1: 0.524306\n",
            "[300]\ttraining's f1: 0.65948\tvalid_1's f1: 0.550232\n",
            "[400]\ttraining's f1: 0.703218\tvalid_1's f1: 0.585859\n",
            "[500]\ttraining's f1: 0.728217\tvalid_1's f1: 0.602273\n",
            "[600]\ttraining's f1: 0.754305\tvalid_1's f1: 0.6\n",
            "Early stopping, best iteration is:\n",
            "[506]\ttraining's f1: 0.733448\tvalid_1's f1: 0.609929\n"
          ],
          "name": "stdout"
        },
        {
          "output_type": "stream",
          "text": [
            "/usr/local/lib/python3.6/dist-packages/lightgbm/engine.py:118: UserWarning: Found `n_estimators` in params. Will use it instead of argument\n",
            "  warnings.warn(\"Found `{}` in params. Will use it instead of argument\".format(alias))\n",
            "/usr/local/lib/python3.6/dist-packages/sklearn/metrics/classification.py:1437: UndefinedMetricWarning: F-score is ill-defined and being set to 0.0 due to no predicted samples.\n",
            "  'precision', 'predicted', average, warn_for)\n"
          ],
          "name": "stderr"
        },
        {
          "output_type": "stream",
          "text": [
            "Training until validation scores don't improve for 100 rounds.\n",
            "[100]\ttraining's f1: 0.304688\tvalid_1's f1: 0.301887\n",
            "[200]\ttraining's f1: 0.601244\tvalid_1's f1: 0.529032\n",
            "[300]\ttraining's f1: 0.695232\tvalid_1's f1: 0.568182\n",
            "[400]\ttraining's f1: 0.717201\tvalid_1's f1: 0.562588\n",
            "Early stopping, best iteration is:\n",
            "[302]\ttraining's f1: 0.694762\tvalid_1's f1: 0.571023\n"
          ],
          "name": "stdout"
        },
        {
          "output_type": "stream",
          "text": [
            "/usr/local/lib/python3.6/dist-packages/lightgbm/engine.py:118: UserWarning: Found `n_estimators` in params. Will use it instead of argument\n",
            "  warnings.warn(\"Found `{}` in params. Will use it instead of argument\".format(alias))\n",
            "/usr/local/lib/python3.6/dist-packages/sklearn/metrics/classification.py:1437: UndefinedMetricWarning: F-score is ill-defined and being set to 0.0 due to no predicted samples.\n",
            "  'precision', 'predicted', average, warn_for)\n"
          ],
          "name": "stderr"
        },
        {
          "output_type": "stream",
          "text": [
            "Training until validation scores don't improve for 100 rounds.\n",
            "[100]\ttraining's f1: 0.336182\tvalid_1's f1: 0.290249\n",
            "[200]\ttraining's f1: 0.569273\tvalid_1's f1: 0.46589\n",
            "[300]\ttraining's f1: 0.67587\tvalid_1's f1: 0.520863\n",
            "[400]\ttraining's f1: 0.721839\tvalid_1's f1: 0.55911\n",
            "[500]\ttraining's f1: 0.745475\tvalid_1's f1: 0.595041\n",
            "[600]\ttraining's f1: 0.759124\tvalid_1's f1: 0.604138\n",
            "[700]\ttraining's f1: 0.783875\tvalid_1's f1: 0.599448\n",
            "Early stopping, best iteration is:\n",
            "[643]\ttraining's f1: 0.773034\tvalid_1's f1: 0.610497\n"
          ],
          "name": "stdout"
        },
        {
          "output_type": "stream",
          "text": [
            "/usr/local/lib/python3.6/dist-packages/lightgbm/engine.py:118: UserWarning: Found `n_estimators` in params. Will use it instead of argument\n",
            "  warnings.warn(\"Found `{}` in params. Will use it instead of argument\".format(alias))\n",
            "/usr/local/lib/python3.6/dist-packages/sklearn/metrics/classification.py:1437: UndefinedMetricWarning: F-score is ill-defined and being set to 0.0 due to no predicted samples.\n",
            "  'precision', 'predicted', average, warn_for)\n"
          ],
          "name": "stderr"
        },
        {
          "output_type": "stream",
          "text": [
            "Training until validation scores don't improve for 100 rounds.\n",
            "[100]\ttraining's f1: 0.248\tvalid_1's f1: 0.269231\n",
            "[200]\ttraining's f1: 0.59181\tvalid_1's f1: 0.490625\n",
            "[300]\ttraining's f1: 0.670534\tvalid_1's f1: 0.554348\n",
            "[400]\ttraining's f1: 0.703333\tvalid_1's f1: 0.570292\n",
            "[500]\ttraining's f1: 0.725371\tvalid_1's f1: 0.586526\n",
            "[600]\ttraining's f1: 0.746301\tvalid_1's f1: 0.596583\n",
            "Early stopping, best iteration is:\n",
            "[549]\ttraining's f1: 0.736264\tvalid_1's f1: 0.600529\n"
          ],
          "name": "stdout"
        },
        {
          "output_type": "stream",
          "text": [
            "/usr/local/lib/python3.6/dist-packages/lightgbm/engine.py:118: UserWarning: Found `n_estimators` in params. Will use it instead of argument\n",
            "  warnings.warn(\"Found `{}` in params. Will use it instead of argument\".format(alias))\n",
            "/usr/local/lib/python3.6/dist-packages/sklearn/metrics/classification.py:1437: UndefinedMetricWarning: F-score is ill-defined and being set to 0.0 due to no predicted samples.\n",
            "  'precision', 'predicted', average, warn_for)\n"
          ],
          "name": "stderr"
        },
        {
          "output_type": "stream",
          "text": [
            "Training until validation scores don't improve for 100 rounds.\n",
            "[100]\ttraining's f1: 0.360834\tvalid_1's f1: 0.304038\n",
            "[200]\ttraining's f1: 0.583113\tvalid_1's f1: 0.470588\n",
            "[300]\ttraining's f1: 0.658796\tvalid_1's f1: 0.532508\n",
            "[400]\ttraining's f1: 0.695357\tvalid_1's f1: 0.549483\n",
            "[500]\ttraining's f1: 0.71317\tvalid_1's f1: 0.545455\n",
            "Early stopping, best iteration is:\n",
            "[470]\ttraining's f1: 0.707399\tvalid_1's f1: 0.555233\n"
          ],
          "name": "stdout"
        },
        {
          "output_type": "stream",
          "text": [
            "/usr/local/lib/python3.6/dist-packages/lightgbm/engine.py:118: UserWarning: Found `n_estimators` in params. Will use it instead of argument\n",
            "  warnings.warn(\"Found `{}` in params. Will use it instead of argument\".format(alias))\n",
            "/usr/local/lib/python3.6/dist-packages/sklearn/metrics/classification.py:1437: UndefinedMetricWarning: F-score is ill-defined and being set to 0.0 due to no predicted samples.\n",
            "  'precision', 'predicted', average, warn_for)\n"
          ],
          "name": "stderr"
        },
        {
          "output_type": "stream",
          "text": [
            "Training until validation scores don't improve for 100 rounds.\n",
            "[100]\ttraining's f1: 0.243299\tvalid_1's f1: 0.260047\n",
            "[200]\ttraining's f1: 0.599592\tvalid_1's f1: 0.5\n",
            "[300]\ttraining's f1: 0.661871\tvalid_1's f1: 0.554598\n",
            "[400]\ttraining's f1: 0.693364\tvalid_1's f1: 0.563536\n",
            "[500]\ttraining's f1: 0.725212\tvalid_1's f1: 0.561308\n",
            "Early stopping, best iteration is:\n",
            "[409]\ttraining's f1: 0.694857\tvalid_1's f1: 0.567901\n"
          ],
          "name": "stdout"
        },
        {
          "output_type": "stream",
          "text": [
            "/usr/local/lib/python3.6/dist-packages/lightgbm/engine.py:118: UserWarning: Found `n_estimators` in params. Will use it instead of argument\n",
            "  warnings.warn(\"Found `{}` in params. Will use it instead of argument\".format(alias))\n",
            "/usr/local/lib/python3.6/dist-packages/sklearn/metrics/classification.py:1437: UndefinedMetricWarning: F-score is ill-defined and being set to 0.0 due to no predicted samples.\n",
            "  'precision', 'predicted', average, warn_for)\n"
          ],
          "name": "stderr"
        },
        {
          "output_type": "stream",
          "text": [
            "Training until validation scores don't improve for 100 rounds.\n",
            "[100]\ttraining's f1: 0.288802\tvalid_1's f1: 0.275058\n",
            "[200]\ttraining's f1: 0.629834\tvalid_1's f1: 0.525963\n",
            "[300]\ttraining's f1: 0.691692\tvalid_1's f1: 0.570149\n",
            "[400]\ttraining's f1: 0.722849\tvalid_1's f1: 0.57554\n",
            "[500]\ttraining's f1: 0.742124\tvalid_1's f1: 0.57632\n",
            "Early stopping, best iteration is:\n",
            "[410]\ttraining's f1: 0.725979\tvalid_1's f1: 0.579251\n"
          ],
          "name": "stdout"
        },
        {
          "output_type": "stream",
          "text": [
            "/usr/local/lib/python3.6/dist-packages/lightgbm/engine.py:118: UserWarning: Found `n_estimators` in params. Will use it instead of argument\n",
            "  warnings.warn(\"Found `{}` in params. Will use it instead of argument\".format(alias))\n",
            "/usr/local/lib/python3.6/dist-packages/sklearn/metrics/classification.py:1437: UndefinedMetricWarning: F-score is ill-defined and being set to 0.0 due to no predicted samples.\n",
            "  'precision', 'predicted', average, warn_for)\n"
          ],
          "name": "stderr"
        },
        {
          "output_type": "stream",
          "text": [
            "Training until validation scores don't improve for 100 rounds.\n",
            "[100]\ttraining's f1: 0.293255\tvalid_1's f1: 0.289157\n",
            "[200]\ttraining's f1: 0.638982\tvalid_1's f1: 0.509532\n",
            "[300]\ttraining's f1: 0.706363\tvalid_1's f1: 0.556213\n",
            "[400]\ttraining's f1: 0.721441\tvalid_1's f1: 0.577525\n",
            "[500]\ttraining's f1: 0.736959\tvalid_1's f1: 0.595804\n",
            "Early stopping, best iteration is:\n",
            "[495]\ttraining's f1: 0.737368\tvalid_1's f1: 0.598601\n"
          ],
          "name": "stdout"
        },
        {
          "output_type": "stream",
          "text": [
            "/usr/local/lib/python3.6/dist-packages/lightgbm/engine.py:118: UserWarning: Found `n_estimators` in params. Will use it instead of argument\n",
            "  warnings.warn(\"Found `{}` in params. Will use it instead of argument\".format(alias))\n",
            "/usr/local/lib/python3.6/dist-packages/sklearn/metrics/classification.py:1437: UndefinedMetricWarning: F-score is ill-defined and being set to 0.0 due to no predicted samples.\n",
            "  'precision', 'predicted', average, warn_for)\n"
          ],
          "name": "stderr"
        },
        {
          "output_type": "stream",
          "text": [
            "Training until validation scores don't improve for 100 rounds.\n",
            "[100]\ttraining's f1: 0.287449\tvalid_1's f1: 0.284444\n",
            "[200]\ttraining's f1: 0.595388\tvalid_1's f1: 0.496795\n",
            "[300]\ttraining's f1: 0.669122\tvalid_1's f1: 0.55618\n",
            "[400]\ttraining's f1: 0.711268\tvalid_1's f1: 0.58498\n",
            "[500]\ttraining's f1: 0.731195\tvalid_1's f1: 0.597132\n",
            "[600]\ttraining's f1: 0.760302\tvalid_1's f1: 0.599222\n",
            "Early stopping, best iteration is:\n",
            "[553]\ttraining's f1: 0.748545\tvalid_1's f1: 0.605744\n"
          ],
          "name": "stdout"
        },
        {
          "output_type": "stream",
          "text": [
            "/usr/local/lib/python3.6/dist-packages/lightgbm/engine.py:118: UserWarning: Found `n_estimators` in params. Will use it instead of argument\n",
            "  warnings.warn(\"Found `{}` in params. Will use it instead of argument\".format(alias))\n",
            "/usr/local/lib/python3.6/dist-packages/sklearn/metrics/classification.py:1437: UndefinedMetricWarning: F-score is ill-defined and being set to 0.0 due to no predicted samples.\n",
            "  'precision', 'predicted', average, warn_for)\n"
          ],
          "name": "stderr"
        },
        {
          "output_type": "stream",
          "text": [
            "Training until validation scores don't improve for 100 rounds.\n",
            "[100]\ttraining's f1: 0.302619\tvalid_1's f1: 0.23753\n",
            "[200]\ttraining's f1: 0.577474\tvalid_1's f1: 0.454389\n",
            "[300]\ttraining's f1: 0.66303\tvalid_1's f1: 0.509924\n",
            "[400]\ttraining's f1: 0.694786\tvalid_1's f1: 0.537092\n",
            "[500]\ttraining's f1: 0.720093\tvalid_1's f1: 0.551622\n",
            "[600]\ttraining's f1: 0.737146\tvalid_1's f1: 0.546512\n",
            "Early stopping, best iteration is:\n",
            "[527]\ttraining's f1: 0.724537\tvalid_1's f1: 0.557185\n"
          ],
          "name": "stdout"
        },
        {
          "output_type": "stream",
          "text": [
            "/usr/local/lib/python3.6/dist-packages/lightgbm/engine.py:118: UserWarning: Found `n_estimators` in params. Will use it instead of argument\n",
            "  warnings.warn(\"Found `{}` in params. Will use it instead of argument\".format(alias))\n",
            "/usr/local/lib/python3.6/dist-packages/sklearn/metrics/classification.py:1437: UndefinedMetricWarning: F-score is ill-defined and being set to 0.0 due to no predicted samples.\n",
            "  'precision', 'predicted', average, warn_for)\n"
          ],
          "name": "stderr"
        },
        {
          "output_type": "stream",
          "text": [
            "Training until validation scores don't improve for 100 rounds.\n",
            "[100]\ttraining's f1: 0.30439\tvalid_1's f1: 0.309795\n",
            "[200]\ttraining's f1: 0.614096\tvalid_1's f1: 0.463816\n",
            "[300]\ttraining's f1: 0.689273\tvalid_1's f1: 0.517045\n",
            "[400]\ttraining's f1: 0.706164\tvalid_1's f1: 0.54321\n",
            "[500]\ttraining's f1: 0.727911\tvalid_1's f1: 0.539084\n",
            "Early stopping, best iteration is:\n",
            "[427]\ttraining's f1: 0.708831\tvalid_1's f1: 0.545953\n"
          ],
          "name": "stdout"
        },
        {
          "output_type": "stream",
          "text": [
            "/usr/local/lib/python3.6/dist-packages/lightgbm/engine.py:118: UserWarning: Found `n_estimators` in params. Will use it instead of argument\n",
            "  warnings.warn(\"Found `{}` in params. Will use it instead of argument\".format(alias))\n",
            "/usr/local/lib/python3.6/dist-packages/sklearn/metrics/classification.py:1437: UndefinedMetricWarning: F-score is ill-defined and being set to 0.0 due to no predicted samples.\n",
            "  'precision', 'predicted', average, warn_for)\n"
          ],
          "name": "stderr"
        },
        {
          "output_type": "stream",
          "text": [
            "Training until validation scores don't improve for 100 rounds.\n",
            "[100]\ttraining's f1: 0.362441\tvalid_1's f1: 0.294931\n",
            "[200]\ttraining's f1: 0.62249\tvalid_1's f1: 0.489465\n",
            "[300]\ttraining's f1: 0.685579\tvalid_1's f1: 0.52602\n",
            "[400]\ttraining's f1: 0.716638\tvalid_1's f1: 0.557823\n",
            "[500]\ttraining's f1: 0.733483\tvalid_1's f1: 0.572193\n",
            "Early stopping, best iteration is:\n",
            "[485]\ttraining's f1: 0.732996\tvalid_1's f1: 0.576408\n"
          ],
          "name": "stdout"
        },
        {
          "output_type": "stream",
          "text": [
            "/usr/local/lib/python3.6/dist-packages/lightgbm/engine.py:118: UserWarning: Found `n_estimators` in params. Will use it instead of argument\n",
            "  warnings.warn(\"Found `{}` in params. Will use it instead of argument\".format(alias))\n",
            "/usr/local/lib/python3.6/dist-packages/sklearn/metrics/classification.py:1437: UndefinedMetricWarning: F-score is ill-defined and being set to 0.0 due to no predicted samples.\n",
            "  'precision', 'predicted', average, warn_for)\n"
          ],
          "name": "stderr"
        },
        {
          "output_type": "stream",
          "text": [
            "Training until validation scores don't improve for 100 rounds.\n",
            "[100]\ttraining's f1: 0.250509\tvalid_1's f1: 0.251208\n",
            "[200]\ttraining's f1: 0.583685\tvalid_1's f1: 0.462633\n",
            "[300]\ttraining's f1: 0.676647\tvalid_1's f1: 0.528529\n",
            "[400]\ttraining's f1: 0.709195\tvalid_1's f1: 0.555556\n",
            "[500]\ttraining's f1: 0.729438\tvalid_1's f1: 0.560669\n",
            "[600]\ttraining's f1: 0.746727\tvalid_1's f1: 0.575035\n",
            "Early stopping, best iteration is:\n",
            "[594]\ttraining's f1: 0.745165\tvalid_1's f1: 0.575843\n"
          ],
          "name": "stdout"
        },
        {
          "output_type": "stream",
          "text": [
            "/usr/local/lib/python3.6/dist-packages/lightgbm/engine.py:118: UserWarning: Found `n_estimators` in params. Will use it instead of argument\n",
            "  warnings.warn(\"Found `{}` in params. Will use it instead of argument\".format(alias))\n",
            "/usr/local/lib/python3.6/dist-packages/sklearn/metrics/classification.py:1437: UndefinedMetricWarning: F-score is ill-defined and being set to 0.0 due to no predicted samples.\n",
            "  'precision', 'predicted', average, warn_for)\n"
          ],
          "name": "stderr"
        },
        {
          "output_type": "stream",
          "text": [
            "Training until validation scores don't improve for 100 rounds.\n",
            "[100]\ttraining's f1: 0.308617\tvalid_1's f1: 0.301969\n",
            "[200]\ttraining's f1: 0.628159\tvalid_1's f1: 0.498316\n",
            "[300]\ttraining's f1: 0.684741\tvalid_1's f1: 0.570175\n",
            "[400]\ttraining's f1: 0.708613\tvalid_1's f1: 0.584488\n",
            "[500]\ttraining's f1: 0.71952\tvalid_1's f1: 0.59726\n",
            "[600]\ttraining's f1: 0.735206\tvalid_1's f1: 0.604082\n",
            "[700]\ttraining's f1: 0.758702\tvalid_1's f1: 0.607629\n",
            "[800]\ttraining's f1: 0.775439\tvalid_1's f1: 0.612466\n",
            "Early stopping, best iteration is:\n",
            "[756]\ttraining's f1: 0.767784\tvalid_1's f1: 0.614344\n"
          ],
          "name": "stdout"
        },
        {
          "output_type": "stream",
          "text": [
            "/usr/local/lib/python3.6/dist-packages/lightgbm/engine.py:118: UserWarning: Found `n_estimators` in params. Will use it instead of argument\n",
            "  warnings.warn(\"Found `{}` in params. Will use it instead of argument\".format(alias))\n",
            "/usr/local/lib/python3.6/dist-packages/sklearn/metrics/classification.py:1437: UndefinedMetricWarning: F-score is ill-defined and being set to 0.0 due to no predicted samples.\n",
            "  'precision', 'predicted', average, warn_for)\n"
          ],
          "name": "stderr"
        },
        {
          "output_type": "stream",
          "text": [
            "Training until validation scores don't improve for 100 rounds.\n",
            "[100]\ttraining's f1: 0.315992\tvalid_1's f1: 0.314554\n",
            "[200]\ttraining's f1: 0.609235\tvalid_1's f1: 0.521886\n",
            "[300]\ttraining's f1: 0.682011\tvalid_1's f1: 0.560358\n",
            "[400]\ttraining's f1: 0.711785\tvalid_1's f1: 0.57265\n",
            "Early stopping, best iteration is:\n",
            "[377]\ttraining's f1: 0.705952\tvalid_1's f1: 0.575931\n"
          ],
          "name": "stdout"
        },
        {
          "output_type": "stream",
          "text": [
            "/usr/local/lib/python3.6/dist-packages/lightgbm/engine.py:118: UserWarning: Found `n_estimators` in params. Will use it instead of argument\n",
            "  warnings.warn(\"Found `{}` in params. Will use it instead of argument\".format(alias))\n",
            "/usr/local/lib/python3.6/dist-packages/sklearn/metrics/classification.py:1437: UndefinedMetricWarning: F-score is ill-defined and being set to 0.0 due to no predicted samples.\n",
            "  'precision', 'predicted', average, warn_for)\n"
          ],
          "name": "stderr"
        },
        {
          "output_type": "stream",
          "text": [
            "Training until validation scores don't improve for 100 rounds.\n",
            "[100]\ttraining's f1: 0.330484\tvalid_1's f1: 0.279412\n",
            "[200]\ttraining's f1: 0.622042\tvalid_1's f1: 0.477462\n",
            "[300]\ttraining's f1: 0.681625\tvalid_1's f1: 0.513514\n",
            "[400]\ttraining's f1: 0.714785\tvalid_1's f1: 0.526167\n",
            "[500]\ttraining's f1: 0.737986\tvalid_1's f1: 0.530154\n",
            "Early stopping, best iteration is:\n",
            "[481]\ttraining's f1: 0.727273\tvalid_1's f1: 0.535764\n"
          ],
          "name": "stdout"
        },
        {
          "output_type": "stream",
          "text": [
            "/usr/local/lib/python3.6/dist-packages/lightgbm/engine.py:118: UserWarning: Found `n_estimators` in params. Will use it instead of argument\n",
            "  warnings.warn(\"Found `{}` in params. Will use it instead of argument\".format(alias))\n",
            "/usr/local/lib/python3.6/dist-packages/sklearn/metrics/classification.py:1437: UndefinedMetricWarning: F-score is ill-defined and being set to 0.0 due to no predicted samples.\n",
            "  'precision', 'predicted', average, warn_for)\n"
          ],
          "name": "stderr"
        },
        {
          "output_type": "stream",
          "text": [
            "Training until validation scores don't improve for 100 rounds.\n",
            "[100]\ttraining's f1: 0.256716\tvalid_1's f1: 0.285047\n",
            "[200]\ttraining's f1: 0.590752\tvalid_1's f1: 0.530885\n",
            "[400]\ttraining's f1: 0.708688\tvalid_1's f1: 0.606648\n",
            "[500]\ttraining's f1: 0.723906\tvalid_1's f1: 0.627235\n",
            "Early stopping, best iteration is:\n",
            "[494]\ttraining's f1: 0.720852\tvalid_1's f1: 0.628099\n"
          ],
          "name": "stdout"
        },
        {
          "output_type": "stream",
          "text": [
            "/usr/local/lib/python3.6/dist-packages/lightgbm/engine.py:118: UserWarning: Found `n_estimators` in params. Will use it instead of argument\n",
            "  warnings.warn(\"Found `{}` in params. Will use it instead of argument\".format(alias))\n",
            "/usr/local/lib/python3.6/dist-packages/sklearn/metrics/classification.py:1437: UndefinedMetricWarning: F-score is ill-defined and being set to 0.0 due to no predicted samples.\n",
            "  'precision', 'predicted', average, warn_for)\n"
          ],
          "name": "stderr"
        },
        {
          "output_type": "stream",
          "text": [
            "Training until validation scores don't improve for 100 rounds.\n",
            "[100]\ttraining's f1: 0.323194\tvalid_1's f1: 0.322148\n",
            "[200]\ttraining's f1: 0.612541\tvalid_1's f1: 0.507987\n",
            "[300]\ttraining's f1: 0.670151\tvalid_1's f1: 0.576653\n",
            "[400]\ttraining's f1: 0.709821\tvalid_1's f1: 0.590604\n",
            "Early stopping, best iteration is:\n",
            "[346]\ttraining's f1: 0.692967\tvalid_1's f1: 0.595336\n"
          ],
          "name": "stdout"
        },
        {
          "output_type": "stream",
          "text": [
            "/usr/local/lib/python3.6/dist-packages/lightgbm/engine.py:118: UserWarning: Found `n_estimators` in params. Will use it instead of argument\n",
            "  warnings.warn(\"Found `{}` in params. Will use it instead of argument\".format(alias))\n",
            "/usr/local/lib/python3.6/dist-packages/sklearn/metrics/classification.py:1437: UndefinedMetricWarning: F-score is ill-defined and being set to 0.0 due to no predicted samples.\n",
            "  'precision', 'predicted', average, warn_for)\n"
          ],
          "name": "stderr"
        },
        {
          "output_type": "stream",
          "text": [
            "Training until validation scores don't improve for 100 rounds.\n",
            "[100]\ttraining's f1: 0.232124\tvalid_1's f1: 0.257471\n",
            "[200]\ttraining's f1: 0.542647\tvalid_1's f1: 0.475043\n",
            "[300]\ttraining's f1: 0.644287\tvalid_1's f1: 0.532725\n",
            "[400]\ttraining's f1: 0.677819\tvalid_1's f1: 0.544656\n",
            "[500]\ttraining's f1: 0.706876\tvalid_1's f1: 0.563739\n",
            "[600]\ttraining's f1: 0.730404\tvalid_1's f1: 0.573427\n",
            "[700]\ttraining's f1: 0.745283\tvalid_1's f1: 0.573407\n",
            "Early stopping, best iteration is:\n",
            "[605]\ttraining's f1: 0.730724\tvalid_1's f1: 0.576602\n"
          ],
          "name": "stdout"
        },
        {
          "output_type": "stream",
          "text": [
            "/usr/local/lib/python3.6/dist-packages/lightgbm/engine.py:118: UserWarning: Found `n_estimators` in params. Will use it instead of argument\n",
            "  warnings.warn(\"Found `{}` in params. Will use it instead of argument\".format(alias))\n",
            "/usr/local/lib/python3.6/dist-packages/sklearn/metrics/classification.py:1437: UndefinedMetricWarning: F-score is ill-defined and being set to 0.0 due to no predicted samples.\n",
            "  'precision', 'predicted', average, warn_for)\n"
          ],
          "name": "stderr"
        },
        {
          "output_type": "stream",
          "text": [
            "Training until validation scores don't improve for 100 rounds.\n",
            "[100]\ttraining's f1: 0.318497\tvalid_1's f1: 0.20595\n",
            "[200]\ttraining's f1: 0.569825\tvalid_1's f1: 0.453202\n",
            "[300]\ttraining's f1: 0.657483\tvalid_1's f1: 0.520468\n",
            "[400]\ttraining's f1: 0.697115\tvalid_1's f1: 0.532213\n",
            "[500]\ttraining's f1: 0.724586\tvalid_1's f1: 0.530387\n",
            "Early stopping, best iteration is:\n",
            "[408]\ttraining's f1: 0.697786\tvalid_1's f1: 0.538569\n"
          ],
          "name": "stdout"
        },
        {
          "output_type": "stream",
          "text": [
            "/usr/local/lib/python3.6/dist-packages/lightgbm/engine.py:118: UserWarning: Found `n_estimators` in params. Will use it instead of argument\n",
            "  warnings.warn(\"Found `{}` in params. Will use it instead of argument\".format(alias))\n",
            "/usr/local/lib/python3.6/dist-packages/sklearn/metrics/classification.py:1437: UndefinedMetricWarning: F-score is ill-defined and being set to 0.0 due to no predicted samples.\n",
            "  'precision', 'predicted', average, warn_for)\n"
          ],
          "name": "stderr"
        },
        {
          "output_type": "stream",
          "text": [
            "Training until validation scores don't improve for 100 rounds.\n",
            "[100]\ttraining's f1: 0.295432\tvalid_1's f1: 0.272076\n",
            "[200]\ttraining's f1: 0.567404\tvalid_1's f1: 0.466667\n",
            "[300]\ttraining's f1: 0.661548\tvalid_1's f1: 0.529086\n",
            "[400]\ttraining's f1: 0.695402\tvalid_1's f1: 0.541272\n",
            "[500]\ttraining's f1: 0.717746\tvalid_1's f1: 0.550532\n",
            "[600]\ttraining's f1: 0.74442\tvalid_1's f1: 0.551724\n",
            "[700]\ttraining's f1: 0.754008\tvalid_1's f1: 0.552632\n",
            "Early stopping, best iteration is:\n",
            "[630]\ttraining's f1: 0.7468\tvalid_1's f1: 0.559682\n"
          ],
          "name": "stdout"
        },
        {
          "output_type": "stream",
          "text": [
            "/usr/local/lib/python3.6/dist-packages/lightgbm/engine.py:118: UserWarning: Found `n_estimators` in params. Will use it instead of argument\n",
            "  warnings.warn(\"Found `{}` in params. Will use it instead of argument\".format(alias))\n",
            "/usr/local/lib/python3.6/dist-packages/sklearn/metrics/classification.py:1437: UndefinedMetricWarning: F-score is ill-defined and being set to 0.0 due to no predicted samples.\n",
            "  'precision', 'predicted', average, warn_for)\n"
          ],
          "name": "stderr"
        },
        {
          "output_type": "stream",
          "text": [
            "Training until validation scores don't improve for 100 rounds.\n",
            "[100]\ttraining's f1: 0.279116\tvalid_1's f1: 0.229829\n",
            "[200]\ttraining's f1: 0.609375\tvalid_1's f1: 0.498246\n",
            "[300]\ttraining's f1: 0.673317\tvalid_1's f1: 0.565284\n",
            "[400]\ttraining's f1: 0.698507\tvalid_1's f1: 0.5693\n",
            "[500]\ttraining's f1: 0.722482\tvalid_1's f1: 0.582723\n",
            "[600]\ttraining's f1: 0.750873\tvalid_1's f1: 0.589595\n",
            "[700]\ttraining's f1: 0.771014\tvalid_1's f1: 0.593123\n",
            "[800]\ttraining's f1: 0.79145\tvalid_1's f1: 0.591631\n",
            "[900]\ttraining's f1: 0.802776\tvalid_1's f1: 0.590778\n",
            "Early stopping, best iteration is:\n",
            "[832]\ttraining's f1: 0.796767\tvalid_1's f1: 0.598561\n"
          ],
          "name": "stdout"
        },
        {
          "output_type": "stream",
          "text": [
            "/usr/local/lib/python3.6/dist-packages/lightgbm/engine.py:118: UserWarning: Found `n_estimators` in params. Will use it instead of argument\n",
            "  warnings.warn(\"Found `{}` in params. Will use it instead of argument\".format(alias))\n",
            "/usr/local/lib/python3.6/dist-packages/sklearn/metrics/classification.py:1437: UndefinedMetricWarning: F-score is ill-defined and being set to 0.0 due to no predicted samples.\n",
            "  'precision', 'predicted', average, warn_for)\n"
          ],
          "name": "stderr"
        },
        {
          "output_type": "stream",
          "text": [
            "Training until validation scores don't improve for 100 rounds.\n",
            "[100]\ttraining's f1: 0.269231\tvalid_1's f1: 0.261062\n",
            "[200]\ttraining's f1: 0.590379\tvalid_1's f1: 0.498316\n",
            "[300]\ttraining's f1: 0.669654\tvalid_1's f1: 0.553571\n",
            "[400]\ttraining's f1: 0.708768\tvalid_1's f1: 0.568571\n",
            "[500]\ttraining's f1: 0.728469\tvalid_1's f1: 0.566667\n",
            "[600]\ttraining's f1: 0.746858\tvalid_1's f1: 0.580468\n",
            "[700]\ttraining's f1: 0.762813\tvalid_1's f1: 0.587106\n",
            "[800]\ttraining's f1: 0.779904\tvalid_1's f1: 0.590971\n",
            "[900]\ttraining's f1: 0.794048\tvalid_1's f1: 0.593197\n",
            "[1000]\ttraining's f1: 0.808989\tvalid_1's f1: 0.603001\n",
            "Early stopping, best iteration is:\n",
            "[980]\ttraining's f1: 0.806852\tvalid_1's f1: 0.603001\n"
          ],
          "name": "stdout"
        },
        {
          "output_type": "stream",
          "text": [
            "/usr/local/lib/python3.6/dist-packages/lightgbm/engine.py:118: UserWarning: Found `n_estimators` in params. Will use it instead of argument\n",
            "  warnings.warn(\"Found `{}` in params. Will use it instead of argument\".format(alias))\n",
            "/usr/local/lib/python3.6/dist-packages/sklearn/metrics/classification.py:1437: UndefinedMetricWarning: F-score is ill-defined and being set to 0.0 due to no predicted samples.\n",
            "  'precision', 'predicted', average, warn_for)\n"
          ],
          "name": "stderr"
        },
        {
          "output_type": "stream",
          "text": [
            "Training until validation scores don't improve for 100 rounds.\n",
            "[100]\ttraining's f1: 0.290416\tvalid_1's f1: 0.233333\n",
            "[200]\ttraining's f1: 0.603279\tvalid_1's f1: 0.493066\n",
            "[300]\ttraining's f1: 0.69874\tvalid_1's f1: 0.531886\n",
            "[400]\ttraining's f1: 0.71925\tvalid_1's f1: 0.553247\n",
            "[500]\ttraining's f1: 0.738798\tvalid_1's f1: 0.568093\n",
            "[600]\ttraining's f1: 0.760394\tvalid_1's f1: 0.56697\n",
            "Early stopping, best iteration is:\n",
            "[538]\ttraining's f1: 0.747133\tvalid_1's f1: 0.570312\n"
          ],
          "name": "stdout"
        },
        {
          "output_type": "stream",
          "text": [
            "/usr/local/lib/python3.6/dist-packages/lightgbm/engine.py:118: UserWarning: Found `n_estimators` in params. Will use it instead of argument\n",
            "  warnings.warn(\"Found `{}` in params. Will use it instead of argument\".format(alias))\n",
            "/usr/local/lib/python3.6/dist-packages/sklearn/metrics/classification.py:1437: UndefinedMetricWarning: F-score is ill-defined and being set to 0.0 due to no predicted samples.\n",
            "  'precision', 'predicted', average, warn_for)\n"
          ],
          "name": "stderr"
        },
        {
          "output_type": "stream",
          "text": [
            "Training until validation scores don't improve for 100 rounds.\n",
            "[100]\ttraining's f1: 0.296875\tvalid_1's f1: 0.278146\n",
            "[200]\ttraining's f1: 0.582418\tvalid_1's f1: 0.421553\n",
            "[300]\ttraining's f1: 0.649666\tvalid_1's f1: 0.477825\n",
            "[400]\ttraining's f1: 0.683186\tvalid_1's f1: 0.514986\n",
            "[500]\ttraining's f1: 0.697376\tvalid_1's f1: 0.537112\n",
            "[600]\ttraining's f1: 0.733068\tvalid_1's f1: 0.534946\n",
            "[700]\ttraining's f1: 0.753143\tvalid_1's f1: 0.546685\n",
            "[800]\ttraining's f1: 0.780126\tvalid_1's f1: 0.548697\n",
            "Early stopping, best iteration is:\n",
            "[761]\ttraining's f1: 0.773272\tvalid_1's f1: 0.555404\n"
          ],
          "name": "stdout"
        },
        {
          "output_type": "stream",
          "text": [
            "/usr/local/lib/python3.6/dist-packages/lightgbm/engine.py:118: UserWarning: Found `n_estimators` in params. Will use it instead of argument\n",
            "  warnings.warn(\"Found `{}` in params. Will use it instead of argument\".format(alias))\n",
            "/usr/local/lib/python3.6/dist-packages/sklearn/metrics/classification.py:1437: UndefinedMetricWarning: F-score is ill-defined and being set to 0.0 due to no predicted samples.\n",
            "  'precision', 'predicted', average, warn_for)\n"
          ],
          "name": "stderr"
        },
        {
          "output_type": "stream",
          "text": [
            "Training until validation scores don't improve for 100 rounds.\n",
            "[100]\ttraining's f1: 0.276795\tvalid_1's f1: 0.244635\n",
            "[200]\ttraining's f1: 0.55306\tvalid_1's f1: 0.504673\n",
            "[300]\ttraining's f1: 0.649773\tvalid_1's f1: 0.568393\n",
            "[400]\ttraining's f1: 0.686177\tvalid_1's f1: 0.570701\n",
            "[500]\ttraining's f1: 0.710542\tvalid_1's f1: 0.584693\n",
            "[600]\ttraining's f1: 0.727603\tvalid_1's f1: 0.591133\n",
            "[700]\ttraining's f1: 0.758248\tvalid_1's f1: 0.598039\n",
            "[800]\ttraining's f1: 0.77431\tvalid_1's f1: 0.602941\n",
            "[900]\ttraining's f1: 0.787477\tvalid_1's f1: 0.602706\n",
            "Early stopping, best iteration is:\n",
            "[809]\ttraining's f1: 0.77524\tvalid_1's f1: 0.60688\n"
          ],
          "name": "stdout"
        },
        {
          "output_type": "stream",
          "text": [
            "/usr/local/lib/python3.6/dist-packages/lightgbm/engine.py:118: UserWarning: Found `n_estimators` in params. Will use it instead of argument\n",
            "  warnings.warn(\"Found `{}` in params. Will use it instead of argument\".format(alias))\n",
            "/usr/local/lib/python3.6/dist-packages/sklearn/metrics/classification.py:1437: UndefinedMetricWarning: F-score is ill-defined and being set to 0.0 due to no predicted samples.\n",
            "  'precision', 'predicted', average, warn_for)\n"
          ],
          "name": "stderr"
        },
        {
          "output_type": "stream",
          "text": [
            "Training until validation scores don't improve for 100 rounds.\n",
            "[100]\ttraining's f1: 0.313112\tvalid_1's f1: 0.267943\n",
            "[200]\ttraining's f1: 0.605505\tvalid_1's f1: 0.505824\n",
            "[300]\ttraining's f1: 0.672489\tvalid_1's f1: 0.545181\n",
            "[400]\ttraining's f1: 0.710369\tvalid_1's f1: 0.554913\n",
            "[500]\ttraining's f1: 0.73345\tvalid_1's f1: 0.571831\n",
            "[600]\ttraining's f1: 0.752638\tvalid_1's f1: 0.58345\n",
            "Early stopping, best iteration is:\n",
            "[589]\ttraining's f1: 0.755269\tvalid_1's f1: 0.58427\n"
          ],
          "name": "stdout"
        },
        {
          "output_type": "stream",
          "text": [
            "/usr/local/lib/python3.6/dist-packages/lightgbm/engine.py:118: UserWarning: Found `n_estimators` in params. Will use it instead of argument\n",
            "  warnings.warn(\"Found `{}` in params. Will use it instead of argument\".format(alias))\n",
            "/usr/local/lib/python3.6/dist-packages/sklearn/metrics/classification.py:1437: UndefinedMetricWarning: F-score is ill-defined and being set to 0.0 due to no predicted samples.\n",
            "  'precision', 'predicted', average, warn_for)\n"
          ],
          "name": "stderr"
        },
        {
          "output_type": "stream",
          "text": [
            "Training until validation scores don't improve for 100 rounds.\n",
            "[100]\ttraining's f1: 0.333988\tvalid_1's f1: 0.244444\n",
            "[200]\ttraining's f1: 0.613188\tvalid_1's f1: 0.495356\n",
            "[300]\ttraining's f1: 0.677052\tvalid_1's f1: 0.557103\n",
            "[400]\ttraining's f1: 0.696774\tvalid_1's f1: 0.561737\n",
            "[500]\ttraining's f1: 0.713043\tvalid_1's f1: 0.566489\n",
            "[600]\ttraining's f1: 0.732948\tvalid_1's f1: 0.567282\n",
            "Early stopping, best iteration is:\n",
            "[547]\ttraining's f1: 0.716107\tvalid_1's f1: 0.570292\n"
          ],
          "name": "stdout"
        },
        {
          "output_type": "stream",
          "text": [
            "/usr/local/lib/python3.6/dist-packages/lightgbm/engine.py:118: UserWarning: Found `n_estimators` in params. Will use it instead of argument\n",
            "  warnings.warn(\"Found `{}` in params. Will use it instead of argument\".format(alias))\n",
            "/usr/local/lib/python3.6/dist-packages/sklearn/metrics/classification.py:1437: UndefinedMetricWarning: F-score is ill-defined and being set to 0.0 due to no predicted samples.\n",
            "  'precision', 'predicted', average, warn_for)\n"
          ],
          "name": "stderr"
        },
        {
          "output_type": "stream",
          "text": [
            "Training until validation scores don't improve for 100 rounds.\n",
            "[100]\ttraining's f1: 0.320475\tvalid_1's f1: 0.25\n",
            "[200]\ttraining's f1: 0.595924\tvalid_1's f1: 0.464646\n",
            "[300]\ttraining's f1: 0.684243\tvalid_1's f1: 0.552129\n",
            "[400]\ttraining's f1: 0.717521\tvalid_1's f1: 0.560907\n",
            "[500]\ttraining's f1: 0.738749\tvalid_1's f1: 0.575035\n",
            "Early stopping, best iteration is:\n",
            "[499]\ttraining's f1: 0.739181\tvalid_1's f1: 0.575035\n"
          ],
          "name": "stdout"
        },
        {
          "output_type": "stream",
          "text": [
            "/usr/local/lib/python3.6/dist-packages/lightgbm/engine.py:118: UserWarning: Found `n_estimators` in params. Will use it instead of argument\n",
            "  warnings.warn(\"Found `{}` in params. Will use it instead of argument\".format(alias))\n",
            "/usr/local/lib/python3.6/dist-packages/sklearn/metrics/classification.py:1437: UndefinedMetricWarning: F-score is ill-defined and being set to 0.0 due to no predicted samples.\n",
            "  'precision', 'predicted', average, warn_for)\n"
          ],
          "name": "stderr"
        },
        {
          "output_type": "stream",
          "text": [
            "Training until validation scores don't improve for 100 rounds.\n",
            "[100]\ttraining's f1: 0.333333\tvalid_1's f1: 0.297968\n",
            "[200]\ttraining's f1: 0.5828\tvalid_1's f1: 0.453469\n",
            "[300]\ttraining's f1: 0.670754\tvalid_1's f1: 0.547307\n",
            "[400]\ttraining's f1: 0.698337\tvalid_1's f1: 0.563187\n",
            "Early stopping, best iteration is:\n",
            "[381]\ttraining's f1: 0.690974\tvalid_1's f1: 0.571034\n"
          ],
          "name": "stdout"
        }
      ]
    },
    {
      "cell_type": "code",
      "metadata": {
        "id": "GMjTHfPZT0Gv",
        "colab_type": "code",
        "colab": {}
      },
      "source": [
        "a=[]\n",
        "for i in range(len(pre[0])):\n",
        "  k=0\n",
        "  l=0\n",
        "  for j in range(len(pre)):\n",
        "    if(pre[j][i]==0):\n",
        "      k+=1\n",
        "    else:\n",
        "      l+=1\n",
        "  if(k>l):\n",
        "    a.append(0)\n",
        "  else:\n",
        "    a.append(1)"
      ],
      "execution_count": 0,
      "outputs": []
    },
    {
      "cell_type": "code",
      "metadata": {
        "id": "MjtDa5CfMhxm",
        "colab_type": "code",
        "colab": {}
      },
      "source": [
        "df=pd.DataFrame(a,test['employee_id'],columns=['is_promoted'])\n",
        "df.to_csv(\"/content/drive/My Drive/Colab Notebooks/hacathon_analytic_vidhya/result.csv\")"
      ],
      "execution_count": 0,
      "outputs": []
    },
    {
      "cell_type": "code",
      "metadata": {
        "id": "Uz0Swp3Gc82-",
        "colab_type": "code",
        "colab": {}
      },
      "source": [
        ""
      ],
      "execution_count": 0,
      "outputs": []
    }
  ]
}