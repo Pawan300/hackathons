{
  "nbformat": 4,
  "nbformat_minor": 0,
  "metadata": {
    "colab": {
      "name": "dancer.ipynb",
      "provenance": []
    },
    "kernelspec": {
      "name": "python3",
      "display_name": "Python 3"
    },
    "accelerator": "GPU"
  },
  "cells": [
    {
      "cell_type": "code",
      "metadata": {
        "id": "Rjhy63kQIRVn",
        "colab_type": "code",
        "outputId": "6c306d04-01bd-4192-eb78-57594a2740a7",
        "colab": {
          "base_uri": "https://localhost:8080/",
          "height": 34
        }
      },
      "source": [
        "import pandas as pd\n",
        "import numpy as np\n",
        "import PIL\n",
        "import cv2 ,pickle\n",
        "from sklearn.preprocessing import LabelEncoder\n",
        "from keras.utils import np_utils"
      ],
      "execution_count": 0,
      "outputs": [
        {
          "output_type": "stream",
          "text": [
            "Using TensorFlow backend.\n"
          ],
          "name": "stderr"
        }
      ]
    },
    {
      "cell_type": "code",
      "metadata": {
        "id": "Wb_BWgwDI9d5",
        "colab_type": "code",
        "colab": {}
      },
      "source": [
        "test_data = pd.read_csv(\"/content/drive/My Drive/Colab Notebooks/dl_comptetion/dataset/test.csv\")\n",
        "train_data = pd.read_csv(\"/content/drive/My Drive/Colab Notebooks/dl_comptetion/dataset/train.csv\")"
      ],
      "execution_count": 0,
      "outputs": []
    },
    {
      "cell_type": "code",
      "metadata": {
        "id": "NQQ42QZaJLDA",
        "colab_type": "code",
        "outputId": "56d8dbef-65d3-4c92-925c-a1cbbcb12070",
        "colab": {
          "base_uri": "https://localhost:8080/",
          "height": 197
        }
      },
      "source": [
        "test_data.head()"
      ],
      "execution_count": 0,
      "outputs": [
        {
          "output_type": "execute_result",
          "data": {
            "text/html": [
              "<div>\n",
              "<style scoped>\n",
              "    .dataframe tbody tr th:only-of-type {\n",
              "        vertical-align: middle;\n",
              "    }\n",
              "\n",
              "    .dataframe tbody tr th {\n",
              "        vertical-align: top;\n",
              "    }\n",
              "\n",
              "    .dataframe thead th {\n",
              "        text-align: right;\n",
              "    }\n",
              "</style>\n",
              "<table border=\"1\" class=\"dataframe\">\n",
              "  <thead>\n",
              "    <tr style=\"text-align: right;\">\n",
              "      <th></th>\n",
              "      <th>Image</th>\n",
              "    </tr>\n",
              "  </thead>\n",
              "  <tbody>\n",
              "    <tr>\n",
              "      <th>0</th>\n",
              "      <td>508.jpg</td>\n",
              "    </tr>\n",
              "    <tr>\n",
              "      <th>1</th>\n",
              "      <td>246.jpg</td>\n",
              "    </tr>\n",
              "    <tr>\n",
              "      <th>2</th>\n",
              "      <td>473.jpg</td>\n",
              "    </tr>\n",
              "    <tr>\n",
              "      <th>3</th>\n",
              "      <td>485.jpg</td>\n",
              "    </tr>\n",
              "    <tr>\n",
              "      <th>4</th>\n",
              "      <td>128.jpg</td>\n",
              "    </tr>\n",
              "  </tbody>\n",
              "</table>\n",
              "</div>"
            ],
            "text/plain": [
              "     Image\n",
              "0  508.jpg\n",
              "1  246.jpg\n",
              "2  473.jpg\n",
              "3  485.jpg\n",
              "4  128.jpg"
            ]
          },
          "metadata": {
            "tags": []
          },
          "execution_count": 3
        }
      ]
    },
    {
      "cell_type": "code",
      "metadata": {
        "id": "oHqVpiYPJMiv",
        "colab_type": "code",
        "outputId": "7d739e64-ec9a-4d98-db9f-d4e9afd801f4",
        "colab": {
          "base_uri": "https://localhost:8080/",
          "height": 197
        }
      },
      "source": [
        "train_data.head()"
      ],
      "execution_count": 0,
      "outputs": [
        {
          "output_type": "execute_result",
          "data": {
            "text/html": [
              "<div>\n",
              "<style scoped>\n",
              "    .dataframe tbody tr th:only-of-type {\n",
              "        vertical-align: middle;\n",
              "    }\n",
              "\n",
              "    .dataframe tbody tr th {\n",
              "        vertical-align: top;\n",
              "    }\n",
              "\n",
              "    .dataframe thead th {\n",
              "        text-align: right;\n",
              "    }\n",
              "</style>\n",
              "<table border=\"1\" class=\"dataframe\">\n",
              "  <thead>\n",
              "    <tr style=\"text-align: right;\">\n",
              "      <th></th>\n",
              "      <th>Image</th>\n",
              "      <th>target</th>\n",
              "    </tr>\n",
              "  </thead>\n",
              "  <tbody>\n",
              "    <tr>\n",
              "      <th>0</th>\n",
              "      <td>96.jpg</td>\n",
              "      <td>manipuri</td>\n",
              "    </tr>\n",
              "    <tr>\n",
              "      <th>1</th>\n",
              "      <td>163.jpg</td>\n",
              "      <td>bharatanatyam</td>\n",
              "    </tr>\n",
              "    <tr>\n",
              "      <th>2</th>\n",
              "      <td>450.jpg</td>\n",
              "      <td>odissi</td>\n",
              "    </tr>\n",
              "    <tr>\n",
              "      <th>3</th>\n",
              "      <td>219.jpg</td>\n",
              "      <td>kathakali</td>\n",
              "    </tr>\n",
              "    <tr>\n",
              "      <th>4</th>\n",
              "      <td>455.jpg</td>\n",
              "      <td>odissi</td>\n",
              "    </tr>\n",
              "  </tbody>\n",
              "</table>\n",
              "</div>"
            ],
            "text/plain": [
              "     Image         target\n",
              "0   96.jpg       manipuri\n",
              "1  163.jpg  bharatanatyam\n",
              "2  450.jpg         odissi\n",
              "3  219.jpg      kathakali\n",
              "4  455.jpg         odissi"
            ]
          },
          "metadata": {
            "tags": []
          },
          "execution_count": 4
        }
      ]
    },
    {
      "cell_type": "code",
      "metadata": {
        "id": "RYaOoIu5JOR9",
        "colab_type": "code",
        "colab": {}
      },
      "source": [
        "train = []\n",
        "for i in train_data[\"Image\"]:\n",
        "    path = \"/content/drive/My Drive/Colab Notebooks/dl_comptetion/dataset/train/\"+i\n",
        "    img_data = cv2.imread(path)\n",
        "    img_data = cv2.resize(img_data, (224, 224), \n",
        "                           interpolation=cv2.INTER_NEAREST)\n",
        "    train.append(np.array(img_data))"
      ],
      "execution_count": 0,
      "outputs": []
    },
    {
      "cell_type": "code",
      "metadata": {
        "id": "JVK2Pz02L685",
        "colab_type": "code",
        "colab": {}
      },
      "source": [
        "test = []\n",
        "for i in test_data[\"Image\"]:\n",
        "  path = \"/content/drive/My Drive/Colab Notebooks/dl_comptetion/dataset/test/\"+i\n",
        "  img_data = cv2.imread(path)\n",
        "  img_data = cv2.resize(img_data, (224, 224), \n",
        "                           interpolation=cv2.INTER_NEAREST)\n",
        "  test.append(np.array(img_data))"
      ],
      "execution_count": 0,
      "outputs": []
    },
    {
      "cell_type": "code",
      "metadata": {
        "id": "IQFoNf7GoE_b",
        "colab_type": "code",
        "outputId": "f8f8d277-ef51-4b68-e74b-02597b1ce208",
        "colab": {
          "base_uri": "https://localhost:8080/",
          "height": 34
        }
      },
      "source": [
        "train[0].shape"
      ],
      "execution_count": 0,
      "outputs": [
        {
          "output_type": "execute_result",
          "data": {
            "text/plain": [
              "(224, 224, 3)"
            ]
          },
          "metadata": {
            "tags": []
          },
          "execution_count": 10
        }
      ]
    },
    {
      "cell_type": "code",
      "metadata": {
        "id": "rKiEQJwcMWHQ",
        "colab_type": "code",
        "colab": {}
      },
      "source": [
        "import pickle\n",
        "pickle.dump(train,open(\"/content/drive/My Drive/Colab Notebooks/dl_comptetion/dataset/train.npy\",\"wb\"))\n",
        "pickle.dump(test, open(\"/content/drive/My Drive/Colab Notebooks/dl_comptetion/dataset/test.npy\",\"wb\"))"
      ],
      "execution_count": 0,
      "outputs": []
    },
    {
      "cell_type": "code",
      "metadata": {
        "id": "sEBR0pgPM6js",
        "colab_type": "code",
        "colab": {}
      },
      "source": [
        "test_img = pickle.load(open(\"/content/drive/My Drive/Colab Notebooks/dl_comptetion/dataset/test.npy\",\"rb\"))\n",
        "train_img = pickle.load(open(\"/content/drive/My Drive/Colab Notebooks/dl_comptetion/dataset/train.npy\",\"rb\"))"
      ],
      "execution_count": 0,
      "outputs": []
    },
    {
      "cell_type": "code",
      "metadata": {
        "id": "TlLLJQWJM8je",
        "colab_type": "code",
        "colab": {}
      },
      "source": [
        "train_img = np.array(train_img)\n",
        "test_img = np.array(test_img)"
      ],
      "execution_count": 0,
      "outputs": []
    },
    {
      "cell_type": "code",
      "metadata": {
        "id": "V_USJJlkRcmG",
        "colab_type": "code",
        "outputId": "1a2f7eb0-9657-4e62-fe70-cd96370ddedc",
        "colab": {
          "base_uri": "https://localhost:8080/",
          "height": 197
        }
      },
      "source": [
        "train_data.head()"
      ],
      "execution_count": 0,
      "outputs": [
        {
          "output_type": "execute_result",
          "data": {
            "text/html": [
              "<div>\n",
              "<style scoped>\n",
              "    .dataframe tbody tr th:only-of-type {\n",
              "        vertical-align: middle;\n",
              "    }\n",
              "\n",
              "    .dataframe tbody tr th {\n",
              "        vertical-align: top;\n",
              "    }\n",
              "\n",
              "    .dataframe thead th {\n",
              "        text-align: right;\n",
              "    }\n",
              "</style>\n",
              "<table border=\"1\" class=\"dataframe\">\n",
              "  <thead>\n",
              "    <tr style=\"text-align: right;\">\n",
              "      <th></th>\n",
              "      <th>Image</th>\n",
              "      <th>target</th>\n",
              "    </tr>\n",
              "  </thead>\n",
              "  <tbody>\n",
              "    <tr>\n",
              "      <th>0</th>\n",
              "      <td>96.jpg</td>\n",
              "      <td>manipuri</td>\n",
              "    </tr>\n",
              "    <tr>\n",
              "      <th>1</th>\n",
              "      <td>163.jpg</td>\n",
              "      <td>bharatanatyam</td>\n",
              "    </tr>\n",
              "    <tr>\n",
              "      <th>2</th>\n",
              "      <td>450.jpg</td>\n",
              "      <td>odissi</td>\n",
              "    </tr>\n",
              "    <tr>\n",
              "      <th>3</th>\n",
              "      <td>219.jpg</td>\n",
              "      <td>kathakali</td>\n",
              "    </tr>\n",
              "    <tr>\n",
              "      <th>4</th>\n",
              "      <td>455.jpg</td>\n",
              "      <td>odissi</td>\n",
              "    </tr>\n",
              "  </tbody>\n",
              "</table>\n",
              "</div>"
            ],
            "text/plain": [
              "     Image         target\n",
              "0   96.jpg       manipuri\n",
              "1  163.jpg  bharatanatyam\n",
              "2  450.jpg         odissi\n",
              "3  219.jpg      kathakali\n",
              "4  455.jpg         odissi"
            ]
          },
          "metadata": {
            "tags": []
          },
          "execution_count": 13
        }
      ]
    },
    {
      "cell_type": "code",
      "metadata": {
        "id": "9gLICAtjRdRU",
        "colab_type": "code",
        "colab": {}
      },
      "source": [
        "encoder = LabelEncoder()\n",
        "encoder.fit(train_data[\"target\"])\n",
        "encoded_Y = encoder.transform(train_data[\"target\"])\n",
        "dummy_y = np_utils.to_categorical(encoded_Y)"
      ],
      "execution_count": 0,
      "outputs": []
    },
    {
      "cell_type": "code",
      "metadata": {
        "id": "hqqk7b6r5-x5",
        "colab_type": "code",
        "outputId": "72cfeb5e-2016-45f0-aff0-ab681f89ee9f",
        "colab": {
          "base_uri": "https://localhost:8080/",
          "height": 34
        }
      },
      "source": [
        "dummy_y.shape"
      ],
      "execution_count": 0,
      "outputs": [
        {
          "output_type": "execute_result",
          "data": {
            "text/plain": [
              "(364, 8)"
            ]
          },
          "metadata": {
            "tags": []
          },
          "execution_count": 15
        }
      ]
    },
    {
      "cell_type": "code",
      "metadata": {
        "id": "PRwD_Se86LVU",
        "colab_type": "code",
        "outputId": "d419e046-911e-4568-a42a-6bf821b9e688",
        "colab": {
          "base_uri": "https://localhost:8080/",
          "height": 34
        }
      },
      "source": [
        "train_img.shape"
      ],
      "execution_count": 0,
      "outputs": [
        {
          "output_type": "execute_result",
          "data": {
            "text/plain": [
              "(364, 224, 224, 3)"
            ]
          },
          "metadata": {
            "tags": []
          },
          "execution_count": 16
        }
      ]
    },
    {
      "cell_type": "code",
      "metadata": {
        "id": "9f1wNk4W6tbn",
        "colab_type": "code",
        "colab": {}
      },
      "source": [
        "from keras.models import Sequential\n",
        "from keras.layers import Dense, Dropout, Conv2D, MaxPool2D, Flatten\n",
        "from keras.wrappers.scikit_learn import KerasClassifier"
      ],
      "execution_count": 0,
      "outputs": []
    },
    {
      "cell_type": "code",
      "metadata": {
        "id": "5cswm7Gr8JRZ",
        "colab_type": "code",
        "colab": {}
      },
      "source": [
        "# Creating a Sequential model\n",
        "model= Sequential()\n",
        "model.add(Conv2D(kernel_size=(3,3), filters=3, activation='relu', input_shape=train_img[0].shape))\n",
        "model.add(Conv2D(filters=3,kernel_size = (3,3),activation='relu'))\n",
        "model.add(MaxPool2D(3,3))\n",
        "model.add(Conv2D(filters=3,kernel_size = (3,3),activation='relu'))\n",
        "model.add(MaxPool2D(3,3))\n",
        "model.add(Conv2D(filters=3,kernel_size = (3,3),activation='relu'))\n",
        "\n",
        "model.add(Flatten())\n",
        "\n",
        "model.add(Dense(20,activation='relu'))\n",
        "model.add(Dense(15,activation='relu'))\n",
        "model.add(Dense(8,activation = 'softmax'))\n",
        "    \n",
        "model.compile(\n",
        "              loss='categorical_crossentropy', \n",
        "              metrics=['acc'],\n",
        "              optimizer='adam'\n",
        "             )"
      ],
      "execution_count": 0,
      "outputs": []
    },
    {
      "cell_type": "code",
      "metadata": {
        "id": "T8oHwXbH_Cr1",
        "colab_type": "code",
        "outputId": "1b06eb09-8763-405b-c244-c694ca494d4d",
        "colab": {
          "base_uri": "https://localhost:8080/",
          "height": 514
        }
      },
      "source": [
        "model.summary()"
      ],
      "execution_count": 0,
      "outputs": [
        {
          "output_type": "stream",
          "text": [
            "Model: \"sequential_16\"\n",
            "_________________________________________________________________\n",
            "Layer (type)                 Output Shape              Param #   \n",
            "=================================================================\n",
            "conv2d_51 (Conv2D)           (None, 254, 254, 3)       84        \n",
            "_________________________________________________________________\n",
            "conv2d_52 (Conv2D)           (None, 252, 252, 3)       84        \n",
            "_________________________________________________________________\n",
            "max_pooling2d_27 (MaxPooling (None, 84, 84, 3)         0         \n",
            "_________________________________________________________________\n",
            "conv2d_53 (Conv2D)           (None, 82, 82, 3)         84        \n",
            "_________________________________________________________________\n",
            "max_pooling2d_28 (MaxPooling (None, 27, 27, 3)         0         \n",
            "_________________________________________________________________\n",
            "conv2d_54 (Conv2D)           (None, 25, 25, 3)         84        \n",
            "_________________________________________________________________\n",
            "flatten_8 (Flatten)          (None, 1875)              0         \n",
            "_________________________________________________________________\n",
            "dense_24 (Dense)             (None, 20)                37520     \n",
            "_________________________________________________________________\n",
            "dense_25 (Dense)             (None, 15)                315       \n",
            "_________________________________________________________________\n",
            "dense_26 (Dense)             (None, 8)                 128       \n",
            "=================================================================\n",
            "Total params: 38,299\n",
            "Trainable params: 38,299\n",
            "Non-trainable params: 0\n",
            "_________________________________________________________________\n"
          ],
          "name": "stdout"
        }
      ]
    },
    {
      "cell_type": "code",
      "metadata": {
        "id": "9Z-dW7RfAwlO",
        "colab_type": "code",
        "outputId": "71cc8f64-de6c-4476-e3a0-67c9c8d34e01",
        "colab": {
          "base_uri": "https://localhost:8080/",
          "height": 1000
        }
      },
      "source": [
        "history = model.fit(train_img, dummy_y, epochs=50, batch_size=50)"
      ],
      "execution_count": 0,
      "outputs": [
        {
          "output_type": "stream",
          "text": [
            "Epoch 1/50\n",
            "364/364 [==============================] - 15s 40ms/step - loss: 5.2859 - acc: 0.1291\n",
            "Epoch 2/50\n",
            "364/364 [==============================] - 14s 40ms/step - loss: 2.4833 - acc: 0.1511\n",
            "Epoch 3/50\n",
            "364/364 [==============================] - 14s 39ms/step - loss: 2.1134 - acc: 0.1868\n",
            "Epoch 4/50\n",
            "364/364 [==============================] - 15s 40ms/step - loss: 1.9473 - acc: 0.2005\n",
            "Epoch 5/50\n",
            "364/364 [==============================] - 14s 40ms/step - loss: 1.8400 - acc: 0.2610\n",
            "Epoch 6/50\n",
            "364/364 [==============================] - 14s 39ms/step - loss: 1.7448 - acc: 0.3269\n",
            "Epoch 7/50\n",
            "364/364 [==============================] - 15s 41ms/step - loss: 1.6412 - acc: 0.3874\n",
            "Epoch 8/50\n",
            "364/364 [==============================] - 14s 40ms/step - loss: 1.5429 - acc: 0.4341\n",
            "Epoch 9/50\n",
            "364/364 [==============================] - 14s 40ms/step - loss: 1.4348 - acc: 0.4753\n",
            "Epoch 10/50\n",
            "364/364 [==============================] - 14s 40ms/step - loss: 1.3246 - acc: 0.5275\n",
            "Epoch 11/50\n",
            "364/364 [==============================] - 14s 40ms/step - loss: 1.2122 - acc: 0.5659\n",
            "Epoch 12/50\n",
            "364/364 [==============================] - 14s 40ms/step - loss: 1.1064 - acc: 0.5907\n",
            "Epoch 13/50\n",
            "364/364 [==============================] - 15s 40ms/step - loss: 1.0015 - acc: 0.6538\n",
            "Epoch 14/50\n",
            "364/364 [==============================] - 14s 40ms/step - loss: 0.8955 - acc: 0.6896\n",
            "Epoch 15/50\n",
            "364/364 [==============================] - 15s 41ms/step - loss: 0.7710 - acc: 0.7280\n",
            "Epoch 16/50\n",
            "364/364 [==============================] - 14s 40ms/step - loss: 0.6642 - acc: 0.7747\n",
            "Epoch 17/50\n",
            "364/364 [==============================] - 14s 40ms/step - loss: 0.5666 - acc: 0.8077\n",
            "Epoch 18/50\n",
            "364/364 [==============================] - 14s 40ms/step - loss: 0.4786 - acc: 0.8489\n",
            "Epoch 19/50\n",
            "364/364 [==============================] - 14s 40ms/step - loss: 0.4084 - acc: 0.8681\n",
            "Epoch 20/50\n",
            "364/364 [==============================] - 14s 40ms/step - loss: 0.3397 - acc: 0.8956\n",
            "Epoch 21/50\n",
            "364/364 [==============================] - 14s 40ms/step - loss: 0.2984 - acc: 0.9066\n",
            "Epoch 22/50\n",
            "364/364 [==============================] - 14s 40ms/step - loss: 0.2543 - acc: 0.9341\n",
            "Epoch 23/50\n",
            "364/364 [==============================] - 15s 40ms/step - loss: 0.2176 - acc: 0.9423\n",
            "Epoch 24/50\n",
            "364/364 [==============================] - 14s 39ms/step - loss: 0.1882 - acc: 0.9533\n",
            "Epoch 25/50\n",
            "364/364 [==============================] - 18s 49ms/step - loss: 0.1609 - acc: 0.9560\n",
            "Epoch 26/50\n",
            "364/364 [==============================] - 15s 40ms/step - loss: 0.1356 - acc: 0.9643\n",
            "Epoch 27/50\n",
            "364/364 [==============================] - 14s 39ms/step - loss: 0.1221 - acc: 0.9698\n",
            "Epoch 28/50\n",
            "364/364 [==============================] - 14s 39ms/step - loss: 0.1088 - acc: 0.9670\n",
            "Epoch 29/50\n",
            "364/364 [==============================] - 14s 39ms/step - loss: 0.0976 - acc: 0.9725\n",
            "Epoch 30/50\n",
            "364/364 [==============================] - 14s 40ms/step - loss: 0.0839 - acc: 0.9808\n",
            "Epoch 31/50\n",
            "364/364 [==============================] - 14s 39ms/step - loss: 0.0779 - acc: 0.9808\n",
            "Epoch 32/50\n",
            "364/364 [==============================] - 14s 39ms/step - loss: 0.0688 - acc: 0.9835\n",
            "Epoch 33/50\n",
            "364/364 [==============================] - 14s 39ms/step - loss: 0.0669 - acc: 0.9863\n",
            "Epoch 34/50\n",
            "364/364 [==============================] - 14s 40ms/step - loss: 0.1040 - acc: 0.9753\n",
            "Epoch 35/50\n",
            "364/364 [==============================] - 14s 39ms/step - loss: 0.1114 - acc: 0.9808\n",
            "Epoch 36/50\n",
            "364/364 [==============================] - 15s 40ms/step - loss: 0.0657 - acc: 0.9918\n",
            "Epoch 37/50\n",
            "364/364 [==============================] - 14s 39ms/step - loss: 0.0566 - acc: 0.9890\n",
            "Epoch 38/50\n",
            "364/364 [==============================] - 14s 39ms/step - loss: 0.0421 - acc: 0.9918\n",
            "Epoch 39/50\n",
            "364/364 [==============================] - 14s 39ms/step - loss: 0.0318 - acc: 0.9945\n",
            "Epoch 40/50\n",
            "364/364 [==============================] - 14s 39ms/step - loss: 0.0274 - acc: 0.9945\n",
            "Epoch 41/50\n",
            "364/364 [==============================] - 14s 39ms/step - loss: 0.0244 - acc: 0.9945\n",
            "Epoch 42/50\n",
            "364/364 [==============================] - 14s 39ms/step - loss: 0.0214 - acc: 0.9945\n",
            "Epoch 43/50\n",
            "364/364 [==============================] - 14s 39ms/step - loss: 0.0206 - acc: 0.9945\n",
            "Epoch 44/50\n",
            "364/364 [==============================] - 14s 39ms/step - loss: 0.0205 - acc: 0.9918\n",
            "Epoch 45/50\n",
            "364/364 [==============================] - 14s 39ms/step - loss: 0.0217 - acc: 0.9918\n",
            "Epoch 46/50\n",
            "364/364 [==============================] - 14s 40ms/step - loss: 0.0192 - acc: 0.9918\n",
            "Epoch 47/50\n",
            "364/364 [==============================] - 15s 40ms/step - loss: 0.0162 - acc: 0.9945\n",
            "Epoch 48/50\n",
            "364/364 [==============================] - 15s 41ms/step - loss: 0.0155 - acc: 0.9945\n",
            "Epoch 49/50\n",
            "364/364 [==============================] - 14s 39ms/step - loss: 0.0155 - acc: 0.9945\n",
            "Epoch 50/50\n",
            "364/364 [==============================] - 14s 39ms/step - loss: 0.0143 - acc: 0.9945\n"
          ],
          "name": "stdout"
        }
      ]
    },
    {
      "cell_type": "code",
      "metadata": {
        "id": "pVvxDlISQqPN",
        "colab_type": "code",
        "colab": {}
      },
      "source": [
        "from matplotlib import pyplot as plt"
      ],
      "execution_count": 0,
      "outputs": []
    },
    {
      "cell_type": "code",
      "metadata": {
        "id": "NPQoCEAFBsGv",
        "colab_type": "code",
        "outputId": "b48bf641-f84d-447b-b7e6-d5ffb1c2ba52",
        "colab": {
          "base_uri": "https://localhost:8080/",
          "height": 294
        }
      },
      "source": [
        "plt.plot(history.history['acc'])\n",
        "plt.plot(history.history['acc'])\n",
        "plt.title('model accuracy')\n",
        "plt.ylabel('accuracy')\n",
        "plt.xlabel('epoch')\n",
        "plt.legend(['train', 'test'], loc='upper left')\n",
        "plt.show()"
      ],
      "execution_count": 0,
      "outputs": [
        {
          "output_type": "display_data",
          "data": {
            "image/png": "[encoded data removed]",
            "text/plain": [
              "<Figure size 432x288 with 1 Axes>"
            ]
          },
          "metadata": {
            "tags": [],
            "needs_background": "light"
          }
        }
      ]
    },
    {
      "cell_type": "code",
      "metadata": {
        "id": "YsGK_nsoDB7b",
        "colab_type": "code",
        "outputId": "e5bebc99-6aae-4710-8f0c-24b36aa9d098",
        "colab": {
          "base_uri": "https://localhost:8080/",
          "height": 294
        }
      },
      "source": [
        "plt.plot(history.history['loss'])\n",
        "plt.plot(history.history['loss'])\n",
        "plt.title('model loss')\n",
        "plt.ylabel('loss')\n",
        "plt.xlabel('epoch')\n",
        "plt.legend(['train', 'test'], loc='upper left')\n",
        "plt.show()"
      ],
      "execution_count": 0,
      "outputs": [
        {
          "output_type": "display_data",
          "data": {
            "image/png": "[encoded data removed]",
            "text/plain": [
              "<Figure size 432x288 with 1 Axes>"
            ]
          },
          "metadata": {
            "tags": [],
            "needs_background": "light"
          }
        }
      ]
    },
    {
      "cell_type": "code",
      "metadata": {
        "id": "Uydd-7ClDDpN",
        "colab_type": "code",
        "colab": {}
      },
      "source": [
        "pred = model.predict_classes(test_img)\n",
        "pred = encoder.inverse_transform(pred)\n",
        "result = pd.DataFrame(pred, test_data[\"Image\"], columns=[\"target\"])\n",
        "result.to_csv(\"/content/drive/My Drive/Colab Notebooks/dl_comptetion/dataset/sample.csv\")"
      ],
      "execution_count": 0,
      "outputs": []
    },
    {
      "cell_type": "code",
      "metadata": {
        "id": "ljbS8rdGQoLf",
        "colab_type": "code",
        "colab": {}
      },
      "source": [
        ""
      ],
      "execution_count": 0,
      "outputs": []
    },
    {
      "cell_type": "code",
      "metadata": {
        "id": "Q_5VJq31Dxrq",
        "colab_type": "code",
        "colab": {}
      },
      "source": [
        ""
      ],
      "execution_count": 0,
      "outputs": []
    },
    {
      "cell_type": "markdown",
      "metadata": {
        "id": "zul1pH7LoWkW",
        "colab_type": "text"
      },
      "source": [
        "Resnet"
      ]
    },
    {
      "cell_type": "code",
      "metadata": {
        "id": "NBgtWvVnoVt_",
        "colab_type": "code",
        "colab": {}
      },
      "source": [
        "from tensorflow.keras.applications.resnet50 import ResNet50\n",
        "from tensorflow.keras.models import Sequential\n",
        "from tensorflow.keras.callbacks import EarlyStopping\n",
        "from tensorflow.keras.layers import Dense, Dropout\n",
        "from tensorflow.keras.utils import to_categorical\n",
        "from tensorflow.keras.preprocessing.image import ImageDataGenerator"
      ],
      "execution_count": 0,
      "outputs": []
    },
    {
      "cell_type": "code",
      "metadata": {
        "id": "tsv7pUcxoVqU",
        "colab_type": "code",
        "colab": {}
      },
      "source": [
        "base_model = ResNet50(\n",
        "    weights='imagenet',\n",
        "    include_top=False, \n",
        "    input_shape=(224, 224, 3), \n",
        "    pooling='avg'\n",
        ")"
      ],
      "execution_count": 0,
      "outputs": []
    },
    {
      "cell_type": "code",
      "metadata": {
        "id": "11xR-sCxoVof",
        "colab_type": "code",
        "outputId": "73bdf3b1-1b3c-4383-9897-a932935f861f",
        "colab": {
          "base_uri": "https://localhost:8080/",
          "height": 265
        }
      },
      "source": [
        "base_model.trainable = False\n",
        "\n",
        "model = Sequential([\n",
        "  base_model,\n",
        "  Dropout(0.2),\n",
        "  Dense(8, activation='softmax')\n",
        "])\n",
        "\n",
        "model.compile(loss='categorical_crossentropy', optimizer='adam', metrics=['accuracy'])\n",
        "model.summary()"
      ],
      "execution_count": 0,
      "outputs": [
        {
          "output_type": "stream",
          "text": [
            "Model: \"sequential_1\"\n",
            "_________________________________________________________________\n",
            "Layer (type)                 Output Shape              Param #   \n",
            "=================================================================\n",
            "resnet50 (Model)             (None, 2048)              23587712  \n",
            "_________________________________________________________________\n",
            "dropout_1 (Dropout)          (None, 2048)              0         \n",
            "_________________________________________________________________\n",
            "dense_1 (Dense)              (None, 8)                 16392     \n",
            "=================================================================\n",
            "Total params: 23,604,104\n",
            "Trainable params: 16,392\n",
            "Non-trainable params: 23,587,712\n",
            "_________________________________________________________________\n"
          ],
          "name": "stdout"
        }
      ]
    },
    {
      "cell_type": "code",
      "metadata": {
        "id": "OlwnFLYdoVlR",
        "colab_type": "code",
        "colab": {}
      },
      "source": [
        "from tensorflow.keras.callbacks import ModelCheckpoint\n",
        "checkpoint = ModelCheckpoint('/content/drive/My Drive/Colab Notebooks/dl_comptetion/dataset/best_model.h5',\n",
        "                             monitor='val_loss', \n",
        "                             verbose=1, save_best_only= True, \n",
        "                             mode='auto')    "
      ],
      "execution_count": 0,
      "outputs": []
    },
    {
      "cell_type": "code",
      "metadata": {
        "id": "BPjPzs8aoViP",
        "colab_type": "code",
        "colab": {}
      },
      "source": [
        "batch_size =5\n",
        "epochs = 100"
      ],
      "execution_count": 0,
      "outputs": []
    },
    {
      "cell_type": "code",
      "metadata": {
        "id": "QS9NWO4ioVeF",
        "colab_type": "code",
        "outputId": "39800cdd-3423-46b9-ba5d-5a4b5626dd02",
        "colab": {
          "base_uri": "https://localhost:8080/",
          "height": 1000
        }
      },
      "source": [
        "datagen = ImageDataGenerator(\n",
        "        shear_range=0.2,\n",
        "        zoom_range=0.2,\n",
        "        horizontal_flip=True)\n",
        "\n",
        "training_generator = datagen.flow(train_img, dummy_y,\n",
        "                                  batch_size=batch_size)\n",
        "\n",
        "history = model.fit_generator(\n",
        "         training_generator,\n",
        "         steps_per_epoch= training_generator.n//training_generator.batch_size,\n",
        "         callbacks=[checkpoint],\n",
        "         epochs= epochs)"
      ],
      "execution_count": 0,
      "outputs": [
        {
          "output_type": "stream",
          "text": [
            "Epoch 1/100\n",
            "72/72 [==============================] - ETA: 0s - loss: 0.1073 - accuracy: 0.9610WARNING:tensorflow:Can save best model only with val_loss available, skipping.\n",
            "72/72 [==============================] - 4s 61ms/step - loss: 0.1073 - accuracy: 0.9610\n",
            "Epoch 2/100\n",
            "72/72 [==============================] - ETA: 0s - loss: 0.0937 - accuracy: 0.9694WARNING:tensorflow:Can save best model only with val_loss available, skipping.\n",
            "72/72 [==============================] - 4s 61ms/step - loss: 0.0937 - accuracy: 0.9694\n",
            "Epoch 3/100\n",
            "72/72 [==============================] - ETA: 0s - loss: 0.0288 - accuracy: 0.9944WARNING:tensorflow:Can save best model only with val_loss available, skipping.\n",
            "72/72 [==============================] - 4s 61ms/step - loss: 0.0288 - accuracy: 0.9944\n",
            "Epoch 4/100\n",
            "72/72 [==============================] - ETA: 0s - loss: 0.0355 - accuracy: 0.9916WARNING:tensorflow:Can save best model only with val_loss available, skipping.\n",
            "72/72 [==============================] - 4s 62ms/step - loss: 0.0355 - accuracy: 0.9916\n",
            "Epoch 5/100\n",
            "72/72 [==============================] - ETA: 0s - loss: 0.0426 - accuracy: 0.9861WARNING:tensorflow:Can save best model only with val_loss available, skipping.\n",
            "72/72 [==============================] - 4s 61ms/step - loss: 0.0426 - accuracy: 0.9861\n",
            "Epoch 6/100\n",
            "72/72 [==============================] - ETA: 0s - loss: 0.0294 - accuracy: 0.9889WARNING:tensorflow:Can save best model only with val_loss available, skipping.\n",
            "72/72 [==============================] - 4s 61ms/step - loss: 0.0294 - accuracy: 0.9889\n",
            "Epoch 7/100\n",
            "72/72 [==============================] - ETA: 0s - loss: 0.0690 - accuracy: 0.9694WARNING:tensorflow:Can save best model only with val_loss available, skipping.\n",
            "72/72 [==============================] - 4s 61ms/step - loss: 0.0690 - accuracy: 0.9694\n",
            "Epoch 8/100\n",
            "72/72 [==============================] - ETA: 0s - loss: 0.0333 - accuracy: 0.9889WARNING:tensorflow:Can save best model only with val_loss available, skipping.\n",
            "72/72 [==============================] - 4s 62ms/step - loss: 0.0333 - accuracy: 0.9889\n",
            "Epoch 9/100\n",
            "72/72 [==============================] - ETA: 0s - loss: 0.0314 - accuracy: 0.9889WARNING:tensorflow:Can save best model only with val_loss available, skipping.\n",
            "72/72 [==============================] - 4s 62ms/step - loss: 0.0314 - accuracy: 0.9889\n",
            "Epoch 10/100\n",
            "72/72 [==============================] - ETA: 0s - loss: 0.0722 - accuracy: 0.9694WARNING:tensorflow:Can save best model only with val_loss available, skipping.\n",
            "72/72 [==============================] - 4s 61ms/step - loss: 0.0722 - accuracy: 0.9694\n",
            "Epoch 11/100\n",
            "72/72 [==============================] - ETA: 0s - loss: 0.1172 - accuracy: 0.9499WARNING:tensorflow:Can save best model only with val_loss available, skipping.\n",
            "72/72 [==============================] - 4s 62ms/step - loss: 0.1172 - accuracy: 0.9499\n",
            "Epoch 12/100\n",
            "72/72 [==============================] - ETA: 0s - loss: 0.0972 - accuracy: 0.9749WARNING:tensorflow:Can save best model only with val_loss available, skipping.\n",
            "72/72 [==============================] - 4s 62ms/step - loss: 0.0972 - accuracy: 0.9749\n",
            "Epoch 13/100\n",
            "72/72 [==============================] - ETA: 0s - loss: 0.0347 - accuracy: 0.9889WARNING:tensorflow:Can save best model only with val_loss available, skipping.\n",
            "72/72 [==============================] - 4s 62ms/step - loss: 0.0347 - accuracy: 0.9889\n",
            "Epoch 14/100\n",
            "72/72 [==============================] - ETA: 0s - loss: 0.0328 - accuracy: 0.9916WARNING:tensorflow:Can save best model only with val_loss available, skipping.\n",
            "72/72 [==============================] - 4s 61ms/step - loss: 0.0328 - accuracy: 0.9916\n",
            "Epoch 15/100\n",
            "72/72 [==============================] - ETA: 0s - loss: 0.0392 - accuracy: 0.9889WARNING:tensorflow:Can save best model only with val_loss available, skipping.\n",
            "72/72 [==============================] - 4s 61ms/step - loss: 0.0392 - accuracy: 0.9889\n",
            "Epoch 16/100\n",
            "72/72 [==============================] - ETA: 0s - loss: 0.0358 - accuracy: 0.9916WARNING:tensorflow:Can save best model only with val_loss available, skipping.\n",
            "72/72 [==============================] - 4s 61ms/step - loss: 0.0358 - accuracy: 0.9916\n",
            "Epoch 17/100\n",
            "72/72 [==============================] - ETA: 0s - loss: 0.0244 - accuracy: 0.9916WARNING:tensorflow:Can save best model only with val_loss available, skipping.\n",
            "72/72 [==============================] - 4s 61ms/step - loss: 0.0244 - accuracy: 0.9916\n",
            "Epoch 18/100\n",
            "72/72 [==============================] - ETA: 0s - loss: 0.0254 - accuracy: 0.9889WARNING:tensorflow:Can save best model only with val_loss available, skipping.\n",
            "72/72 [==============================] - 4s 61ms/step - loss: 0.0254 - accuracy: 0.9889\n",
            "Epoch 19/100\n",
            "72/72 [==============================] - ETA: 0s - loss: 0.1016 - accuracy: 0.9610WARNING:tensorflow:Can save best model only with val_loss available, skipping.\n",
            "72/72 [==============================] - 4s 61ms/step - loss: 0.1016 - accuracy: 0.9610\n",
            "Epoch 20/100\n",
            "72/72 [==============================] - ETA: 0s - loss: 0.0482 - accuracy: 0.9861WARNING:tensorflow:Can save best model only with val_loss available, skipping.\n",
            "72/72 [==============================] - 4s 61ms/step - loss: 0.0482 - accuracy: 0.9861\n",
            "Epoch 21/100\n",
            "72/72 [==============================] - ETA: 0s - loss: 0.0340 - accuracy: 0.9861WARNING:tensorflow:Can save best model only with val_loss available, skipping.\n",
            "72/72 [==============================] - 4s 61ms/step - loss: 0.0340 - accuracy: 0.9861\n",
            "Epoch 22/100\n",
            "72/72 [==============================] - ETA: 0s - loss: 0.0229 - accuracy: 0.9944WARNING:tensorflow:Can save best model only with val_loss available, skipping.\n",
            "72/72 [==============================] - 4s 62ms/step - loss: 0.0229 - accuracy: 0.9944\n",
            "Epoch 23/100\n",
            "72/72 [==============================] - ETA: 0s - loss: 0.0655 - accuracy: 0.9777WARNING:tensorflow:Can save best model only with val_loss available, skipping.\n",
            "72/72 [==============================] - 4s 61ms/step - loss: 0.0655 - accuracy: 0.9777\n",
            "Epoch 24/100\n",
            "72/72 [==============================] - ETA: 0s - loss: 0.0276 - accuracy: 0.9916WARNING:tensorflow:Can save best model only with val_loss available, skipping.\n",
            "72/72 [==============================] - 4s 61ms/step - loss: 0.0276 - accuracy: 0.9916\n",
            "Epoch 25/100\n",
            "72/72 [==============================] - ETA: 0s - loss: 0.0552 - accuracy: 0.9805WARNING:tensorflow:Can save best model only with val_loss available, skipping.\n",
            "72/72 [==============================] - 4s 61ms/step - loss: 0.0552 - accuracy: 0.9805\n",
            "Epoch 26/100\n",
            "72/72 [==============================] - ETA: 0s - loss: 0.0914 - accuracy: 0.9638WARNING:tensorflow:Can save best model only with val_loss available, skipping.\n",
            "72/72 [==============================] - 4s 61ms/step - loss: 0.0914 - accuracy: 0.9638\n",
            "Epoch 27/100\n",
            "72/72 [==============================] - ETA: 0s - loss: 0.0895 - accuracy: 0.9694WARNING:tensorflow:Can save best model only with val_loss available, skipping.\n",
            "72/72 [==============================] - 4s 61ms/step - loss: 0.0895 - accuracy: 0.9694\n",
            "Epoch 28/100\n",
            "72/72 [==============================] - ETA: 0s - loss: 0.0363 - accuracy: 0.9916WARNING:tensorflow:Can save best model only with val_loss available, skipping.\n",
            "72/72 [==============================] - 4s 61ms/step - loss: 0.0363 - accuracy: 0.9916\n",
            "Epoch 29/100\n",
            "72/72 [==============================] - ETA: 0s - loss: 0.0442 - accuracy: 0.9805WARNING:tensorflow:Can save best model only with val_loss available, skipping.\n",
            "72/72 [==============================] - 4s 61ms/step - loss: 0.0442 - accuracy: 0.9805\n",
            "Epoch 30/100\n",
            "72/72 [==============================] - ETA: 0s - loss: 0.0382 - accuracy: 0.9805WARNING:tensorflow:Can save best model only with val_loss available, skipping.\n",
            "72/72 [==============================] - 4s 62ms/step - loss: 0.0382 - accuracy: 0.9805\n",
            "Epoch 31/100\n",
            "72/72 [==============================] - ETA: 0s - loss: 0.0506 - accuracy: 0.9889WARNING:tensorflow:Can save best model only with val_loss available, skipping.\n",
            "72/72 [==============================] - 4s 61ms/step - loss: 0.0506 - accuracy: 0.9889\n",
            "Epoch 32/100\n",
            "72/72 [==============================] - ETA: 0s - loss: 0.0548 - accuracy: 0.9777WARNING:tensorflow:Can save best model only with val_loss available, skipping.\n",
            "72/72 [==============================] - 4s 61ms/step - loss: 0.0548 - accuracy: 0.9777\n",
            "Epoch 33/100\n",
            "72/72 [==============================] - ETA: 0s - loss: 0.0571 - accuracy: 0.9777WARNING:tensorflow:Can save best model only with val_loss available, skipping.\n",
            "72/72 [==============================] - 4s 61ms/step - loss: 0.0571 - accuracy: 0.9777\n",
            "Epoch 34/100\n",
            "72/72 [==============================] - ETA: 0s - loss: 0.0161 - accuracy: 0.9972WARNING:tensorflow:Can save best model only with val_loss available, skipping.\n",
            "72/72 [==============================] - 4s 61ms/step - loss: 0.0161 - accuracy: 0.9972\n",
            "Epoch 35/100\n",
            "72/72 [==============================] - ETA: 0s - loss: 0.0470 - accuracy: 0.9833WARNING:tensorflow:Can save best model only with val_loss available, skipping.\n",
            "72/72 [==============================] - 4s 61ms/step - loss: 0.0470 - accuracy: 0.9833\n",
            "Epoch 36/100\n",
            "72/72 [==============================] - ETA: 0s - loss: 0.0375 - accuracy: 0.9833WARNING:tensorflow:Can save best model only with val_loss available, skipping.\n",
            "72/72 [==============================] - 5s 63ms/step - loss: 0.0375 - accuracy: 0.9833\n",
            "Epoch 37/100\n",
            "72/72 [==============================] - ETA: 0s - loss: 0.0335 - accuracy: 0.9916WARNING:tensorflow:Can save best model only with val_loss available, skipping.\n",
            "72/72 [==============================] - 5s 63ms/step - loss: 0.0335 - accuracy: 0.9916\n",
            "Epoch 38/100\n",
            "72/72 [==============================] - ETA: 0s - loss: 0.0667 - accuracy: 0.9861WARNING:tensorflow:Can save best model only with val_loss available, skipping.\n",
            "72/72 [==============================] - 4s 62ms/step - loss: 0.0667 - accuracy: 0.9861\n",
            "Epoch 39/100\n",
            "72/72 [==============================] - ETA: 0s - loss: 0.0518 - accuracy: 0.9861WARNING:tensorflow:Can save best model only with val_loss available, skipping.\n",
            "72/72 [==============================] - 4s 61ms/step - loss: 0.0518 - accuracy: 0.9861\n",
            "Epoch 40/100\n",
            "72/72 [==============================] - ETA: 0s - loss: 0.0266 - accuracy: 0.9972WARNING:tensorflow:Can save best model only with val_loss available, skipping.\n",
            "72/72 [==============================] - 4s 61ms/step - loss: 0.0266 - accuracy: 0.9972\n",
            "Epoch 41/100\n",
            "72/72 [==============================] - ETA: 0s - loss: 0.0570 - accuracy: 0.9833WARNING:tensorflow:Can save best model only with val_loss available, skipping.\n",
            "72/72 [==============================] - 4s 61ms/step - loss: 0.0570 - accuracy: 0.9833\n",
            "Epoch 42/100\n",
            "72/72 [==============================] - ETA: 0s - loss: 0.0453 - accuracy: 0.9749WARNING:tensorflow:Can save best model only with val_loss available, skipping.\n",
            "72/72 [==============================] - 4s 61ms/step - loss: 0.0453 - accuracy: 0.9749\n",
            "Epoch 43/100\n",
            "72/72 [==============================] - ETA: 0s - loss: 0.0305 - accuracy: 0.9916WARNING:tensorflow:Can save best model only with val_loss available, skipping.\n",
            "72/72 [==============================] - 4s 61ms/step - loss: 0.0305 - accuracy: 0.9916\n",
            "Epoch 44/100\n",
            "72/72 [==============================] - ETA: 0s - loss: 0.0377 - accuracy: 0.9861WARNING:tensorflow:Can save best model only with val_loss available, skipping.\n",
            "72/72 [==============================] - 4s 61ms/step - loss: 0.0377 - accuracy: 0.9861\n",
            "Epoch 45/100\n",
            "72/72 [==============================] - ETA: 0s - loss: 0.0627 - accuracy: 0.9778WARNING:tensorflow:Can save best model only with val_loss available, skipping.\n",
            "72/72 [==============================] - 4s 61ms/step - loss: 0.0627 - accuracy: 0.9778\n",
            "Epoch 46/100\n",
            "71/72 [============================>.] - ETA: 0s - loss: 0.0318 - accuracy: 0.9859WARNING:tensorflow:Can save best model only with val_loss available, skipping.\n",
            "72/72 [==============================] - 4s 61ms/step - loss: 0.0315 - accuracy: 0.9861\n",
            "Epoch 47/100\n",
            "72/72 [==============================] - ETA: 0s - loss: 0.0166 - accuracy: 0.9944WARNING:tensorflow:Can save best model only with val_loss available, skipping.\n",
            "72/72 [==============================] - 4s 62ms/step - loss: 0.0166 - accuracy: 0.9944\n",
            "Epoch 48/100\n",
            "72/72 [==============================] - ETA: 0s - loss: 0.0709 - accuracy: 0.9805WARNING:tensorflow:Can save best model only with val_loss available, skipping.\n",
            "72/72 [==============================] - 4s 62ms/step - loss: 0.0709 - accuracy: 0.9805\n",
            "Epoch 49/100\n",
            "72/72 [==============================] - ETA: 0s - loss: 0.0647 - accuracy: 0.9861WARNING:tensorflow:Can save best model only with val_loss available, skipping.\n",
            "72/72 [==============================] - 4s 62ms/step - loss: 0.0647 - accuracy: 0.9861\n",
            "Epoch 50/100\n",
            "72/72 [==============================] - ETA: 0s - loss: 0.0592 - accuracy: 0.9777WARNING:tensorflow:Can save best model only with val_loss available, skipping.\n",
            "72/72 [==============================] - 4s 62ms/step - loss: 0.0592 - accuracy: 0.9777\n",
            "Epoch 51/100\n",
            "71/72 [============================>.] - ETA: 0s - loss: 0.0293 - accuracy: 0.9887WARNING:tensorflow:Can save best model only with val_loss available, skipping.\n",
            "72/72 [==============================] - 4s 60ms/step - loss: 0.0291 - accuracy: 0.9889\n",
            "Epoch 52/100\n",
            "72/72 [==============================] - ETA: 0s - loss: 0.0832 - accuracy: 0.9749WARNING:tensorflow:Can save best model only with val_loss available, skipping.\n",
            "72/72 [==============================] - 4s 61ms/step - loss: 0.0832 - accuracy: 0.9749\n",
            "Epoch 53/100\n",
            "71/72 [============================>.] - ETA: 0s - loss: 0.0516 - accuracy: 0.9803WARNING:tensorflow:Can save best model only with val_loss available, skipping.\n",
            "72/72 [==============================] - 4s 60ms/step - loss: 0.0510 - accuracy: 0.9805\n",
            "Epoch 54/100\n",
            "72/72 [==============================] - ETA: 0s - loss: 0.0526 - accuracy: 0.9721WARNING:tensorflow:Can save best model only with val_loss available, skipping.\n",
            "72/72 [==============================] - 4s 61ms/step - loss: 0.0526 - accuracy: 0.9721\n",
            "Epoch 55/100\n",
            "72/72 [==============================] - ETA: 0s - loss: 0.0471 - accuracy: 0.9916WARNING:tensorflow:Can save best model only with val_loss available, skipping.\n",
            "72/72 [==============================] - 4s 61ms/step - loss: 0.0471 - accuracy: 0.9916\n",
            "Epoch 56/100\n",
            "72/72 [==============================] - ETA: 0s - loss: 0.0413 - accuracy: 0.9889WARNING:tensorflow:Can save best model only with val_loss available, skipping.\n",
            "72/72 [==============================] - 4s 61ms/step - loss: 0.0413 - accuracy: 0.9889\n",
            "Epoch 57/100\n",
            "72/72 [==============================] - ETA: 0s - loss: 0.0364 - accuracy: 0.9889WARNING:tensorflow:Can save best model only with val_loss available, skipping.\n",
            "72/72 [==============================] - 4s 60ms/step - loss: 0.0364 - accuracy: 0.9889\n",
            "Epoch 58/100\n",
            "72/72 [==============================] - ETA: 0s - loss: 0.0434 - accuracy: 0.9833WARNING:tensorflow:Can save best model only with val_loss available, skipping.\n",
            "72/72 [==============================] - 4s 61ms/step - loss: 0.0434 - accuracy: 0.9833\n",
            "Epoch 59/100\n",
            "72/72 [==============================] - ETA: 0s - loss: 0.0216 - accuracy: 0.9916WARNING:tensorflow:Can save best model only with val_loss available, skipping.\n",
            "72/72 [==============================] - 4s 60ms/step - loss: 0.0216 - accuracy: 0.9916\n",
            "Epoch 60/100\n",
            "72/72 [==============================] - ETA: 0s - loss: 0.0648 - accuracy: 0.9721WARNING:tensorflow:Can save best model only with val_loss available, skipping.\n",
            "72/72 [==============================] - 4s 60ms/step - loss: 0.0648 - accuracy: 0.9721\n",
            "Epoch 61/100\n",
            "72/72 [==============================] - ETA: 0s - loss: 0.0794 - accuracy: 0.9777WARNING:tensorflow:Can save best model only with val_loss available, skipping.\n",
            "72/72 [==============================] - 4s 60ms/step - loss: 0.0794 - accuracy: 0.9777\n",
            "Epoch 62/100\n",
            "72/72 [==============================] - ETA: 0s - loss: 0.0477 - accuracy: 0.9833WARNING:tensorflow:Can save best model only with val_loss available, skipping.\n",
            "72/72 [==============================] - 4s 61ms/step - loss: 0.0477 - accuracy: 0.9833\n",
            "Epoch 63/100\n",
            "72/72 [==============================] - ETA: 0s - loss: 0.0366 - accuracy: 0.9916WARNING:tensorflow:Can save best model only with val_loss available, skipping.\n",
            "72/72 [==============================] - 4s 61ms/step - loss: 0.0366 - accuracy: 0.9916\n",
            "Epoch 64/100\n",
            "72/72 [==============================] - ETA: 0s - loss: 0.0323 - accuracy: 0.9916WARNING:tensorflow:Can save best model only with val_loss available, skipping.\n",
            "72/72 [==============================] - 4s 60ms/step - loss: 0.0323 - accuracy: 0.9916\n",
            "Epoch 65/100\n",
            "72/72 [==============================] - ETA: 0s - loss: 0.0172 - accuracy: 0.9944WARNING:tensorflow:Can save best model only with val_loss available, skipping.\n",
            "72/72 [==============================] - 4s 61ms/step - loss: 0.0172 - accuracy: 0.9944\n",
            "Epoch 66/100\n",
            "72/72 [==============================] - ETA: 0s - loss: 0.0572 - accuracy: 0.9833WARNING:tensorflow:Can save best model only with val_loss available, skipping.\n",
            "72/72 [==============================] - 4s 60ms/step - loss: 0.0572 - accuracy: 0.9833\n",
            "Epoch 67/100\n",
            "72/72 [==============================] - ETA: 0s - loss: 0.0197 - accuracy: 0.9889WARNING:tensorflow:Can save best model only with val_loss available, skipping.\n",
            "72/72 [==============================] - 4s 60ms/step - loss: 0.0197 - accuracy: 0.9889\n",
            "Epoch 68/100\n",
            "72/72 [==============================] - ETA: 0s - loss: 0.0309 - accuracy: 0.9889WARNING:tensorflow:Can save best model only with val_loss available, skipping.\n",
            "72/72 [==============================] - 4s 61ms/step - loss: 0.0309 - accuracy: 0.9889\n",
            "Epoch 69/100\n",
            "72/72 [==============================] - ETA: 0s - loss: 0.0632 - accuracy: 0.9805WARNING:tensorflow:Can save best model only with val_loss available, skipping.\n",
            "72/72 [==============================] - 4s 61ms/step - loss: 0.0632 - accuracy: 0.9805\n",
            "Epoch 70/100\n",
            "72/72 [==============================] - ETA: 0s - loss: 0.1173 - accuracy: 0.9554WARNING:tensorflow:Can save best model only with val_loss available, skipping.\n",
            "72/72 [==============================] - 4s 61ms/step - loss: 0.1173 - accuracy: 0.9554\n",
            "Epoch 71/100\n",
            "72/72 [==============================] - ETA: 0s - loss: 0.0380 - accuracy: 0.9805WARNING:tensorflow:Can save best model only with val_loss available, skipping.\n",
            "72/72 [==============================] - 4s 60ms/step - loss: 0.0380 - accuracy: 0.9805\n",
            "Epoch 72/100\n",
            "72/72 [==============================] - ETA: 0s - loss: 0.0400 - accuracy: 0.9916WARNING:tensorflow:Can save best model only with val_loss available, skipping.\n",
            "72/72 [==============================] - 4s 60ms/step - loss: 0.0400 - accuracy: 0.9916\n",
            "Epoch 73/100\n",
            "72/72 [==============================] - ETA: 0s - loss: 0.0203 - accuracy: 0.9944WARNING:tensorflow:Can save best model only with val_loss available, skipping.\n",
            "72/72 [==============================] - 4s 61ms/step - loss: 0.0203 - accuracy: 0.9944\n",
            "Epoch 74/100\n",
            "72/72 [==============================] - ETA: 0s - loss: 0.0301 - accuracy: 0.9889WARNING:tensorflow:Can save best model only with val_loss available, skipping.\n",
            "72/72 [==============================] - 4s 60ms/step - loss: 0.0301 - accuracy: 0.9889\n",
            "Epoch 75/100\n",
            "72/72 [==============================] - ETA: 0s - loss: 0.0135 - accuracy: 0.9944WARNING:tensorflow:Can save best model only with val_loss available, skipping.\n",
            "72/72 [==============================] - 4s 61ms/step - loss: 0.0135 - accuracy: 0.9944\n",
            "Epoch 76/100\n",
            "72/72 [==============================] - ETA: 0s - loss: 0.0327 - accuracy: 0.9917WARNING:tensorflow:Can save best model only with val_loss available, skipping.\n",
            "72/72 [==============================] - 4s 61ms/step - loss: 0.0327 - accuracy: 0.9917\n",
            "Epoch 77/100\n",
            "72/72 [==============================] - ETA: 0s - loss: 0.0172 - accuracy: 0.9944WARNING:tensorflow:Can save best model only with val_loss available, skipping.\n",
            "72/72 [==============================] - 4s 60ms/step - loss: 0.0172 - accuracy: 0.9944\n",
            "Epoch 78/100\n",
            "72/72 [==============================] - ETA: 0s - loss: 0.0532 - accuracy: 0.9833WARNING:tensorflow:Can save best model only with val_loss available, skipping.\n",
            "72/72 [==============================] - 4s 61ms/step - loss: 0.0532 - accuracy: 0.9833\n",
            "Epoch 79/100\n",
            "72/72 [==============================] - ETA: 0s - loss: 0.0765 - accuracy: 0.9805WARNING:tensorflow:Can save best model only with val_loss available, skipping.\n",
            "72/72 [==============================] - 4s 60ms/step - loss: 0.0765 - accuracy: 0.9805\n",
            "Epoch 80/100\n",
            "72/72 [==============================] - ETA: 0s - loss: 0.0230 - accuracy: 0.9916WARNING:tensorflow:Can save best model only with val_loss available, skipping.\n",
            "72/72 [==============================] - 4s 60ms/step - loss: 0.0230 - accuracy: 0.9916\n",
            "Epoch 81/100\n",
            "72/72 [==============================] - ETA: 0s - loss: 0.0086 - accuracy: 0.9972WARNING:tensorflow:Can save best model only with val_loss available, skipping.\n",
            "72/72 [==============================] - 4s 62ms/step - loss: 0.0086 - accuracy: 0.9972\n",
            "Epoch 82/100\n",
            "72/72 [==============================] - ETA: 0s - loss: 0.0416 - accuracy: 0.9889WARNING:tensorflow:Can save best model only with val_loss available, skipping.\n",
            "72/72 [==============================] - 4s 62ms/step - loss: 0.0416 - accuracy: 0.9889\n",
            "Epoch 83/100\n",
            "72/72 [==============================] - ETA: 0s - loss: 0.0140 - accuracy: 0.9944WARNING:tensorflow:Can save best model only with val_loss available, skipping.\n",
            "72/72 [==============================] - 4s 61ms/step - loss: 0.0140 - accuracy: 0.9944\n",
            "Epoch 84/100\n",
            "72/72 [==============================] - ETA: 0s - loss: 0.0387 - accuracy: 0.9916WARNING:tensorflow:Can save best model only with val_loss available, skipping.\n",
            "72/72 [==============================] - 4s 60ms/step - loss: 0.0387 - accuracy: 0.9916\n",
            "Epoch 85/100\n",
            "72/72 [==============================] - ETA: 0s - loss: 0.0262 - accuracy: 0.9889WARNING:tensorflow:Can save best model only with val_loss available, skipping.\n",
            "72/72 [==============================] - 4s 61ms/step - loss: 0.0262 - accuracy: 0.9889\n",
            "Epoch 86/100\n",
            "72/72 [==============================] - ETA: 0s - loss: 0.0618 - accuracy: 0.9833WARNING:tensorflow:Can save best model only with val_loss available, skipping.\n",
            "72/72 [==============================] - 4s 60ms/step - loss: 0.0618 - accuracy: 0.9833\n",
            "Epoch 87/100\n",
            "72/72 [==============================] - ETA: 0s - loss: 0.0579 - accuracy: 0.9861WARNING:tensorflow:Can save best model only with val_loss available, skipping.\n",
            "72/72 [==============================] - 4s 61ms/step - loss: 0.0579 - accuracy: 0.9861\n",
            "Epoch 88/100\n",
            "72/72 [==============================] - ETA: 0s - loss: 0.0271 - accuracy: 0.9944WARNING:tensorflow:Can save best model only with val_loss available, skipping.\n",
            "72/72 [==============================] - 4s 59ms/step - loss: 0.0271 - accuracy: 0.9944\n",
            "Epoch 89/100\n",
            "72/72 [==============================] - ETA: 0s - loss: 0.0479 - accuracy: 0.9805WARNING:tensorflow:Can save best model only with val_loss available, skipping.\n",
            "72/72 [==============================] - 4s 61ms/step - loss: 0.0479 - accuracy: 0.9805\n",
            "Epoch 90/100\n",
            "72/72 [==============================] - ETA: 0s - loss: 0.0661 - accuracy: 0.9749WARNING:tensorflow:Can save best model only with val_loss available, skipping.\n",
            "72/72 [==============================] - 4s 61ms/step - loss: 0.0661 - accuracy: 0.9749\n",
            "Epoch 91/100\n",
            "72/72 [==============================] - ETA: 0s - loss: 0.0394 - accuracy: 0.9889WARNING:tensorflow:Can save best model only with val_loss available, skipping.\n",
            "72/72 [==============================] - 4s 61ms/step - loss: 0.0394 - accuracy: 0.9889\n",
            "Epoch 92/100\n",
            "72/72 [==============================] - ETA: 0s - loss: 0.0437 - accuracy: 0.9805WARNING:tensorflow:Can save best model only with val_loss available, skipping.\n",
            "72/72 [==============================] - 4s 61ms/step - loss: 0.0437 - accuracy: 0.9805\n",
            "Epoch 93/100\n",
            "72/72 [==============================] - ETA: 0s - loss: 0.0887 - accuracy: 0.9749WARNING:tensorflow:Can save best model only with val_loss available, skipping.\n",
            "72/72 [==============================] - 4s 61ms/step - loss: 0.0887 - accuracy: 0.9749\n",
            "Epoch 94/100\n",
            "72/72 [==============================] - ETA: 0s - loss: 0.0523 - accuracy: 0.9833WARNING:tensorflow:Can save best model only with val_loss available, skipping.\n",
            "72/72 [==============================] - 4s 60ms/step - loss: 0.0523 - accuracy: 0.9833\n",
            "Epoch 95/100\n",
            "72/72 [==============================] - ETA: 0s - loss: 0.0708 - accuracy: 0.9777WARNING:tensorflow:Can save best model only with val_loss available, skipping.\n",
            "72/72 [==============================] - 4s 60ms/step - loss: 0.0708 - accuracy: 0.9777\n",
            "Epoch 96/100\n",
            "72/72 [==============================] - ETA: 0s - loss: 0.0301 - accuracy: 0.9916WARNING:tensorflow:Can save best model only with val_loss available, skipping.\n",
            "72/72 [==============================] - 4s 61ms/step - loss: 0.0301 - accuracy: 0.9916\n",
            "Epoch 97/100\n",
            "72/72 [==============================] - ETA: 0s - loss: 0.0186 - accuracy: 0.9916WARNING:tensorflow:Can save best model only with val_loss available, skipping.\n",
            "72/72 [==============================] - 4s 60ms/step - loss: 0.0186 - accuracy: 0.9916\n",
            "Epoch 98/100\n",
            "72/72 [==============================] - ETA: 0s - loss: 0.0254 - accuracy: 0.9916WARNING:tensorflow:Can save best model only with val_loss available, skipping.\n",
            "72/72 [==============================] - 4s 60ms/step - loss: 0.0254 - accuracy: 0.9916\n",
            "Epoch 99/100\n",
            "72/72 [==============================] - ETA: 0s - loss: 0.0270 - accuracy: 0.9916WARNING:tensorflow:Can save best model only with val_loss available, skipping.\n",
            "72/72 [==============================] - 4s 60ms/step - loss: 0.0270 - accuracy: 0.9916\n",
            "Epoch 100/100\n",
            "72/72 [==============================] - ETA: 0s - loss: 0.0335 - accuracy: 0.9861WARNING:tensorflow:Can save best model only with val_loss available, skipping.\n",
            "72/72 [==============================] - 4s 61ms/step - loss: 0.0335 - accuracy: 0.9861\n"
          ],
          "name": "stdout"
        }
      ]
    },
    {
      "cell_type": "code",
      "metadata": {
        "id": "o6O82lZQoVYR",
        "colab_type": "code",
        "colab": {}
      },
      "source": [
        "pred = model.predict(test_img)\n",
        "pred = np.argmax(pred, axis=1)\n",
        "test_data = pd.read_csv(\"/content/drive/My Drive/Colab Notebooks/dl_comptetion/dataset/test.csv\")\n",
        "\n",
        "pred = encoder.inverse_transform(pred)\n",
        "result = pd.DataFrame(pred, test_data[\"Image\"], columns=[\"target\"])\n",
        "result.to_csv(\"/content/drive/My Drive/Colab Notebooks/dl_comptetion/dataset/sample.csv\")"
      ],
      "execution_count": 0,
      "outputs": []
    },
    {
      "cell_type": "code",
      "metadata": {
        "id": "jTPjtUpToVVd",
        "colab_type": "code",
        "colab": {}
      },
      "source": [
        ""
      ],
      "execution_count": 0,
      "outputs": []
    },
    {
      "cell_type": "code",
      "metadata": {
        "id": "iqsXfzSkoVR0",
        "colab_type": "code",
        "colab": {}
      },
      "source": [
        ""
      ],
      "execution_count": 0,
      "outputs": []
    }
  ]
}