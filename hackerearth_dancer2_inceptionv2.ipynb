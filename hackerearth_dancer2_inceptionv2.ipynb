{
  "nbformat": 4,
  "nbformat_minor": 0,
  "metadata": {
    "colab": {
      "name": "inceptionv2.ipynb",
      "provenance": []
    },
    "kernelspec": {
      "name": "python3",
      "display_name": "Python 3"
    }
  },
  "cells": [
    {
      "cell_type": "code",
      "metadata": {
        "id": "SoKTbv_k7kus",
        "colab_type": "code",
        "colab": {}
      },
      "source": [
        "import numpy as np \n",
        "import pandas as pd \n",
        "import cv2, pickle\n",
        "from PIL import Image \n",
        "import os\n",
        "import pathlib\n",
        "import matplotlib.pyplot as plt\n",
        "import tensorflow as tf\n",
        "import tensorflow_addons as tfa\n",
        "from tensorflow.keras.applications import InceptionResNetV2\n",
        "from sklearn.preprocessing import LabelEncoder\n",
        "from keras.utils import np_utils"
      ],
      "execution_count": 0,
      "outputs": []
    },
    {
      "cell_type": "code",
      "metadata": {
        "id": "0BQ0iyng8zFz",
        "colab_type": "code",
        "colab": {}
      },
      "source": [
        "train = pickle.load(open(\"/content/drive/My Drive/Colab Notebooks/dl_comptetion/dataset/train.npy\",'rb'))\n",
        "test = pickle.load(open(\"/content/drive/My Drive/Colab Notebooks/dl_comptetion/dataset/test.npy\",'rb'))\n",
        "train = np.array(train)\n",
        "test = np.array(test)\n",
        "train_data = pd.read_csv(\"/content/drive/My Drive/Colab Notebooks/dl_comptetion/dataset/train.csv\")\n",
        "\n",
        "encoder = LabelEncoder()\n",
        "encoder.fit(train_data[\"target\"])\n",
        "encoded_Y = encoder.transform(train_data[\"target\"])\n",
        "y_labels = np_utils.to_categorical(encoded_Y)\n"
      ],
      "execution_count": 0,
      "outputs": []
    },
    {
      "cell_type": "code",
      "metadata": {
        "id": "kj1vWLlWn2ft",
        "colab_type": "code",
        "colab": {}
      },
      "source": [
        ""
      ],
      "execution_count": 0,
      "outputs": []
    },
    {
      "cell_type": "code",
      "metadata": {
        "id": "Fo28q59m8zCb",
        "colab_type": "code",
        "colab": {}
      },
      "source": [
        "IMG_WIDTH=256\n",
        "IMG_HEIGHT=256\n",
        "BATCH_SIZE = 5"
      ],
      "execution_count": 0,
      "outputs": []
    },
    {
      "cell_type": "code",
      "metadata": {
        "id": "4IAC8oNl8zAX",
        "colab_type": "code",
        "outputId": "bd7c8910-2e6a-4437-b064-453fa22bcc0c",
        "colab": {
          "base_uri": "https://localhost:8080/",
          "height": 70
        }
      },
      "source": [
        "from tensorflow.keras.models import Model\n",
        "import tensorflow.keras as keras\n",
        "\n",
        "resnet = InceptionResNetV2(include_top=False, weights='imagenet', input_shape=(IMG_HEIGHT,IMG_WIDTH,3),pooling='avg')\n",
        "\n",
        "output = resnet.layers[-1].output\n",
        "output = tf.keras.layers.Flatten()(output)\n",
        "resnet = Model(resnet.input, output)"
      ],
      "execution_count": 0,
      "outputs": [
        {
          "output_type": "stream",
          "text": [
            "Downloading data from https://storage.googleapis.com/tensorflow/keras-applications/inception_resnet_v2/inception_resnet_v2_weights_tf_dim_ordering_tf_kernels_notop.h5\n",
            "219062272/219055592 [==============================] - 2s 0us/step\n"
          ],
          "name": "stdout"
        }
      ]
    },
    {
      "cell_type": "code",
      "metadata": {
        "id": "evzsw4WP8y9I",
        "colab_type": "code",
        "colab": {}
      },
      "source": [
        "res_name = []\n",
        "for layer in resnet.layers:\n",
        "    res_name.append(layer.name)\n",
        "\n",
        "set_trainable = False\n",
        "for layer in resnet.layers:\n",
        "    if layer.name in res_name[-447:]:\n",
        "        set_trainable = True\n",
        "    if set_trainable:\n",
        "        layer.trainable = True\n",
        "    else:\n",
        "        layer.trainable = False"
      ],
      "execution_count": 0,
      "outputs": []
    },
    {
      "cell_type": "code",
      "metadata": {
        "id": "jIMyM93t-F_S",
        "colab_type": "code",
        "colab": {}
      },
      "source": [
        "from tensorflow.keras.models import Sequential\n",
        "from tensorflow.keras.layers import Dense, Flatten, GlobalAveragePooling2D, Dropout\n",
        "\n",
        "model = Sequential()\n",
        "model.add(resnet)\n",
        "model.add(Dense(1024, activation='relu'))\n",
        "model.add(Dropout(0.5))\n",
        "model.add(Dense(1024, activation='relu'))\n",
        "model.add(Dropout(0.4))\n",
        "model.add(Dense(8, activation='softmax'))\n",
        "\n",
        "\n",
        "adam = tf.keras.optimizers.Adam(learning_rate=0.0001)\n",
        "\n",
        "early_stop = tf.keras.callbacks.EarlyStopping(monitor='val_loss', patience=8,\n",
        "                                              restore_best_weights=False\n",
        "                                              )\n",
        "\n",
        "reduce_lr = tf.keras.callbacks.ReduceLROnPlateau(monitor='val_loss',\n",
        "                                   factor=0.2,\n",
        "                                   patience=4,\n",
        "                                   verbose=1,\n",
        "                                   min_delta=5*1e-3,min_lr = 5*1e-7,\n",
        "                                   )"
      ],
      "execution_count": 0,
      "outputs": []
    },
    {
      "cell_type": "code",
      "metadata": {
        "id": "KIuWSc8g-edj",
        "colab_type": "code",
        "colab": {}
      },
      "source": [
        "model.compile(optimizer = adam, \n",
        "              loss = 'categorical_crossentropy', \n",
        "              metrics=['accuracy',tfa.metrics.F1Score(num_classes=8)])"
      ],
      "execution_count": 0,
      "outputs": []
    },
    {
      "cell_type": "code",
      "metadata": {
        "id": "JxJC6FK8-n12",
        "colab_type": "code",
        "outputId": "aa1ea350-d090-491d-8fb0-d67a6309ddd4",
        "colab": {
          "base_uri": "https://localhost:8080/",
          "height": 1000
        }
      },
      "source": [
        "model.fit(train, y_labels,steps_per_epoch=np.ceil(float(train.shape[0]) / float(BATCH_SIZE)),\n",
        "                        epochs = 50,callbacks=[early_stop,reduce_lr])"
      ],
      "execution_count": 0,
      "outputs": [
        {
          "output_type": "stream",
          "text": [
            "Epoch 1/50\n",
            "73/73 [==============================] - ETA: 0s - loss: 2.2538 - accuracy: 0.1676 - f1_score: 0.1610WARNING:tensorflow:Early stopping conditioned on metric `val_loss` which is not available. Available metrics are: loss,accuracy,f1_score\n",
            "WARNING:tensorflow:Reduce LR on plateau conditioned on metric `val_loss` which is not available. Available metrics are: loss,accuracy,f1_score,lr\n",
            "73/73 [==============================] - 293s 4s/step - loss: 2.2538 - accuracy: 0.1676 - f1_score: 0.1610 - lr: 1.0000e-04\n",
            "Epoch 2/50\n",
            "73/73 [==============================] - ETA: 0s - loss: 2.1987 - accuracy: 0.1401 - f1_score: 0.1329WARNING:tensorflow:Early stopping conditioned on metric `val_loss` which is not available. Available metrics are: loss,accuracy,f1_score\n",
            "WARNING:tensorflow:Reduce LR on plateau conditioned on metric `val_loss` which is not available. Available metrics are: loss,accuracy,f1_score,lr\n",
            "73/73 [==============================] - 290s 4s/step - loss: 2.1987 - accuracy: 0.1401 - f1_score: 0.1329 - lr: 1.0000e-04\n",
            "Epoch 3/50\n",
            "73/73 [==============================] - ETA: 0s - loss: 2.1698 - accuracy: 0.1731 - f1_score: 0.1664WARNING:tensorflow:Early stopping conditioned on metric `val_loss` which is not available. Available metrics are: loss,accuracy,f1_score\n",
            "WARNING:tensorflow:Reduce LR on plateau conditioned on metric `val_loss` which is not available. Available metrics are: loss,accuracy,f1_score,lr\n",
            "73/73 [==============================] - 295s 4s/step - loss: 2.1698 - accuracy: 0.1731 - f1_score: 0.1664 - lr: 1.0000e-04\n",
            "Epoch 4/50\n",
            "73/73 [==============================] - ETA: 0s - loss: 2.1777 - accuracy: 0.1758 - f1_score: 0.1702WARNING:tensorflow:Early stopping conditioned on metric `val_loss` which is not available. Available metrics are: loss,accuracy,f1_score\n",
            "WARNING:tensorflow:Reduce LR on plateau conditioned on metric `val_loss` which is not available. Available metrics are: loss,accuracy,f1_score,lr\n",
            "73/73 [==============================] - 291s 4s/step - loss: 2.1777 - accuracy: 0.1758 - f1_score: 0.1702 - lr: 1.0000e-04\n",
            "Epoch 5/50\n",
            "73/73 [==============================] - ETA: 0s - loss: 2.0682 - accuracy: 0.1923 - f1_score: 0.1839WARNING:tensorflow:Early stopping conditioned on metric `val_loss` which is not available. Available metrics are: loss,accuracy,f1_score\n",
            "WARNING:tensorflow:Reduce LR on plateau conditioned on metric `val_loss` which is not available. Available metrics are: loss,accuracy,f1_score,lr\n",
            "73/73 [==============================] - 294s 4s/step - loss: 2.0682 - accuracy: 0.1923 - f1_score: 0.1839 - lr: 1.0000e-04\n",
            "Epoch 6/50\n",
            "73/73 [==============================] - ETA: 0s - loss: 2.0476 - accuracy: 0.2143 - f1_score: 0.2055WARNING:tensorflow:Early stopping conditioned on metric `val_loss` which is not available. Available metrics are: loss,accuracy,f1_score\n",
            "WARNING:tensorflow:Reduce LR on plateau conditioned on metric `val_loss` which is not available. Available metrics are: loss,accuracy,f1_score,lr\n",
            "73/73 [==============================] - 291s 4s/step - loss: 2.0476 - accuracy: 0.2143 - f1_score: 0.2055 - lr: 1.0000e-04\n",
            "Epoch 7/50\n",
            "73/73 [==============================] - ETA: 0s - loss: 2.0850 - accuracy: 0.1566 - f1_score: 0.1446WARNING:tensorflow:Early stopping conditioned on metric `val_loss` which is not available. Available metrics are: loss,accuracy,f1_score\n",
            "WARNING:tensorflow:Reduce LR on plateau conditioned on metric `val_loss` which is not available. Available metrics are: loss,accuracy,f1_score,lr\n",
            "73/73 [==============================] - 296s 4s/step - loss: 2.0850 - accuracy: 0.1566 - f1_score: 0.1446 - lr: 1.0000e-04\n",
            "Epoch 8/50\n",
            "73/73 [==============================] - ETA: 0s - loss: 2.0649 - accuracy: 0.1731 - f1_score: 0.1636WARNING:tensorflow:Early stopping conditioned on metric `val_loss` which is not available. Available metrics are: loss,accuracy,f1_score\n",
            "WARNING:tensorflow:Reduce LR on plateau conditioned on metric `val_loss` which is not available. Available metrics are: loss,accuracy,f1_score,lr\n",
            "73/73 [==============================] - 294s 4s/step - loss: 2.0649 - accuracy: 0.1731 - f1_score: 0.1636 - lr: 1.0000e-04\n",
            "Epoch 9/50\n",
            "73/73 [==============================] - ETA: 0s - loss: 2.0210 - accuracy: 0.2198 - f1_score: 0.2028WARNING:tensorflow:Early stopping conditioned on metric `val_loss` which is not available. Available metrics are: loss,accuracy,f1_score\n",
            "WARNING:tensorflow:Reduce LR on plateau conditioned on metric `val_loss` which is not available. Available metrics are: loss,accuracy,f1_score,lr\n",
            "73/73 [==============================] - 297s 4s/step - loss: 2.0210 - accuracy: 0.2198 - f1_score: 0.2028 - lr: 1.0000e-04\n",
            "Epoch 10/50\n",
            "73/73 [==============================] - ETA: 0s - loss: 1.9840 - accuracy: 0.2225 - f1_score: 0.1917WARNING:tensorflow:Early stopping conditioned on metric `val_loss` which is not available. Available metrics are: loss,accuracy,f1_score\n",
            "WARNING:tensorflow:Reduce LR on plateau conditioned on metric `val_loss` which is not available. Available metrics are: loss,accuracy,f1_score,lr\n",
            "73/73 [==============================] - 291s 4s/step - loss: 1.9840 - accuracy: 0.2225 - f1_score: 0.1917 - lr: 1.0000e-04\n",
            "Epoch 11/50\n",
            "73/73 [==============================] - ETA: 0s - loss: 1.9977 - accuracy: 0.2500 - f1_score: 0.2338WARNING:tensorflow:Early stopping conditioned on metric `val_loss` which is not available. Available metrics are: loss,accuracy,f1_score\n",
            "WARNING:tensorflow:Reduce LR on plateau conditioned on metric `val_loss` which is not available. Available metrics are: loss,accuracy,f1_score,lr\n",
            "73/73 [==============================] - 294s 4s/step - loss: 1.9977 - accuracy: 0.2500 - f1_score: 0.2338 - lr: 1.0000e-04\n",
            "Epoch 12/50\n",
            "73/73 [==============================] - ETA: 0s - loss: 2.0147 - accuracy: 0.2390 - f1_score: 0.2265WARNING:tensorflow:Early stopping conditioned on metric `val_loss` which is not available. Available metrics are: loss,accuracy,f1_score\n",
            "WARNING:tensorflow:Reduce LR on plateau conditioned on metric `val_loss` which is not available. Available metrics are: loss,accuracy,f1_score,lr\n",
            "73/73 [==============================] - 291s 4s/step - loss: 2.0147 - accuracy: 0.2390 - f1_score: 0.2265 - lr: 1.0000e-04\n",
            "Epoch 13/50\n",
            "73/73 [==============================] - ETA: 0s - loss: 1.9409 - accuracy: 0.2308 - f1_score: 0.2091WARNING:tensorflow:Early stopping conditioned on metric `val_loss` which is not available. Available metrics are: loss,accuracy,f1_score\n",
            "WARNING:tensorflow:Reduce LR on plateau conditioned on metric `val_loss` which is not available. Available metrics are: loss,accuracy,f1_score,lr\n",
            "73/73 [==============================] - 293s 4s/step - loss: 1.9409 - accuracy: 0.2308 - f1_score: 0.2091 - lr: 1.0000e-04\n",
            "Epoch 14/50\n",
            "73/73 [==============================] - ETA: 0s - loss: 1.9365 - accuracy: 0.2692 - f1_score: 0.2558WARNING:tensorflow:Early stopping conditioned on metric `val_loss` which is not available. Available metrics are: loss,accuracy,f1_score\n",
            "WARNING:tensorflow:Reduce LR on plateau conditioned on metric `val_loss` which is not available. Available metrics are: loss,accuracy,f1_score,lr\n",
            "73/73 [==============================] - 290s 4s/step - loss: 1.9365 - accuracy: 0.2692 - f1_score: 0.2558 - lr: 1.0000e-04\n",
            "Epoch 15/50\n",
            "73/73 [==============================] - ETA: 0s - loss: 1.9145 - accuracy: 0.2747 - f1_score: 0.2618WARNING:tensorflow:Early stopping conditioned on metric `val_loss` which is not available. Available metrics are: loss,accuracy,f1_score\n",
            "WARNING:tensorflow:Reduce LR on plateau conditioned on metric `val_loss` which is not available. Available metrics are: loss,accuracy,f1_score,lr\n",
            "73/73 [==============================] - 293s 4s/step - loss: 1.9145 - accuracy: 0.2747 - f1_score: 0.2618 - lr: 1.0000e-04\n",
            "Epoch 16/50\n",
            "73/73 [==============================] - ETA: 0s - loss: 1.8932 - accuracy: 0.2692 - f1_score: 0.2517WARNING:tensorflow:Early stopping conditioned on metric `val_loss` which is not available. Available metrics are: loss,accuracy,f1_score\n",
            "WARNING:tensorflow:Reduce LR on plateau conditioned on metric `val_loss` which is not available. Available metrics are: loss,accuracy,f1_score,lr\n",
            "73/73 [==============================] - 289s 4s/step - loss: 1.8932 - accuracy: 0.2692 - f1_score: 0.2517 - lr: 1.0000e-04\n",
            "Epoch 17/50\n",
            "73/73 [==============================] - ETA: 0s - loss: 1.8926 - accuracy: 0.2253 - f1_score: 0.2027WARNING:tensorflow:Early stopping conditioned on metric `val_loss` which is not available. Available metrics are: loss,accuracy,f1_score\n",
            "WARNING:tensorflow:Reduce LR on plateau conditioned on metric `val_loss` which is not available. Available metrics are: loss,accuracy,f1_score,lr\n",
            "73/73 [==============================] - 292s 4s/step - loss: 1.8926 - accuracy: 0.2253 - f1_score: 0.2027 - lr: 1.0000e-04\n",
            "Epoch 18/50\n",
            "73/73 [==============================] - ETA: 0s - loss: 1.8960 - accuracy: 0.2637 - f1_score: 0.2488WARNING:tensorflow:Early stopping conditioned on metric `val_loss` which is not available. Available metrics are: loss,accuracy,f1_score\n",
            "WARNING:tensorflow:Reduce LR on plateau conditioned on metric `val_loss` which is not available. Available metrics are: loss,accuracy,f1_score,lr\n",
            "73/73 [==============================] - 289s 4s/step - loss: 1.8960 - accuracy: 0.2637 - f1_score: 0.2488 - lr: 1.0000e-04\n",
            "Epoch 19/50\n",
            "73/73 [==============================] - ETA: 0s - loss: 1.8888 - accuracy: 0.2582 - f1_score: 0.2405WARNING:tensorflow:Early stopping conditioned on metric `val_loss` which is not available. Available metrics are: loss,accuracy,f1_score\n",
            "WARNING:tensorflow:Reduce LR on plateau conditioned on metric `val_loss` which is not available. Available metrics are: loss,accuracy,f1_score,lr\n",
            "73/73 [==============================] - 298s 4s/step - loss: 1.8888 - accuracy: 0.2582 - f1_score: 0.2405 - lr: 1.0000e-04\n",
            "Epoch 20/50\n",
            "73/73 [==============================] - ETA: 0s - loss: 1.9261 - accuracy: 0.2500 - f1_score: 0.2344WARNING:tensorflow:Early stopping conditioned on metric `val_loss` which is not available. Available metrics are: loss,accuracy,f1_score\n",
            "WARNING:tensorflow:Reduce LR on plateau conditioned on metric `val_loss` which is not available. Available metrics are: loss,accuracy,f1_score,lr\n",
            "73/73 [==============================] - 297s 4s/step - loss: 1.9261 - accuracy: 0.2500 - f1_score: 0.2344 - lr: 1.0000e-04\n",
            "Epoch 21/50\n",
            "73/73 [==============================] - ETA: 0s - loss: 1.8412 - accuracy: 0.3214 - f1_score: 0.3085WARNING:tensorflow:Early stopping conditioned on metric `val_loss` which is not available. Available metrics are: loss,accuracy,f1_score\n",
            "WARNING:tensorflow:Reduce LR on plateau conditioned on metric `val_loss` which is not available. Available metrics are: loss,accuracy,f1_score,lr\n",
            "73/73 [==============================] - 293s 4s/step - loss: 1.8412 - accuracy: 0.3214 - f1_score: 0.3085 - lr: 1.0000e-04\n",
            "Epoch 22/50\n",
            "73/73 [==============================] - ETA: 0s - loss: 1.7964 - accuracy: 0.3132 - f1_score: 0.2943WARNING:tensorflow:Early stopping conditioned on metric `val_loss` which is not available. Available metrics are: loss,accuracy,f1_score\n",
            "WARNING:tensorflow:Reduce LR on plateau conditioned on metric `val_loss` which is not available. Available metrics are: loss,accuracy,f1_score,lr\n",
            "73/73 [==============================] - 292s 4s/step - loss: 1.7964 - accuracy: 0.3132 - f1_score: 0.2943 - lr: 1.0000e-04\n",
            "Epoch 23/50\n",
            "73/73 [==============================] - ETA: 0s - loss: 1.8350 - accuracy: 0.2940 - f1_score: 0.2763WARNING:tensorflow:Early stopping conditioned on metric `val_loss` which is not available. Available metrics are: loss,accuracy,f1_score\n",
            "WARNING:tensorflow:Reduce LR on plateau conditioned on metric `val_loss` which is not available. Available metrics are: loss,accuracy,f1_score,lr\n",
            "73/73 [==============================] - 292s 4s/step - loss: 1.8350 - accuracy: 0.2940 - f1_score: 0.2763 - lr: 1.0000e-04\n",
            "Epoch 24/50\n",
            "73/73 [==============================] - ETA: 0s - loss: 1.8652 - accuracy: 0.2802 - f1_score: 0.2644WARNING:tensorflow:Early stopping conditioned on metric `val_loss` which is not available. Available metrics are: loss,accuracy,f1_score\n",
            "WARNING:tensorflow:Reduce LR on plateau conditioned on metric `val_loss` which is not available. Available metrics are: loss,accuracy,f1_score,lr\n",
            "73/73 [==============================] - 295s 4s/step - loss: 1.8652 - accuracy: 0.2802 - f1_score: 0.2644 - lr: 1.0000e-04\n",
            "Epoch 25/50\n",
            "73/73 [==============================] - ETA: 0s - loss: 1.7894 - accuracy: 0.2747 - f1_score: 0.2610WARNING:tensorflow:Early stopping conditioned on metric `val_loss` which is not available. Available metrics are: loss,accuracy,f1_score\n",
            "WARNING:tensorflow:Reduce LR on plateau conditioned on metric `val_loss` which is not available. Available metrics are: loss,accuracy,f1_score,lr\n",
            "73/73 [==============================] - 290s 4s/step - loss: 1.7894 - accuracy: 0.2747 - f1_score: 0.2610 - lr: 1.0000e-04\n",
            "Epoch 26/50\n",
            "73/73 [==============================] - ETA: 0s - loss: 1.7917 - accuracy: 0.3022 - f1_score: 0.2854WARNING:tensorflow:Early stopping conditioned on metric `val_loss` which is not available. Available metrics are: loss,accuracy,f1_score\n",
            "WARNING:tensorflow:Reduce LR on plateau conditioned on metric `val_loss` which is not available. Available metrics are: loss,accuracy,f1_score,lr\n",
            "73/73 [==============================] - 293s 4s/step - loss: 1.7917 - accuracy: 0.3022 - f1_score: 0.2854 - lr: 1.0000e-04\n",
            "Epoch 27/50\n",
            "73/73 [==============================] - ETA: 0s - loss: 1.7918 - accuracy: 0.3269 - f1_score: 0.3059WARNING:tensorflow:Early stopping conditioned on metric `val_loss` which is not available. Available metrics are: loss,accuracy,f1_score\n",
            "WARNING:tensorflow:Reduce LR on plateau conditioned on metric `val_loss` which is not available. Available metrics are: loss,accuracy,f1_score,lr\n",
            "73/73 [==============================] - 289s 4s/step - loss: 1.7918 - accuracy: 0.3269 - f1_score: 0.3059 - lr: 1.0000e-04\n",
            "Epoch 28/50\n",
            "73/73 [==============================] - ETA: 0s - loss: 1.7406 - accuracy: 0.3297 - f1_score: 0.3175WARNING:tensorflow:Early stopping conditioned on metric `val_loss` which is not available. Available metrics are: loss,accuracy,f1_score\n",
            "WARNING:tensorflow:Reduce LR on plateau conditioned on metric `val_loss` which is not available. Available metrics are: loss,accuracy,f1_score,lr\n",
            "73/73 [==============================] - 294s 4s/step - loss: 1.7406 - accuracy: 0.3297 - f1_score: 0.3175 - lr: 1.0000e-04\n",
            "Epoch 29/50\n",
            "73/73 [==============================] - ETA: 0s - loss: 1.7318 - accuracy: 0.3434 - f1_score: 0.3320WARNING:tensorflow:Early stopping conditioned on metric `val_loss` which is not available. Available metrics are: loss,accuracy,f1_score\n",
            "WARNING:tensorflow:Reduce LR on plateau conditioned on metric `val_loss` which is not available. Available metrics are: loss,accuracy,f1_score,lr\n",
            "73/73 [==============================] - 290s 4s/step - loss: 1.7318 - accuracy: 0.3434 - f1_score: 0.3320 - lr: 1.0000e-04\n",
            "Epoch 30/50\n",
            "73/73 [==============================] - ETA: 0s - loss: 1.6871 - accuracy: 0.3434 - f1_score: 0.3336WARNING:tensorflow:Early stopping conditioned on metric `val_loss` which is not available. Available metrics are: loss,accuracy,f1_score\n",
            "WARNING:tensorflow:Reduce LR on plateau conditioned on metric `val_loss` which is not available. Available metrics are: loss,accuracy,f1_score,lr\n",
            "73/73 [==============================] - 295s 4s/step - loss: 1.6871 - accuracy: 0.3434 - f1_score: 0.3336 - lr: 1.0000e-04\n",
            "Epoch 31/50\n",
            "73/73 [==============================] - ETA: 0s - loss: 1.7642 - accuracy: 0.3077 - f1_score: 0.2938WARNING:tensorflow:Early stopping conditioned on metric `val_loss` which is not available. Available metrics are: loss,accuracy,f1_score\n",
            "WARNING:tensorflow:Reduce LR on plateau conditioned on metric `val_loss` which is not available. Available metrics are: loss,accuracy,f1_score,lr\n",
            "73/73 [==============================] - 295s 4s/step - loss: 1.7642 - accuracy: 0.3077 - f1_score: 0.2938 - lr: 1.0000e-04\n",
            "Epoch 32/50\n",
            "73/73 [==============================] - ETA: 0s - loss: 1.6908 - accuracy: 0.3462 - f1_score: 0.3340WARNING:tensorflow:Early stopping conditioned on metric `val_loss` which is not available. Available metrics are: loss,accuracy,f1_score\n",
            "WARNING:tensorflow:Reduce LR on plateau conditioned on metric `val_loss` which is not available. Available metrics are: loss,accuracy,f1_score,lr\n",
            "73/73 [==============================] - 302s 4s/step - loss: 1.6908 - accuracy: 0.3462 - f1_score: 0.3340 - lr: 1.0000e-04\n",
            "Epoch 33/50\n",
            "73/73 [==============================] - ETA: 0s - loss: 1.6278 - accuracy: 0.3874 - f1_score: 0.3660WARNING:tensorflow:Early stopping conditioned on metric `val_loss` which is not available. Available metrics are: loss,accuracy,f1_score\n",
            "WARNING:tensorflow:Reduce LR on plateau conditioned on metric `val_loss` which is not available. Available metrics are: loss,accuracy,f1_score,lr\n",
            "73/73 [==============================] - 297s 4s/step - loss: 1.6278 - accuracy: 0.3874 - f1_score: 0.3660 - lr: 1.0000e-04\n",
            "Epoch 34/50\n",
            "73/73 [==============================] - ETA: 0s - loss: 1.6893 - accuracy: 0.3462 - f1_score: 0.3402WARNING:tensorflow:Early stopping conditioned on metric `val_loss` which is not available. Available metrics are: loss,accuracy,f1_score\n",
            "WARNING:tensorflow:Reduce LR on plateau conditioned on metric `val_loss` which is not available. Available metrics are: loss,accuracy,f1_score,lr\n",
            "73/73 [==============================] - 296s 4s/step - loss: 1.6893 - accuracy: 0.3462 - f1_score: 0.3402 - lr: 1.0000e-04\n",
            "Epoch 35/50\n",
            "73/73 [==============================] - ETA: 0s - loss: 1.6634 - accuracy: 0.3434 - f1_score: 0.3265WARNING:tensorflow:Early stopping conditioned on metric `val_loss` which is not available. Available metrics are: loss,accuracy,f1_score\n",
            "WARNING:tensorflow:Reduce LR on plateau conditioned on metric `val_loss` which is not available. Available metrics are: loss,accuracy,f1_score,lr\n",
            "73/73 [==============================] - 293s 4s/step - loss: 1.6634 - accuracy: 0.3434 - f1_score: 0.3265 - lr: 1.0000e-04\n",
            "Epoch 36/50\n",
            "73/73 [==============================] - ETA: 0s - loss: 1.5611 - accuracy: 0.3984 - f1_score: 0.3825WARNING:tensorflow:Early stopping conditioned on metric `val_loss` which is not available. Available metrics are: loss,accuracy,f1_score\n",
            "WARNING:tensorflow:Reduce LR on plateau conditioned on metric `val_loss` which is not available. Available metrics are: loss,accuracy,f1_score,lr\n",
            "73/73 [==============================] - 294s 4s/step - loss: 1.5611 - accuracy: 0.3984 - f1_score: 0.3825 - lr: 1.0000e-04\n",
            "Epoch 37/50\n",
            "73/73 [==============================] - ETA: 0s - loss: 1.5985 - accuracy: 0.3901 - f1_score: 0.3803WARNING:tensorflow:Early stopping conditioned on metric `val_loss` which is not available. Available metrics are: loss,accuracy,f1_score\n",
            "WARNING:tensorflow:Reduce LR on plateau conditioned on metric `val_loss` which is not available. Available metrics are: loss,accuracy,f1_score,lr\n",
            "73/73 [==============================] - 299s 4s/step - loss: 1.5985 - accuracy: 0.3901 - f1_score: 0.3803 - lr: 1.0000e-04\n",
            "Epoch 38/50\n",
            "73/73 [==============================] - ETA: 0s - loss: 1.6575 - accuracy: 0.3626 - f1_score: 0.3414WARNING:tensorflow:Early stopping conditioned on metric `val_loss` which is not available. Available metrics are: loss,accuracy,f1_score\n",
            "WARNING:tensorflow:Reduce LR on plateau conditioned on metric `val_loss` which is not available. Available metrics are: loss,accuracy,f1_score,lr\n",
            "73/73 [==============================] - 303s 4s/step - loss: 1.6575 - accuracy: 0.3626 - f1_score: 0.3414 - lr: 1.0000e-04\n",
            "Epoch 39/50\n",
            "73/73 [==============================] - ETA: 0s - loss: 1.5474 - accuracy: 0.4038 - f1_score: 0.3841WARNING:tensorflow:Early stopping conditioned on metric `val_loss` which is not available. Available metrics are: loss,accuracy,f1_score\n",
            "WARNING:tensorflow:Reduce LR on plateau conditioned on metric `val_loss` which is not available. Available metrics are: loss,accuracy,f1_score,lr\n",
            "73/73 [==============================] - 292s 4s/step - loss: 1.5474 - accuracy: 0.4038 - f1_score: 0.3841 - lr: 1.0000e-04\n",
            "Epoch 40/50\n",
            "73/73 [==============================] - ETA: 0s - loss: 1.5886 - accuracy: 0.4121 - f1_score: 0.3948WARNING:tensorflow:Early stopping conditioned on metric `val_loss` which is not available. Available metrics are: loss,accuracy,f1_score\n",
            "WARNING:tensorflow:Reduce LR on plateau conditioned on metric `val_loss` which is not available. Available metrics are: loss,accuracy,f1_score,lr\n",
            "73/73 [==============================] - 295s 4s/step - loss: 1.5886 - accuracy: 0.4121 - f1_score: 0.3948 - lr: 1.0000e-04\n",
            "Epoch 41/50\n",
            "73/73 [==============================] - ETA: 0s - loss: 1.4794 - accuracy: 0.4258 - f1_score: 0.4101WARNING:tensorflow:Early stopping conditioned on metric `val_loss` which is not available. Available metrics are: loss,accuracy,f1_score\n",
            "WARNING:tensorflow:Reduce LR on plateau conditioned on metric `val_loss` which is not available. Available metrics are: loss,accuracy,f1_score,lr\n",
            "73/73 [==============================] - 292s 4s/step - loss: 1.4794 - accuracy: 0.4258 - f1_score: 0.4101 - lr: 1.0000e-04\n",
            "Epoch 42/50\n",
            "73/73 [==============================] - ETA: 0s - loss: 1.5041 - accuracy: 0.4121 - f1_score: 0.3998WARNING:tensorflow:Early stopping conditioned on metric `val_loss` which is not available. Available metrics are: loss,accuracy,f1_score\n",
            "WARNING:tensorflow:Reduce LR on plateau conditioned on metric `val_loss` which is not available. Available metrics are: loss,accuracy,f1_score,lr\n",
            "73/73 [==============================] - 295s 4s/step - loss: 1.5041 - accuracy: 0.4121 - f1_score: 0.3998 - lr: 1.0000e-04\n",
            "Epoch 43/50\n",
            "73/73 [==============================] - ETA: 0s - loss: 1.5261 - accuracy: 0.4258 - f1_score: 0.4070WARNING:tensorflow:Early stopping conditioned on metric `val_loss` which is not available. Available metrics are: loss,accuracy,f1_score\n",
            "WARNING:tensorflow:Reduce LR on plateau conditioned on metric `val_loss` which is not available. Available metrics are: loss,accuracy,f1_score,lr\n",
            "73/73 [==============================] - 297s 4s/step - loss: 1.5261 - accuracy: 0.4258 - f1_score: 0.4070 - lr: 1.0000e-04\n",
            "Epoch 44/50\n",
            "73/73 [==============================] - ETA: 0s - loss: 1.5530 - accuracy: 0.4093 - f1_score: 0.3944WARNING:tensorflow:Early stopping conditioned on metric `val_loss` which is not available. Available metrics are: loss,accuracy,f1_score\n",
            "WARNING:tensorflow:Reduce LR on plateau conditioned on metric `val_loss` which is not available. Available metrics are: loss,accuracy,f1_score,lr\n",
            "73/73 [==============================] - 301s 4s/step - loss: 1.5530 - accuracy: 0.4093 - f1_score: 0.3944 - lr: 1.0000e-04\n",
            "Epoch 45/50\n",
            "73/73 [==============================] - ETA: 0s - loss: 1.4189 - accuracy: 0.4588 - f1_score: 0.4354WARNING:tensorflow:Early stopping conditioned on metric `val_loss` which is not available. Available metrics are: loss,accuracy,f1_score\n",
            "WARNING:tensorflow:Reduce LR on plateau conditioned on metric `val_loss` which is not available. Available metrics are: loss,accuracy,f1_score,lr\n",
            "73/73 [==============================] - 313s 4s/step - loss: 1.4189 - accuracy: 0.4588 - f1_score: 0.4354 - lr: 1.0000e-04\n",
            "Epoch 46/50\n",
            "73/73 [==============================] - ETA: 0s - loss: 1.3861 - accuracy: 0.4698 - f1_score: 0.4549WARNING:tensorflow:Early stopping conditioned on metric `val_loss` which is not available. Available metrics are: loss,accuracy,f1_score\n",
            "WARNING:tensorflow:Reduce LR on plateau conditioned on metric `val_loss` which is not available. Available metrics are: loss,accuracy,f1_score,lr\n",
            "73/73 [==============================] - 310s 4s/step - loss: 1.3861 - accuracy: 0.4698 - f1_score: 0.4549 - lr: 1.0000e-04\n",
            "Epoch 47/50\n",
            "73/73 [==============================] - ETA: 0s - loss: 1.4646 - accuracy: 0.4588 - f1_score: 0.4498WARNING:tensorflow:Early stopping conditioned on metric `val_loss` which is not available. Available metrics are: loss,accuracy,f1_score\n",
            "WARNING:tensorflow:Reduce LR on plateau conditioned on metric `val_loss` which is not available. Available metrics are: loss,accuracy,f1_score,lr\n",
            "73/73 [==============================] - 291s 4s/step - loss: 1.4646 - accuracy: 0.4588 - f1_score: 0.4498 - lr: 1.0000e-04\n",
            "Epoch 48/50\n",
            "73/73 [==============================] - ETA: 0s - loss: 1.4185 - accuracy: 0.4615 - f1_score: 0.4498WARNING:tensorflow:Early stopping conditioned on metric `val_loss` which is not available. Available metrics are: loss,accuracy,f1_score\n",
            "WARNING:tensorflow:Reduce LR on plateau conditioned on metric `val_loss` which is not available. Available metrics are: loss,accuracy,f1_score,lr\n",
            "73/73 [==============================] - 295s 4s/step - loss: 1.4185 - accuracy: 0.4615 - f1_score: 0.4498 - lr: 1.0000e-04\n",
            "Epoch 49/50\n",
            "73/73 [==============================] - ETA: 0s - loss: 1.3833 - accuracy: 0.4368 - f1_score: 0.4278WARNING:tensorflow:Early stopping conditioned on metric `val_loss` which is not available. Available metrics are: loss,accuracy,f1_score\n",
            "WARNING:tensorflow:Reduce LR on plateau conditioned on metric `val_loss` which is not available. Available metrics are: loss,accuracy,f1_score,lr\n",
            "73/73 [==============================] - 291s 4s/step - loss: 1.3833 - accuracy: 0.4368 - f1_score: 0.4278 - lr: 1.0000e-04\n",
            "Epoch 50/50\n",
            "73/73 [==============================] - ETA: 0s - loss: 1.3368 - accuracy: 0.4753 - f1_score: 0.4609WARNING:tensorflow:Early stopping conditioned on metric `val_loss` which is not available. Available metrics are: loss,accuracy,f1_score\n",
            "WARNING:tensorflow:Reduce LR on plateau conditioned on metric `val_loss` which is not available. Available metrics are: loss,accuracy,f1_score,lr\n",
            "73/73 [==============================] - 293s 4s/step - loss: 1.3368 - accuracy: 0.4753 - f1_score: 0.4609 - lr: 1.0000e-04\n"
          ],
          "name": "stdout"
        },
        {
          "output_type": "execute_result",
          "data": {
            "text/plain": [
              "<tensorflow.python.keras.callbacks.History at 0x7f19229fa2b0>"
            ]
          },
          "metadata": {
            "tags": []
          },
          "execution_count": 22
        }
      ]
    },
    {
      "cell_type": "code",
      "metadata": {
        "id": "M_4aXcDp-w4y",
        "colab_type": "code",
        "colab": {}
      },
      "source": [
        "pred = model.predict(test)\n",
        "pred = np.argmax(pred, axis=1)\n",
        "test_data = pd.read_csv(\"/content/drive/My Drive/Colab Notebooks/dl_comptetion/dataset/test.csv\")\n",
        "\n",
        "pred = encoder.inverse_transform(pred)\n",
        "result = pd.DataFrame(pred, test_data[\"Image\"], columns=[\"target\"])\n",
        "result.to_csv(\"/content/drive/My Drive/Colab Notebooks/dl_comptetion/dataset/sample.csv\")"
      ],
      "execution_count": 0,
      "outputs": []
    },
    {
      "cell_type": "code",
      "metadata": {
        "id": "7eRLYxB4-0jg",
        "colab_type": "code",
        "colab": {}
      },
      "source": [
        ""
      ],
      "execution_count": 0,
      "outputs": []
    }
  ]
}