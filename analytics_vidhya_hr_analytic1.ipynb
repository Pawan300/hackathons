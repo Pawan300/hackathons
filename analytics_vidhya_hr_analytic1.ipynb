{
  "nbformat": 4,
  "nbformat_minor": 0,
  "metadata": {
    "colab": {
      "name": "hacathon_analytic.ipynb",
      "provenance": [],
      "collapsed_sections": [],
      "toc_visible": true
    },
    "kernelspec": {
      "name": "python3",
      "display_name": "Python 3"
    }
  },
  "cells": [
    {
      "cell_type": "code",
      "metadata": {
        "id": "gRXk5IKkJrW3",
        "colab_type": "code",
        "colab": {
          "base_uri": "https://localhost:8080/",
          "height": 72
        },
        "outputId": "76fd7637-0287-40c8-8578-89eef8186df6"
      },
      "source": [
        "import sys\n",
        "import pandas as pd\n",
        "import numpy as np\n",
        "from scipy.stats import uniform,randint\n",
        "import seaborn as sns\n",
        "import matplotlib.pyplot as plt\n",
        "from statistics import mode,mean\n",
        "from sklearn.model_selection import train_test_split\n",
        "from sklearn.metrics import f1_score\n",
        "from sklearn.ensemble import RandomForestClassifier,GradientBoostingClassifier,AdaBoostClassifier\n",
        "from sklearn.linear_model import LogisticRegression\n",
        "from sklearn.svm import SVC\n",
        "from sklearn.neighbors import KNeighborsClassifier\n",
        "from sklearn.neural_network import MLPClassifier\n",
        "from sklearn.tree import DecisionTreeClassifier\n",
        "from sklearn.naive_bayes import GaussianNB\n",
        "from xgboost import XGBClassifier\n",
        "from imblearn.over_sampling import SMOTE\n",
        "from sklearn.preprocessing import LabelEncoder\n",
        "from sklearn.model_selection import RandomizedSearchCV"
      ],
      "execution_count": 1,
      "outputs": [
        {
          "output_type": "stream",
          "text": [
            "/usr/local/lib/python3.6/dist-packages/sklearn/externals/six.py:31: DeprecationWarning: The module is deprecated in version 0.21 and will be removed in version 0.23 since we've dropped support for Python 2.7. Please rely on the official version of six (https://pypi.org/project/six/).\n",
            "  \"(https://pypi.org/project/six/).\", DeprecationWarning)\n"
          ],
          "name": "stderr"
        }
      ]
    },
    {
      "cell_type": "code",
      "metadata": {
        "id": "MNpuSCg9Jy9m",
        "colab_type": "code",
        "outputId": "119905a1-630a-46c8-b409-d21f6a7c301b",
        "colab": {
          "base_uri": "https://localhost:8080/",
          "height": 125
        }
      },
      "source": [
        "from google.colab import drive\n",
        "drive.mount('/content/drive')"
      ],
      "execution_count": 2,
      "outputs": [
        {
          "output_type": "stream",
          "text": [
            "Go to this URL in a browser: https://accounts.google.com/o/oauth2/auth?client_id=947318989803-6bn6qk8qdgf4n4g3pfee6491hc0brc4i.apps.googleusercontent.com&redirect_uri=urn%3aietf%3awg%3aoauth%3a2.0%3aoob&response_type=code&scope=email%20https%3a%2f%2fwww.googleapis.com%2fauth%2fdocs.test%20https%3a%2f%2fwww.googleapis.com%2fauth%2fdrive%20https%3a%2f%2fwww.googleapis.com%2fauth%2fdrive.photos.readonly%20https%3a%2f%2fwww.googleapis.com%2fauth%2fpeopleapi.readonly\n",
            "\n",
            "Enter your authorization code:\n",
            "··········\n",
            "Mounted at /content/drive\n"
          ],
          "name": "stdout"
        }
      ]
    },
    {
      "cell_type": "code",
      "metadata": {
        "id": "XWGSHPYTJzbK",
        "colab_type": "code",
        "colab": {}
      },
      "source": [
        "train=pd.read_csv(\"/content/drive/My Drive/Colab Notebooks/hacathon_analytic_vidhya/train.csv\")\n",
        "test=pd.read_csv(\"/content/drive/My Drive/Colab Notebooks/hacathon_analytic_vidhya/test.csv\")"
      ],
      "execution_count": 0,
      "outputs": []
    },
    {
      "cell_type": "code",
      "metadata": {
        "id": "jrtPjO6bKGZE",
        "colab_type": "code",
        "outputId": "c037932c-ede2-40b6-b80b-5bde7c09d789",
        "colab": {
          "base_uri": "https://localhost:8080/",
          "height": 34
        }
      },
      "source": [
        "train.shape"
      ],
      "execution_count": 0,
      "outputs": [
        {
          "output_type": "execute_result",
          "data": {
            "text/plain": [
              "(54808, 14)"
            ]
          },
          "metadata": {
            "tags": []
          },
          "execution_count": 38
        }
      ]
    },
    {
      "cell_type": "code",
      "metadata": {
        "id": "Ymjii8myKIDW",
        "colab_type": "code",
        "outputId": "25549e63-707b-40d4-9017-f8c06d1f030a",
        "colab": {
          "base_uri": "https://localhost:8080/",
          "height": 34
        }
      },
      "source": [
        "test.shape"
      ],
      "execution_count": 0,
      "outputs": [
        {
          "output_type": "execute_result",
          "data": {
            "text/plain": [
              "(23490, 13)"
            ]
          },
          "metadata": {
            "tags": []
          },
          "execution_count": 39
        }
      ]
    },
    {
      "cell_type": "code",
      "metadata": {
        "id": "ySU78kZ2LeFY",
        "colab_type": "code",
        "outputId": "8fcce401-9ec0-4c52-eea5-5a6fd7cb0e3d",
        "colab": {
          "base_uri": "https://localhost:8080/",
          "height": 265
        }
      },
      "source": [
        "test.isna().sum()"
      ],
      "execution_count": 0,
      "outputs": [
        {
          "output_type": "execute_result",
          "data": {
            "text/plain": [
              "employee_id                0\n",
              "department                 0\n",
              "region                     0\n",
              "education               1034\n",
              "gender                     0\n",
              "recruitment_channel        0\n",
              "no_of_trainings            0\n",
              "age                        0\n",
              "previous_year_rating    1812\n",
              "length_of_service          0\n",
              "KPIs_met >80%              0\n",
              "awards_won?                0\n",
              "avg_training_score         0\n",
              "dtype: int64"
            ]
          },
          "metadata": {
            "tags": []
          },
          "execution_count": 158
        }
      ]
    },
    {
      "cell_type": "code",
      "metadata": {
        "id": "Lh7l7mXnLGMQ",
        "colab_type": "code",
        "outputId": "b30d52b2-ef35-44e0-f12d-5049c4655578",
        "colab": {
          "base_uri": "https://localhost:8080/",
          "height": 283
        }
      },
      "source": [
        "train.isna().sum()"
      ],
      "execution_count": 0,
      "outputs": [
        {
          "output_type": "execute_result",
          "data": {
            "text/plain": [
              "employee_id                0\n",
              "department                 0\n",
              "region                     0\n",
              "education               2409\n",
              "gender                     0\n",
              "recruitment_channel        0\n",
              "no_of_trainings            0\n",
              "age                        0\n",
              "previous_year_rating    4124\n",
              "length_of_service          0\n",
              "KPIs_met >80%              0\n",
              "awards_won?                0\n",
              "avg_training_score         0\n",
              "is_promoted                0\n",
              "dtype: int64"
            ]
          },
          "metadata": {
            "tags": []
          },
          "execution_count": 159
        }
      ]
    },
    {
      "cell_type": "code",
      "metadata": {
        "id": "QaM-TFufLWSF",
        "colab_type": "code",
        "outputId": "14767717-e877-4e21-8c0c-cf36eb8d02d6",
        "colab": {
          "base_uri": "https://localhost:8080/",
          "height": 284
        }
      },
      "source": [
        "train.head()"
      ],
      "execution_count": 0,
      "outputs": [
        {
          "output_type": "execute_result",
          "data": {
            "text/html": [
              "<div>\n",
              "<style scoped>\n",
              "    .dataframe tbody tr th:only-of-type {\n",
              "        vertical-align: middle;\n",
              "    }\n",
              "\n",
              "    .dataframe tbody tr th {\n",
              "        vertical-align: top;\n",
              "    }\n",
              "\n",
              "    .dataframe thead th {\n",
              "        text-align: right;\n",
              "    }\n",
              "</style>\n",
              "<table border=\"1\" class=\"dataframe\">\n",
              "  <thead>\n",
              "    <tr style=\"text-align: right;\">\n",
              "      <th></th>\n",
              "      <th>employee_id</th>\n",
              "      <th>department</th>\n",
              "      <th>region</th>\n",
              "      <th>education</th>\n",
              "      <th>gender</th>\n",
              "      <th>recruitment_channel</th>\n",
              "      <th>no_of_trainings</th>\n",
              "      <th>age</th>\n",
              "      <th>previous_year_rating</th>\n",
              "      <th>length_of_service</th>\n",
              "      <th>KPIs_met &gt;80%</th>\n",
              "      <th>awards_won?</th>\n",
              "      <th>avg_training_score</th>\n",
              "      <th>is_promoted</th>\n",
              "    </tr>\n",
              "  </thead>\n",
              "  <tbody>\n",
              "    <tr>\n",
              "      <th>0</th>\n",
              "      <td>65438</td>\n",
              "      <td>Sales &amp; Marketing</td>\n",
              "      <td>region_7</td>\n",
              "      <td>Master's &amp; above</td>\n",
              "      <td>f</td>\n",
              "      <td>sourcing</td>\n",
              "      <td>1</td>\n",
              "      <td>35</td>\n",
              "      <td>5.0</td>\n",
              "      <td>8</td>\n",
              "      <td>1</td>\n",
              "      <td>0</td>\n",
              "      <td>49</td>\n",
              "      <td>0</td>\n",
              "    </tr>\n",
              "    <tr>\n",
              "      <th>1</th>\n",
              "      <td>65141</td>\n",
              "      <td>Operations</td>\n",
              "      <td>region_22</td>\n",
              "      <td>Bachelor's</td>\n",
              "      <td>m</td>\n",
              "      <td>other</td>\n",
              "      <td>1</td>\n",
              "      <td>30</td>\n",
              "      <td>5.0</td>\n",
              "      <td>4</td>\n",
              "      <td>0</td>\n",
              "      <td>0</td>\n",
              "      <td>60</td>\n",
              "      <td>0</td>\n",
              "    </tr>\n",
              "    <tr>\n",
              "      <th>2</th>\n",
              "      <td>7513</td>\n",
              "      <td>Sales &amp; Marketing</td>\n",
              "      <td>region_19</td>\n",
              "      <td>Bachelor's</td>\n",
              "      <td>m</td>\n",
              "      <td>sourcing</td>\n",
              "      <td>1</td>\n",
              "      <td>34</td>\n",
              "      <td>3.0</td>\n",
              "      <td>7</td>\n",
              "      <td>0</td>\n",
              "      <td>0</td>\n",
              "      <td>50</td>\n",
              "      <td>0</td>\n",
              "    </tr>\n",
              "    <tr>\n",
              "      <th>3</th>\n",
              "      <td>2542</td>\n",
              "      <td>Sales &amp; Marketing</td>\n",
              "      <td>region_23</td>\n",
              "      <td>Bachelor's</td>\n",
              "      <td>m</td>\n",
              "      <td>other</td>\n",
              "      <td>2</td>\n",
              "      <td>39</td>\n",
              "      <td>1.0</td>\n",
              "      <td>10</td>\n",
              "      <td>0</td>\n",
              "      <td>0</td>\n",
              "      <td>50</td>\n",
              "      <td>0</td>\n",
              "    </tr>\n",
              "    <tr>\n",
              "      <th>4</th>\n",
              "      <td>48945</td>\n",
              "      <td>Technology</td>\n",
              "      <td>region_26</td>\n",
              "      <td>Bachelor's</td>\n",
              "      <td>m</td>\n",
              "      <td>other</td>\n",
              "      <td>1</td>\n",
              "      <td>45</td>\n",
              "      <td>3.0</td>\n",
              "      <td>2</td>\n",
              "      <td>0</td>\n",
              "      <td>0</td>\n",
              "      <td>73</td>\n",
              "      <td>0</td>\n",
              "    </tr>\n",
              "  </tbody>\n",
              "</table>\n",
              "</div>"
            ],
            "text/plain": [
              "   employee_id         department  ... avg_training_score is_promoted\n",
              "0        65438  Sales & Marketing  ...                 49           0\n",
              "1        65141         Operations  ...                 60           0\n",
              "2         7513  Sales & Marketing  ...                 50           0\n",
              "3         2542  Sales & Marketing  ...                 50           0\n",
              "4        48945         Technology  ...                 73           0\n",
              "\n",
              "[5 rows x 14 columns]"
            ]
          },
          "metadata": {
            "tags": []
          },
          "execution_count": 160
        }
      ]
    },
    {
      "cell_type": "code",
      "metadata": {
        "id": "2_DuZ_YdYo5g",
        "colab_type": "code",
        "outputId": "114a3195-172a-4407-f4bb-6bcb165b5b4c",
        "colab": {
          "base_uri": "https://localhost:8080/",
          "height": 70
        }
      },
      "source": [
        "train['is_promoted'].value_counts()"
      ],
      "execution_count": 0,
      "outputs": [
        {
          "output_type": "execute_result",
          "data": {
            "text/plain": [
              "0    50140\n",
              "1     4668\n",
              "Name: is_promoted, dtype: int64"
            ]
          },
          "metadata": {
            "tags": []
          },
          "execution_count": 161
        }
      ]
    },
    {
      "cell_type": "code",
      "metadata": {
        "id": "IcWscXAYMDqO",
        "colab_type": "code",
        "colab": {}
      },
      "source": [
        "d={'Analytics':0,'Finance':1,'HR':2, 'Legal':3, 'Operations':4, 'Procurement':5,\n",
        "       'R&D':6, 'Sales & Marketing':7, 'Technology':8 }\n",
        "train['department']=train['department'].map(d)\n",
        "test['department']=test['department'].map(d)\n",
        "\n",
        "d={'other':1, 'referred':2, 'sourcing':3}\n",
        "train['recruitment_channel']=train['recruitment_channel'].map(d)\n",
        "test['recruitment_channel']=test['recruitment_channel'].map(d)\n",
        "\n",
        "d={'region_1':1, 'region_10':10, 'region_11':11, 'region_12':12, 'region_13':13,\n",
        "       'region_14':14, 'region_15':15, 'region_16':16, 'region_17':17, 'region_18':18,\n",
        "       'region_19':19, 'region_2':2, 'region_20':20, 'region_21':21, 'region_22':22,\n",
        "       'region_23':23, 'region_24':24, 'region_25':25, 'region_26':26, 'region_27':27,\n",
        "       'region_28':28, 'region_29':29, 'region_3':3, 'region_30':30, 'region_31':31,\n",
        "       'region_32':32, 'region_33':33, 'region_34':34, 'region_4':4, 'region_5':5,\n",
        "       'region_6':6, 'region_7':7, 'region_8':8, 'region_9':9}\n",
        "train['region']=train['region'].map(d)  \n",
        "test['region']=test['region'].map(d)  \n",
        "\n",
        "d={'m':1,'f':0}\n",
        "train['gender']=train['gender'].map(d) \n",
        "test['gender']=test['gender'].map(d)\n",
        "\n",
        "d={\"Master's & above\":1, \"Bachelor's\":2, 'Below Secondary':3}\n",
        "train['education']=train['education'].map(d)\n",
        "test['education']=test['education'].map(d)\n",
        "\n"
      ],
      "execution_count": 0,
      "outputs": []
    },
    {
      "cell_type": "markdown",
      "metadata": {
        "id": "zOb-KWA0GvLQ",
        "colab_type": "text"
      },
      "source": [
        "Smote"
      ]
    },
    {
      "cell_type": "code",
      "metadata": {
        "id": "3KYkJrTmHGZj",
        "colab_type": "code",
        "outputId": "fe27600b-8aa2-427d-b750-a1b03f411ce1",
        "colab": {
          "base_uri": "https://localhost:8080/",
          "height": 34
        }
      },
      "source": [
        "train.shape"
      ],
      "execution_count": 0,
      "outputs": [
        {
          "output_type": "execute_result",
          "data": {
            "text/plain": [
              "(54808, 14)"
            ]
          },
          "metadata": {
            "tags": []
          },
          "execution_count": 122
        }
      ]
    },
    {
      "cell_type": "code",
      "metadata": {
        "id": "0nkl8C3GGuYJ",
        "colab_type": "code",
        "colab": {}
      },
      "source": [
        "train=train.dropna()\n",
        "y=train['is_promoted']\n",
        "train=train.drop('is_promoted',axis=1)\n",
        "sm=SMOTE()\n",
        "X,y=sm.fit_sample(train,y)"
      ],
      "execution_count": 0,
      "outputs": []
    },
    {
      "cell_type": "code",
      "metadata": {
        "id": "juRkblYA3sOe",
        "colab_type": "code",
        "outputId": "856b3818-57dc-4793-d67c-4d363115a791",
        "colab": {
          "base_uri": "https://localhost:8080/",
          "height": 382
        }
      },
      "source": [
        "corr = train.corr()\n",
        "sns.heatmap(corr, mask=np.zeros_like(corr, dtype=np.bool), cmap=sns.diverging_palette(220, 10, as_cmap=True),\n",
        "            square=True)"
      ],
      "execution_count": 0,
      "outputs": [
        {
          "output_type": "execute_result",
          "data": {
            "text/plain": [
              "<matplotlib.axes._subplots.AxesSubplot at 0x7f3e07c2d9e8>"
            ]
          },
          "metadata": {
            "tags": []
          },
          "execution_count": 95
        },
        {
          "output_type": "display_data",
          "data": {
            "image/png": "[encoded data removed]",
            "text/plain": [
              "<Figure size 432x288 with 2 Axes>"
            ]
          },
          "metadata": {
            "tags": []
          }
        }
      ]
    },
    {
      "cell_type": "markdown",
      "metadata": {
        "id": "99P8vq5qZ6fM",
        "colab_type": "text"
      },
      "source": [
        "CASE 1:"
      ]
    },
    {
      "cell_type": "code",
      "metadata": {
        "id": "8Kj7p3kVZRP1",
        "colab_type": "code",
        "colab": {}
      },
      "source": [
        "df=train.drop(['education','previous_year_rating'],axis=1)\n",
        "y=df['is_promoted']\n",
        "df=df.drop(['is_promoted'],axis=1)"
      ],
      "execution_count": 0,
      "outputs": []
    },
    {
      "cell_type": "code",
      "metadata": {
        "id": "LpAuWdAQbK-V",
        "colab_type": "code",
        "outputId": "d9d0b07f-a255-43ac-a4e2-a5e7ad20a3e1",
        "colab": {
          "base_uri": "https://localhost:8080/",
          "height": 72
        }
      },
      "source": [
        "df_train,df_test,df_train_label,df_test_label=train_test_split(df,y,train_size=0.4)\n",
        "rf_model=SVC()\n",
        "rf_model.fit(df_train,df_train_label)\n",
        "predict=rf_model.predict(df_test)\n",
        "f1_score(predict,df_test_label)"
      ],
      "execution_count": 0,
      "outputs": [
        {
          "output_type": "stream",
          "text": [
            "/usr/local/lib/python3.6/dist-packages/sklearn/svm/base.py:193: FutureWarning: The default value of gamma will change from 'auto' to 'scale' in version 0.22 to account better for unscaled features. Set gamma explicitly to 'auto' or 'scale' to avoid this warning.\n",
            "  \"avoid this warning.\", FutureWarning)\n"
          ],
          "name": "stderr"
        }
      ]
    },
    {
      "cell_type": "markdown",
      "metadata": {
        "id": "VegpIGf1Z85f",
        "colab_type": "text"
      },
      "source": [
        "CASE 2:"
      ]
    },
    {
      "cell_type": "code",
      "metadata": {
        "id": "M9-Pc4MUXnu0",
        "colab_type": "code",
        "colab": {}
      },
      "source": [
        "test_data=train[train['education'].isnull()]\n",
        "test_d=test_data.drop(['is_promoted','education','previous_year_rating'],axis=1)\n",
        "train_d=train[np.isfinite(train['education'])]\n",
        "y=train_d['education']\n",
        "alpha1=train_d['previous_year_rating']\n",
        "alpha2=train_d['is_promoted']\n",
        "train_d=train_d.drop(['education','is_promoted','previous_year_rating'],axis=1)\n",
        "\n",
        "x_train,x_test,x_train_label,x_test_label=train_test_split(train_d,y,train_size=0.7)\n",
        "\n",
        "test_pre_data=test[test['education'].isnull()]\n",
        "alpha3=test_pre_data['previous_year_rating']\n",
        "test_pre_data=test_pre_data.drop(['education','previous_year_rating'],axis=1)\n",
        "test_remaing=test[np.isfinite(test['education'])]\n",
        "\n"
      ],
      "execution_count": 0,
      "outputs": []
    },
    {
      "cell_type": "code",
      "metadata": {
        "id": "b8ybYw9CXnoS",
        "colab_type": "code",
        "outputId": "a9cdaf67-35e8-4357-e8a0-e940895523d1",
        "colab": {
          "base_uri": "https://localhost:8080/",
          "height": 34
        }
      },
      "source": [
        "model = XGBClassifier()\n",
        "model.fit(x_train,x_train_label)\n",
        "predict=model.predict(x_test)\n",
        "print(f1_score(predict,x_test_label,average='micro'))\n",
        "predict1=model.predict(test_d)\n",
        "predict2=model.predict(test_pre_data)"
      ],
      "execution_count": 0,
      "outputs": [
        {
          "output_type": "stream",
          "text": [
            "0.7462468193384225\n"
          ],
          "name": "stdout"
        }
      ]
    },
    {
      "cell_type": "code",
      "metadata": {
        "id": "qOtJBTy4XnRs",
        "colab_type": "code",
        "outputId": "efe8a7fa-9a44-452b-9c8a-890ba1d18b54",
        "colab": {
          "base_uri": "https://localhost:8080/",
          "height": 427
        }
      },
      "source": [
        "train_d['is_promoted']=alpha2\n",
        "train_d['education']=y\n",
        "train_d['previous_year_rating']=alpha1\n",
        "test_data['education']=predict1\n",
        "data1=pd.concat([train_d,test_data])\n",
        "\n",
        "test_pre_data['previous_year_rating']=alpha3\n",
        "test_pre_data['education']=predict2\n",
        "data2=pd.concat([test_pre_data,test_remaing])\n"
      ],
      "execution_count": 0,
      "outputs": [
        {
          "output_type": "stream",
          "text": [
            "/usr/local/lib/python3.6/dist-packages/ipykernel_launcher.py:4: SettingWithCopyWarning: \n",
            "A value is trying to be set on a copy of a slice from a DataFrame.\n",
            "Try using .loc[row_indexer,col_indexer] = value instead\n",
            "\n",
            "See the caveats in the documentation: http://pandas.pydata.org/pandas-docs/stable/user_guide/indexing.html#returning-a-view-versus-a-copy\n",
            "  after removing the cwd from sys.path.\n",
            "/usr/local/lib/python3.6/dist-packages/ipykernel_launcher.py:5: FutureWarning: Sorting because non-concatenation axis is not aligned. A future version\n",
            "of pandas will change to not sort by default.\n",
            "\n",
            "To accept the future behavior, pass 'sort=False'.\n",
            "\n",
            "To retain the current behavior and silence the warning, pass 'sort=True'.\n",
            "\n",
            "  \"\"\"\n",
            "/usr/local/lib/python3.6/dist-packages/ipykernel_launcher.py:9: FutureWarning: Sorting because non-concatenation axis is not aligned. A future version\n",
            "of pandas will change to not sort by default.\n",
            "\n",
            "To accept the future behavior, pass 'sort=False'.\n",
            "\n",
            "To retain the current behavior and silence the warning, pass 'sort=True'.\n",
            "\n",
            "  if __name__ == '__main__':\n"
          ],
          "name": "stderr"
        }
      ]
    },
    {
      "cell_type": "code",
      "metadata": {
        "id": "a3NSPwJ-fxCu",
        "colab_type": "code",
        "outputId": "fa87273d-5e6a-4299-d04c-11fd32cd2fa9",
        "colab": {
          "base_uri": "https://localhost:8080/",
          "height": 34
        }
      },
      "source": [
        "data2.shape"
      ],
      "execution_count": 0,
      "outputs": [
        {
          "output_type": "execute_result",
          "data": {
            "text/plain": [
              "(23490, 13)"
            ]
          },
          "metadata": {
            "tags": []
          },
          "execution_count": 167
        }
      ]
    },
    {
      "cell_type": "code",
      "metadata": {
        "id": "_m1urG20Xmg-",
        "colab_type": "code",
        "colab": {}
      },
      "source": [
        "test_data=data1[data1['previous_year_rating'].isnull()]\n",
        "test_d=test_data.drop(['previous_year_rating','is_promoted'],axis=1)\n",
        "train_d=data1[np.isfinite(data1['previous_year_rating'])]\n",
        "alpha1=train_d['is_promoted']\n",
        "y=train_d['previous_year_rating']\n",
        "train_d=train_d.drop(['previous_year_rating','is_promoted'],axis=1)\n",
        "\n",
        "test_pre_data=data2[data2['previous_year_rating'].isnull()]\n",
        "test_pre_data=test_pre_data.drop('previous_year_rating',axis=1)\n",
        "test_remaing=data2[np.isfinite(data2['previous_year_rating'])]\n",
        "\n",
        "x_train,x_test,x_train_label,x_test_label=train_test_split(train_d,y,train_size=0.7)"
      ],
      "execution_count": 0,
      "outputs": []
    },
    {
      "cell_type": "code",
      "metadata": {
        "id": "JBqVC33odp-1",
        "colab_type": "code",
        "outputId": "2afbf575-d0b9-4fa9-b9e1-3c45cd8e5d50",
        "colab": {
          "base_uri": "https://localhost:8080/",
          "height": 34
        }
      },
      "source": [
        "model=XGBClassifier()\n",
        "model.fit(x_train,x_train_label)\n",
        "predict=model.predict(x_test)\n",
        "print(f1_score(predict,x_test_label,average='micro'))"
      ],
      "execution_count": 0,
      "outputs": [
        {
          "output_type": "stream",
          "text": [
            "0.423780086807839\n"
          ],
          "name": "stdout"
        }
      ]
    },
    {
      "cell_type": "code",
      "metadata": {
        "id": "47COI-tAdp70",
        "colab_type": "code",
        "outputId": "75cbdb14-cfb9-45d3-f01b-74c2e9634aa8",
        "colab": {
          "base_uri": "https://localhost:8080/",
          "height": 427
        }
      },
      "source": [
        "predict1=model.predict(test_d)\n",
        "predict2=model.predict(test_pre_data)\n",
        "test_data['previous_year_rating']=predict1\n",
        "train_d['is_promoted']=alpha1\n",
        "train_d['previous_year_rating']=y\n",
        "data1=pd.concat([train_d,test_data])\n",
        "\n",
        "test_pre_data['previous_year_rating']=predict2\n",
        "data2=pd.concat([test_pre_data,test_remaing])"
      ],
      "execution_count": 0,
      "outputs": [
        {
          "output_type": "stream",
          "text": [
            "/usr/local/lib/python3.6/dist-packages/ipykernel_launcher.py:3: SettingWithCopyWarning: \n",
            "A value is trying to be set on a copy of a slice from a DataFrame.\n",
            "Try using .loc[row_indexer,col_indexer] = value instead\n",
            "\n",
            "See the caveats in the documentation: http://pandas.pydata.org/pandas-docs/stable/user_guide/indexing.html#returning-a-view-versus-a-copy\n",
            "  This is separate from the ipykernel package so we can avoid doing imports until\n",
            "/usr/local/lib/python3.6/dist-packages/ipykernel_launcher.py:6: FutureWarning: Sorting because non-concatenation axis is not aligned. A future version\n",
            "of pandas will change to not sort by default.\n",
            "\n",
            "To accept the future behavior, pass 'sort=False'.\n",
            "\n",
            "To retain the current behavior and silence the warning, pass 'sort=True'.\n",
            "\n",
            "  \n",
            "/usr/local/lib/python3.6/dist-packages/ipykernel_launcher.py:9: FutureWarning: Sorting because non-concatenation axis is not aligned. A future version\n",
            "of pandas will change to not sort by default.\n",
            "\n",
            "To accept the future behavior, pass 'sort=False'.\n",
            "\n",
            "To retain the current behavior and silence the warning, pass 'sort=True'.\n",
            "\n",
            "  if __name__ == '__main__':\n"
          ],
          "name": "stderr"
        }
      ]
    },
    {
      "cell_type": "code",
      "metadata": {
        "id": "YvxmB1bbiEBc",
        "colab_type": "code",
        "outputId": "2a130dae-3a3d-4de2-eb1b-beca772cc23d",
        "colab": {
          "base_uri": "https://localhost:8080/",
          "height": 34
        }
      },
      "source": [
        "data1.shape"
      ],
      "execution_count": 0,
      "outputs": [
        {
          "output_type": "execute_result",
          "data": {
            "text/plain": [
              "(54808, 14)"
            ]
          },
          "metadata": {
            "tags": []
          },
          "execution_count": 171
        }
      ]
    },
    {
      "cell_type": "code",
      "metadata": {
        "id": "N9IOHePxdp5Y",
        "colab_type": "code",
        "outputId": "9a3aaf73-5f77-4c5a-e952-70cb4d026b77",
        "colab": {
          "base_uri": "https://localhost:8080/",
          "height": 34
        }
      },
      "source": [
        "data2.shape"
      ],
      "execution_count": 0,
      "outputs": [
        {
          "output_type": "execute_result",
          "data": {
            "text/plain": [
              "(23490, 13)"
            ]
          },
          "metadata": {
            "tags": []
          },
          "execution_count": 172
        }
      ]
    },
    {
      "cell_type": "code",
      "metadata": {
        "id": "y6SvuTVidp2n",
        "colab_type": "code",
        "outputId": "61ba73be-6b3f-4c88-ac71-c76b859010a6",
        "colab": {
          "base_uri": "https://localhost:8080/",
          "height": 283
        }
      },
      "source": [
        "data1.isnull().sum()"
      ],
      "execution_count": 0,
      "outputs": [
        {
          "output_type": "execute_result",
          "data": {
            "text/plain": [
              "KPIs_met >80%           0\n",
              "age                     0\n",
              "avg_training_score      0\n",
              "awards_won?             0\n",
              "department              0\n",
              "education               0\n",
              "employee_id             0\n",
              "gender                  0\n",
              "is_promoted             0\n",
              "length_of_service       0\n",
              "no_of_trainings         0\n",
              "previous_year_rating    0\n",
              "recruitment_channel     0\n",
              "region                  0\n",
              "dtype: int64"
            ]
          },
          "metadata": {
            "tags": []
          },
          "execution_count": 173
        }
      ]
    },
    {
      "cell_type": "code",
      "metadata": {
        "id": "4bL9y6AHh1fa",
        "colab_type": "code",
        "outputId": "8732e761-7124-41ac-f684-384b03562ba1",
        "colab": {
          "base_uri": "https://localhost:8080/",
          "height": 265
        }
      },
      "source": [
        "data2.isnull().sum()"
      ],
      "execution_count": 0,
      "outputs": [
        {
          "output_type": "execute_result",
          "data": {
            "text/plain": [
              "KPIs_met >80%           0\n",
              "age                     0\n",
              "avg_training_score      0\n",
              "awards_won?             0\n",
              "department              0\n",
              "education               0\n",
              "employee_id             0\n",
              "gender                  0\n",
              "length_of_service       0\n",
              "no_of_trainings         0\n",
              "previous_year_rating    0\n",
              "recruitment_channel     0\n",
              "region                  0\n",
              "dtype: int64"
            ]
          },
          "metadata": {
            "tags": []
          },
          "execution_count": 174
        }
      ]
    },
    {
      "cell_type": "code",
      "metadata": {
        "id": "fi6aUcsvh1dW",
        "colab_type": "code",
        "colab": {}
      },
      "source": [
        "y=data1['is_promoted']\n",
        "\n",
        "train=data1.drop('is_promoted',axis=1)\n",
        "sm=SMOTE()\n",
        "data1,y=sm.fit_sample(train,y) \n",
        "\n",
        "x_train,x_test,x_train_label,x_test_label=train_test_split(data1,y,train_size=0.7)\n"
      ],
      "execution_count": 0,
      "outputs": []
    },
    {
      "cell_type": "code",
      "metadata": {
        "id": "7h4jaSqsI918",
        "colab_type": "code",
        "outputId": "211d34ff-f648-4b9d-eff7-9a1cd0177079",
        "colab": {
          "base_uri": "https://localhost:8080/",
          "height": 34
        }
      },
      "source": [
        "model = XGBClassifier(min_depth=5)\n",
        "model.fit(x_train,x_train_label)\n",
        "predict=model.predict(x_test)\n",
        "print(f1_score(predict,x_test_label,average='micro'))"
      ],
      "execution_count": 0,
      "outputs": [
        {
          "output_type": "stream",
          "text": [
            "0.956222576785002\n"
          ],
          "name": "stdout"
        }
      ]
    },
    {
      "cell_type": "code",
      "metadata": {
        "id": "JKN-ze48JAWy",
        "colab_type": "code",
        "colab": {}
      },
      "source": [
        "\n",
        "model=LogisticRegression(solver='lbfgs',multi_class='multinomial')\n",
        "model.fit(x_train,x_train_label)\n",
        "predict=model.predict(x_test)\n",
        "print(f1_score(predict,x_test_label,average='micro'))"
      ],
      "execution_count": 0,
      "outputs": []
    },
    {
      "cell_type": "code",
      "metadata": {
        "id": "getpRPR1JCZb",
        "colab_type": "code",
        "outputId": "d31f163c-f5f1-4827-ddf7-69d26bf80b0c",
        "colab": {
          "base_uri": "https://localhost:8080/",
          "height": 90
        }
      },
      "source": [
        "model=MLPClassifier(hidden_layer_sizes=(200,))\n",
        "model.fit(x_train,x_train_label)\n",
        "predict=model.predict(x_test)\n",
        "print(f1_score(predict,x_test_label,average='micro'))"
      ],
      "execution_count": 0,
      "outputs": [
        {
          "output_type": "stream",
          "text": [
            "0.914553305357903\n"
          ],
          "name": "stdout"
        },
        {
          "output_type": "stream",
          "text": [
            "/usr/local/lib/python3.6/dist-packages/sklearn/neural_network/multilayer_perceptron.py:566: ConvergenceWarning: Stochastic Optimizer: Maximum iterations (200) reached and the optimization hasn't converged yet.\n",
            "  % self.max_iter, ConvergenceWarning)\n"
          ],
          "name": "stderr"
        }
      ]
    },
    {
      "cell_type": "code",
      "metadata": {
        "colab_type": "code",
        "id": "s_uMCszAkXQO",
        "colab": {}
      },
      "source": [
        "prediction=model.predict(data2.values)"
      ],
      "execution_count": 0,
      "outputs": []
    },
    {
      "cell_type": "code",
      "metadata": {
        "id": "xGLRLxQch1Rr",
        "colab_type": "code",
        "colab": {}
      },
      "source": [
        "df=pd.DataFrame(prediction,data2['employee_id'],columns=['is_promoted'])\n",
        "df.to_csv(\"/content/drive/My Drive/Colab Notebooks/hacathon_analytic_vidhya/result.csv\")"
      ],
      "execution_count": 0,
      "outputs": []
    },
    {
      "cell_type": "code",
      "metadata": {
        "id": "T1NXvxgyjZyz",
        "colab_type": "code",
        "outputId": "dd47bc83-98dd-4a42-b6fe-10402eb60ce7",
        "colab": {
          "base_uri": "https://localhost:8080/",
          "height": 450
        }
      },
      "source": [
        "df"
      ],
      "execution_count": 0,
      "outputs": [
        {
          "output_type": "execute_result",
          "data": {
            "text/html": [
              "<div>\n",
              "<style scoped>\n",
              "    .dataframe tbody tr th:only-of-type {\n",
              "        vertical-align: middle;\n",
              "    }\n",
              "\n",
              "    .dataframe tbody tr th {\n",
              "        vertical-align: top;\n",
              "    }\n",
              "\n",
              "    .dataframe thead th {\n",
              "        text-align: right;\n",
              "    }\n",
              "</style>\n",
              "<table border=\"1\" class=\"dataframe\">\n",
              "  <thead>\n",
              "    <tr style=\"text-align: right;\">\n",
              "      <th></th>\n",
              "      <th>is_promoted</th>\n",
              "    </tr>\n",
              "    <tr>\n",
              "      <th>employee_id</th>\n",
              "      <th></th>\n",
              "    </tr>\n",
              "  </thead>\n",
              "  <tbody>\n",
              "    <tr>\n",
              "      <th>42719</th>\n",
              "      <td>0</td>\n",
              "    </tr>\n",
              "    <tr>\n",
              "      <th>56772</th>\n",
              "      <td>0</td>\n",
              "    </tr>\n",
              "    <tr>\n",
              "      <th>65459</th>\n",
              "      <td>0</td>\n",
              "    </tr>\n",
              "    <tr>\n",
              "      <th>12723</th>\n",
              "      <td>0</td>\n",
              "    </tr>\n",
              "    <tr>\n",
              "      <th>18612</th>\n",
              "      <td>0</td>\n",
              "    </tr>\n",
              "    <tr>\n",
              "      <th>...</th>\n",
              "      <td>...</td>\n",
              "    </tr>\n",
              "    <tr>\n",
              "      <th>47537</th>\n",
              "      <td>0</td>\n",
              "    </tr>\n",
              "    <tr>\n",
              "      <th>53478</th>\n",
              "      <td>0</td>\n",
              "    </tr>\n",
              "    <tr>\n",
              "      <th>25600</th>\n",
              "      <td>0</td>\n",
              "    </tr>\n",
              "    <tr>\n",
              "      <th>45409</th>\n",
              "      <td>0</td>\n",
              "    </tr>\n",
              "    <tr>\n",
              "      <th>5973</th>\n",
              "      <td>1</td>\n",
              "    </tr>\n",
              "  </tbody>\n",
              "</table>\n",
              "<p>23490 rows × 1 columns</p>\n",
              "</div>"
            ],
            "text/plain": [
              "             is_promoted\n",
              "employee_id             \n",
              "42719                  0\n",
              "56772                  0\n",
              "65459                  0\n",
              "12723                  0\n",
              "18612                  0\n",
              "...                  ...\n",
              "47537                  0\n",
              "53478                  0\n",
              "25600                  0\n",
              "45409                  0\n",
              "5973                   1\n",
              "\n",
              "[23490 rows x 1 columns]"
            ]
          },
          "metadata": {
            "tags": []
          },
          "execution_count": 73
        }
      ]
    },
    {
      "cell_type": "markdown",
      "metadata": {
        "id": "3WfRmk8bZ-d_",
        "colab_type": "text"
      },
      "source": [
        "CASE 3:"
      ]
    },
    {
      "cell_type": "code",
      "metadata": {
        "id": "RSCk4D7R3mAU",
        "colab_type": "code",
        "colab": {}
      },
      "source": [
        "test_data=train[train['education'].isnull()]\n",
        "test_d=test_data.drop(['is_promoted','education','previous_year_rating','employee_id','department','region','gender','recruitment_channel','no_of_trainings','KPIs_met >80%','awards_won?','avg_training_score'],axis=1)\n",
        "train_d=train[np.isfinite(train['education'])]\n",
        "y=train_d['education']\n",
        "alpha1=train_d[['previous_year_rating','is_promoted','employee_id','department','region','gender','recruitment_channel','no_of_trainings','KPIs_met >80%','awards_won?','avg_training_score']]\n",
        "train_d=train_d.drop(['education','is_promoted','previous_year_rating','employee_id','department','region','gender','recruitment_channel','no_of_trainings','KPIs_met >80%','awards_won?','avg_training_score'],axis=1)\n",
        "\n",
        "\n",
        "test_pre_data=test[test['education'].isnull()]\n",
        "alpha3=test_pre_data[['previous_year_rating','employee_id','department','region','gender','recruitment_channel','no_of_trainings','KPIs_met >80%','awards_won?','avg_training_score']]\n",
        "test_pre_data=test_pre_data.drop(['education','previous_year_rating','employee_id','department','region','gender','recruitment_channel','no_of_trainings','KPIs_met >80%','awards_won?','avg_training_score'],axis=1)\n",
        "test_remaing=test[np.isfinite(test['education'])]"
      ],
      "execution_count": 0,
      "outputs": []
    },
    {
      "cell_type": "code",
      "metadata": {
        "id": "ZLYecGpV3l9B",
        "colab_type": "code",
        "colab": {}
      },
      "source": [
        "x_train,x_test,x_train_label,x_test_label=train_test_split(train_d,y,train_size=0.7)"
      ],
      "execution_count": 0,
      "outputs": []
    },
    {
      "cell_type": "code",
      "metadata": {
        "id": "NPLmMDsa3l7L",
        "colab_type": "code",
        "colab": {}
      },
      "source": [
        "model = XGBClassifier()\n",
        "model.fit(x_train,x_train_label)\n",
        "predict=model.predict(x_test)\n",
        "print(f1_score(predict,x_test_label,average='micro'))\n",
        "predict1=model.predict(test_d)\n",
        "predict2=model.predict(test_pre_data)"
      ],
      "execution_count": 0,
      "outputs": []
    },
    {
      "cell_type": "code",
      "metadata": {
        "id": "UqliYxLh3l48",
        "colab_type": "code",
        "colab": {}
      },
      "source": [
        "test_data['education']=predict1\n",
        "train_d['education']=y\n",
        "train_d[['previous_year_rating','is_promoted','employee_id','department','region','gender','recruitment_channel','no_of_trainings','KPIs_met >80%','awards_won?','avg_training_score']]=alpha1\n",
        "data1=pd.concat([test_data,train_d])\n",
        "\n",
        "test_pre_data['education']=predict2\n",
        "test_pre_data[['previous_year_rating','employee_id','department','region','gender','recruitment_channel','no_of_trainings','KPIs_met >80%','awards_won?','avg_training_score']]=alpha3\n",
        "data2=pd.concat([test_pre_data,test_remaing])"
      ],
      "execution_count": 0,
      "outputs": []
    },
    {
      "cell_type": "code",
      "metadata": {
        "id": "2MCE2DeA3l3g",
        "colab_type": "code",
        "colab": {}
      },
      "source": [
        "test_data=data1[data1['previous_year_rating'].isnull()]\n",
        "test_d=test_data.drop(['is_promoted','age','length_of_service','education','previous_year_rating','employee_id','region','gender','recruitment_channel','no_of_trainings','awards_won?','avg_training_score'],axis=1)\n",
        "train_d=data1[np.isfinite(data1['previous_year_rating'])]\n",
        "y=train_d['previous_year_rating']\n",
        "alpha1=train_d[['is_promoted','employee_id','region','education','gender','recruitment_channel','no_of_trainings','awards_won?','avg_training_score','age','length_of_service']]\n",
        "train_d=train_d.drop(['age','length_of_service','education','is_promoted','previous_year_rating','employee_id','region','gender','recruitment_channel','no_of_trainings','awards_won?','avg_training_score'],axis=1)\n",
        "\n",
        "\n",
        "test_pre_data=data2[data2['previous_year_rating'].isnull()]\n",
        "alpha3=test_pre_data[['employee_id','education','age','region','gender','recruitment_channel','no_of_trainings','length_of_service','awards_won?','avg_training_score']]\n",
        "test_pre_data=test_pre_data.drop(['education','previous_year_rating','employee_id','age','region','gender','recruitment_channel','no_of_trainings','length_of_service','awards_won?','avg_training_score'],axis=1)\n",
        "test_remaing=data2[np.isfinite(data2['previous_year_rating'])]"
      ],
      "execution_count": 0,
      "outputs": []
    },
    {
      "cell_type": "code",
      "metadata": {
        "id": "OCIBslSp3l02",
        "colab_type": "code",
        "colab": {}
      },
      "source": [
        "x_train,x_test,x_train_label,x_test_label=train_test_split(train_d,y,train_size=0.7)"
      ],
      "execution_count": 0,
      "outputs": []
    },
    {
      "cell_type": "code",
      "metadata": {
        "id": "EAVLd5rq3lyg",
        "colab_type": "code",
        "colab": {}
      },
      "source": [
        "model = XGBClassifier()\n",
        "model.fit(x_train,x_train_label)\n",
        "predict=model.predict(x_test)\n",
        "print(f1_score(predict,x_test_label,average='micro'))\n",
        "predict1=model.predict(test_d)\n",
        "predict2=model.predict(test_pre_data)"
      ],
      "execution_count": 0,
      "outputs": []
    },
    {
      "cell_type": "code",
      "metadata": {
        "id": "KED8LdS9zBkr",
        "colab_type": "code",
        "colab": {}
      },
      "source": [
        "test_data['previous_year_rating']=predict1\n",
        "train_d['previous_year_rating']=y\n",
        "train_d[['is_promoted','employee_id','region','education','gender','recruitment_channel','no_of_trainings','awards_won?','avg_training_score','age','length_of_service']]=alpha1\n",
        "data1=pd.concat([test_data,train_d])\n",
        "\n",
        "test_pre_data[['employee_id','age','education','region','gender','recruitment_channel','no_of_trainings','length_of_service','awards_won?','avg_training_score']]=alpha3\n",
        "test_pre_data['previous_year_rating']=predict2\n",
        "data2=pd.concat([test_pre_data,test_remaing])"
      ],
      "execution_count": 0,
      "outputs": []
    },
    {
      "cell_type": "markdown",
      "metadata": {
        "id": "JAuZfkNu1aOS",
        "colab_type": "text"
      },
      "source": [
        "Case 4"
      ]
    },
    {
      "cell_type": "code",
      "metadata": {
        "id": "KzjQbJTVzBiO",
        "colab_type": "code",
        "colab": {}
      },
      "source": [
        "train['education']=train['education'].fillna(mode(train['education']))\n",
        "train['previous_year_rating']=train['previous_year_rating'].fillna(mode(train['previous_year_rating']))"
      ],
      "execution_count": 0,
      "outputs": []
    },
    {
      "cell_type": "code",
      "metadata": {
        "id": "6EZ2DZ1FzBgG",
        "colab_type": "code",
        "colab": {}
      },
      "source": [
        "test['education']=test['education'].fillna(mode(test['education']))\n",
        "test['previous_year_rating']=test['previous_year_rating'].fillna(mode(test['previous_year_rating']))"
      ],
      "execution_count": 0,
      "outputs": []
    },
    {
      "cell_type": "code",
      "metadata": {
        "id": "2bS_UrPK0of1",
        "colab_type": "code",
        "colab": {}
      },
      "source": [
        "y=train['is_promoted']\n",
        "train=train.drop('is_promoted',axis=1)\n",
        "\n",
        "x_train,x_test,x_train_label,x_test_label=train_test_split(train,y,train_size=0.7)"
      ],
      "execution_count": 0,
      "outputs": []
    },
    {
      "cell_type": "code",
      "metadata": {
        "id": "lwdOIG7E1Hxy",
        "colab_type": "code",
        "outputId": "e2752665-a3bf-4d0d-8a42-b3c2fe14d17a",
        "colab": {
          "base_uri": "https://localhost:8080/",
          "height": 34
        }
      },
      "source": [
        "model = XGBClassifier(min_depth=5)\n",
        "model.fit(x_train,x_train_label)\n",
        "predict=model.predict(x_test)\n",
        "print(f1_score(predict,x_test_label,average='micro'))"
      ],
      "execution_count": 0,
      "outputs": [
        {
          "output_type": "stream",
          "text": [
            "0.9334671288694277\n"
          ],
          "name": "stdout"
        }
      ]
    },
    {
      "cell_type": "code",
      "metadata": {
        "id": "GuVvKQws1LFl",
        "colab_type": "code",
        "colab": {}
      },
      "source": [
        "prediction=model.predict(test)"
      ],
      "execution_count": 0,
      "outputs": []
    },
    {
      "cell_type": "code",
      "metadata": {
        "id": "VZs2KHYv1e6J",
        "colab_type": "code",
        "colab": {}
      },
      "source": [
        "df=pd.DataFrame(prediction,test['employee_id'],columns=['is_promoted'])\n",
        "df.to_csv(\"/content/drive/My Drive/Colab Notebooks/hacathon_analytic_vidhya/result.csv\")"
      ],
      "execution_count": 0,
      "outputs": []
    },
    {
      "cell_type": "markdown",
      "metadata": {
        "id": "O3sjTldKQc7d",
        "colab_type": "text"
      },
      "source": [
        "using Smote"
      ]
    },
    {
      "cell_type": "code",
      "metadata": {
        "id": "D2WE4DQ3HxZY",
        "colab_type": "code",
        "outputId": "63ac35a4-9f28-4fec-adb5-18e0ed91090f",
        "colab": {
          "base_uri": "https://localhost:8080/",
          "height": 34
        }
      },
      "source": [
        "x_train,x_test,x_train_label,x_test_label=train_test_split(X,y,train_size=0.7)\n",
        "model = XGBClassifier(min_depth=5)\n",
        "model.fit(x_train,x_train_label)\n",
        "predict=model.predict(x_test)\n",
        "print(f1_score(predict,x_test_label,average='micro'))\n",
        "\n",
        "prediction=model.predict(test.values)\n",
        "df=pd.DataFrame(prediction,test['employee_id'],columns=['is_promoted'])\n",
        "df.to_csv(\"/content/drive/My Drive/Colab Notebooks/hacathon_analytic_vidhya/result.csv\")"
      ],
      "execution_count": 0,
      "outputs": [
        {
          "output_type": "stream",
          "text": [
            "0.955096222380613\n"
          ],
          "name": "stdout"
        }
      ]
    },
    {
      "cell_type": "code",
      "metadata": {
        "id": "jZp6b1KKco9-",
        "colab_type": "code",
        "colab": {}
      },
      "source": [
        ""
      ],
      "execution_count": 0,
      "outputs": []
    },
    {
      "cell_type": "markdown",
      "metadata": {
        "id": "bfCC4M5rav5X",
        "colab_type": "text"
      },
      "source": [
        "# Case 5: Model + Label encoder"
      ]
    },
    {
      "cell_type": "code",
      "metadata": {
        "id": "BESyR2OyWmbN",
        "colab_type": "code",
        "colab": {}
      },
      "source": [
        "test['education']=test['education'].fillna(mode(test['education']))\n",
        "test['previous_year_rating']=test['previous_year_rating'].fillna(mode(test['previous_year_rating']))"
      ],
      "execution_count": 0,
      "outputs": []
    },
    {
      "cell_type": "code",
      "metadata": {
        "id": "lTrQWSHnWmZf",
        "colab_type": "code",
        "colab": {}
      },
      "source": [
        "train['education']=train['education'].fillna(mode(train['education']))\n",
        "train['previous_year_rating']=train['previous_year_rating'].fillna(mode(train['previous_year_rating']))"
      ],
      "execution_count": 0,
      "outputs": []
    },
    {
      "cell_type": "code",
      "metadata": {
        "id": "kslkQryFYAL1",
        "colab_type": "code",
        "outputId": "74852ead-feaf-4cce-bde9-d1487d818ece",
        "colab": {
          "base_uri": "https://localhost:8080/",
          "height": 34
        }
      },
      "source": [
        "train.shape"
      ],
      "execution_count": 0,
      "outputs": [
        {
          "output_type": "execute_result",
          "data": {
            "text/plain": [
              "(54808, 14)"
            ]
          },
          "metadata": {
            "tags": []
          },
          "execution_count": 6
        }
      ]
    },
    {
      "cell_type": "code",
      "metadata": {
        "id": "FS4GDGeXX9lB",
        "colab_type": "code",
        "outputId": "b599f489-942c-4c79-ab04-10711b7bef57",
        "colab": {
          "base_uri": "https://localhost:8080/",
          "height": 34
        }
      },
      "source": [
        "test.shape"
      ],
      "execution_count": 0,
      "outputs": [
        {
          "output_type": "execute_result",
          "data": {
            "text/plain": [
              "(23490, 13)"
            ]
          },
          "metadata": {
            "tags": []
          },
          "execution_count": 7
        }
      ]
    },
    {
      "cell_type": "code",
      "metadata": {
        "id": "0TfXB78CZlA4",
        "colab_type": "code",
        "outputId": "6d39d52e-5eef-4159-e039-c977a602f2e6",
        "colab": {
          "base_uri": "https://localhost:8080/",
          "height": 284
        }
      },
      "source": [
        "train.head()"
      ],
      "execution_count": 0,
      "outputs": [
        {
          "output_type": "execute_result",
          "data": {
            "text/html": [
              "<div>\n",
              "<style scoped>\n",
              "    .dataframe tbody tr th:only-of-type {\n",
              "        vertical-align: middle;\n",
              "    }\n",
              "\n",
              "    .dataframe tbody tr th {\n",
              "        vertical-align: top;\n",
              "    }\n",
              "\n",
              "    .dataframe thead th {\n",
              "        text-align: right;\n",
              "    }\n",
              "</style>\n",
              "<table border=\"1\" class=\"dataframe\">\n",
              "  <thead>\n",
              "    <tr style=\"text-align: right;\">\n",
              "      <th></th>\n",
              "      <th>employee_id</th>\n",
              "      <th>department</th>\n",
              "      <th>region</th>\n",
              "      <th>education</th>\n",
              "      <th>gender</th>\n",
              "      <th>recruitment_channel</th>\n",
              "      <th>no_of_trainings</th>\n",
              "      <th>age</th>\n",
              "      <th>previous_year_rating</th>\n",
              "      <th>length_of_service</th>\n",
              "      <th>KPIs_met &gt;80%</th>\n",
              "      <th>awards_won?</th>\n",
              "      <th>avg_training_score</th>\n",
              "      <th>is_promoted</th>\n",
              "    </tr>\n",
              "  </thead>\n",
              "  <tbody>\n",
              "    <tr>\n",
              "      <th>0</th>\n",
              "      <td>65438</td>\n",
              "      <td>Sales &amp; Marketing</td>\n",
              "      <td>region_7</td>\n",
              "      <td>Master's &amp; above</td>\n",
              "      <td>f</td>\n",
              "      <td>sourcing</td>\n",
              "      <td>1</td>\n",
              "      <td>35</td>\n",
              "      <td>5.0</td>\n",
              "      <td>8</td>\n",
              "      <td>1</td>\n",
              "      <td>0</td>\n",
              "      <td>49</td>\n",
              "      <td>0</td>\n",
              "    </tr>\n",
              "    <tr>\n",
              "      <th>1</th>\n",
              "      <td>65141</td>\n",
              "      <td>Operations</td>\n",
              "      <td>region_22</td>\n",
              "      <td>Bachelor's</td>\n",
              "      <td>m</td>\n",
              "      <td>other</td>\n",
              "      <td>1</td>\n",
              "      <td>30</td>\n",
              "      <td>5.0</td>\n",
              "      <td>4</td>\n",
              "      <td>0</td>\n",
              "      <td>0</td>\n",
              "      <td>60</td>\n",
              "      <td>0</td>\n",
              "    </tr>\n",
              "    <tr>\n",
              "      <th>2</th>\n",
              "      <td>7513</td>\n",
              "      <td>Sales &amp; Marketing</td>\n",
              "      <td>region_19</td>\n",
              "      <td>Bachelor's</td>\n",
              "      <td>m</td>\n",
              "      <td>sourcing</td>\n",
              "      <td>1</td>\n",
              "      <td>34</td>\n",
              "      <td>3.0</td>\n",
              "      <td>7</td>\n",
              "      <td>0</td>\n",
              "      <td>0</td>\n",
              "      <td>50</td>\n",
              "      <td>0</td>\n",
              "    </tr>\n",
              "    <tr>\n",
              "      <th>3</th>\n",
              "      <td>2542</td>\n",
              "      <td>Sales &amp; Marketing</td>\n",
              "      <td>region_23</td>\n",
              "      <td>Bachelor's</td>\n",
              "      <td>m</td>\n",
              "      <td>other</td>\n",
              "      <td>2</td>\n",
              "      <td>39</td>\n",
              "      <td>1.0</td>\n",
              "      <td>10</td>\n",
              "      <td>0</td>\n",
              "      <td>0</td>\n",
              "      <td>50</td>\n",
              "      <td>0</td>\n",
              "    </tr>\n",
              "    <tr>\n",
              "      <th>4</th>\n",
              "      <td>48945</td>\n",
              "      <td>Technology</td>\n",
              "      <td>region_26</td>\n",
              "      <td>Bachelor's</td>\n",
              "      <td>m</td>\n",
              "      <td>other</td>\n",
              "      <td>1</td>\n",
              "      <td>45</td>\n",
              "      <td>3.0</td>\n",
              "      <td>2</td>\n",
              "      <td>0</td>\n",
              "      <td>0</td>\n",
              "      <td>73</td>\n",
              "      <td>0</td>\n",
              "    </tr>\n",
              "  </tbody>\n",
              "</table>\n",
              "</div>"
            ],
            "text/plain": [
              "   employee_id         department  ... avg_training_score is_promoted\n",
              "0        65438  Sales & Marketing  ...                 49           0\n",
              "1        65141         Operations  ...                 60           0\n",
              "2         7513  Sales & Marketing  ...                 50           0\n",
              "3         2542  Sales & Marketing  ...                 50           0\n",
              "4        48945         Technology  ...                 73           0\n",
              "\n",
              "[5 rows x 14 columns]"
            ]
          },
          "metadata": {
            "tags": []
          },
          "execution_count": 8
        }
      ]
    },
    {
      "cell_type": "code",
      "metadata": {
        "id": "mKinFLJEWmWO",
        "colab_type": "code",
        "colab": {}
      },
      "source": [
        "from sklearn.preprocessing import LabelEncoder\n",
        "l=LabelEncoder()\n",
        "a1=train[['department','region','education','gender','recruitment_channel']]\n",
        "a1=a1.apply(lambda x:l.fit_transform(x))\n",
        "a2=test[['department','region','education','gender','recruitment_channel']]\n",
        "a2=a2.apply(lambda x:l.fit_transform(x))\n",
        "\n",
        "train[['department','region','education','gender','recruitment_channel']]=a1\n",
        "test[['department','region','education','gender','recruitment_channel']]=a2\n",
        "\n",
        "y=train['is_promoted']\n",
        "train=train.drop('is_promoted',axis=1)"
      ],
      "execution_count": 0,
      "outputs": []
    },
    {
      "cell_type": "code",
      "metadata": {
        "id": "KQ9chm6jb3eh",
        "colab_type": "code",
        "colab": {}
      },
      "source": [
        "params = {\n",
        "    \"colsample_bytree\": uniform(0.7, 0.3),\n",
        "    \"gamma\": uniform(0, 0.5),\n",
        "    \"learning_rate\": uniform(0.03, 0.3), # default 0.1 \n",
        "    \"max_depth\": randint(2, 6), # default 3\n",
        "    \"n_estimators\": randint(100, 150), # default 100\n",
        "    \"subsample\": uniform(0.6, 0.4)\n",
        "}"
      ],
      "execution_count": 0,
      "outputs": []
    },
    {
      "cell_type": "code",
      "metadata": {
        "id": "8NXzRUrjWvOQ",
        "colab_type": "code",
        "outputId": "82d42b8b-1c08-4388-8b64-43ac6c157502",
        "colab": {
          "base_uri": "https://localhost:8080/",
          "height": 87
        }
      },
      "source": [
        "x_train,x_test,x_train_label,x_test_label=train_test_split(train,y,train_size=0.7)\n",
        "xgb_model=XGBClassifier()\n",
        "model = RandomizedSearchCV(xgb_model, param_distributions=params, random_state=42, n_iter=200, cv=3, verbose=1, n_jobs=1, return_train_score=True)\n",
        "model.fit(x_train,x_train_label)\n",
        "predict=model.predict(x_test)\n",
        "print(f1_score(predict,x_test_label))"
      ],
      "execution_count": 0,
      "outputs": [
        {
          "output_type": "stream",
          "text": [
            "Fitting 3 folds for each of 200 candidates, totalling 600 fits\n"
          ],
          "name": "stdout"
        },
        {
          "output_type": "stream",
          "text": [
            "[Parallel(n_jobs=1)]: Using backend SequentialBackend with 1 concurrent workers.\n",
            "[Parallel(n_jobs=1)]: Done 600 out of 600 | elapsed: 21.5min finished\n"
          ],
          "name": "stderr"
        },
        {
          "output_type": "stream",
          "text": [
            "0.5012919896640827\n"
          ],
          "name": "stdout"
        }
      ]
    },
    {
      "cell_type": "code",
      "metadata": {
        "id": "ac-N-hfqXAba",
        "colab_type": "code",
        "colab": {}
      },
      "source": [
        "prediction=model.predict(test)\n",
        "df=pd.DataFrame(prediction,test['employee_id'],columns=['is_promoted'])\n",
        "df.to_csv(\"/content/drive/My Drive/Colab Notebooks/hacathon_analytic_vidhya/result.csv\")"
      ],
      "execution_count": 0,
      "outputs": []
    },
    {
      "cell_type": "code",
      "metadata": {
        "id": "1kQTsFFSXRz1",
        "colab_type": "code",
        "outputId": "aac76dfd-cd42-4b05-d96c-85065d1de7f1",
        "colab": {
          "base_uri": "https://localhost:8080/",
          "height": 52
        }
      },
      "source": [
        "df.iloc[8724]"
      ],
      "execution_count": 0,
      "outputs": [
        {
          "output_type": "execute_result",
          "data": {
            "text/plain": [
              "is_promoted    0\n",
              "Name: 7669, dtype: int64"
            ]
          },
          "metadata": {
            "tags": []
          },
          "execution_count": 53
        }
      ]
    },
    {
      "cell_type": "markdown",
      "metadata": {
        "id": "VJQJ6xbTVop9",
        "colab_type": "text"
      },
      "source": [
        "## SMOTE"
      ]
    },
    {
      "cell_type": "code",
      "metadata": {
        "id": "1HTFur9pizGS",
        "colab_type": "code",
        "colab": {}
      },
      "source": [
        "y=data1['is_promoted']\n",
        "train=data1.drop('is_promoted',axis=1)\n",
        "sm=SMOTE()\n",
        "data1,y=sm.fit_sample(train,y)\n",
        "x_train,x_test,x_train_label,x_test_label=train_test_split(data1,y,train_size=0.7)\n"
      ],
      "execution_count": 0,
      "outputs": []
    },
    {
      "cell_type": "code",
      "metadata": {
        "id": "4QruKP3HVuJZ",
        "colab_type": "code",
        "colab": {}
      },
      "source": [
        "for i in [3,4,5,6,7,8,9]:\n",
        "  model = XGBClassifier(min_depth=i)\n",
        "  model.fit(x_train,x_train_label)\n",
        "  predict=model.predict(x_test)\n",
        "  print(f1_score(predict,x_test_label))\n"
      ],
      "execution_count": 0,
      "outputs": []
    },
    {
      "cell_type": "code",
      "metadata": {
        "id": "RyrqfhU9VuHj",
        "colab_type": "code",
        "colab": {}
      },
      "source": [
        "prediction=model.predict(data2.values)\n",
        "df=pd.DataFrame(prediction,data2['employee_id'],columns=['is_promoted'])\n",
        "df.to_csv(\"/content/drive/My Drive/Colab Notebooks/hacathon_analytic_vidhya/result.csv\")"
      ],
      "execution_count": 0,
      "outputs": []
    },
    {
      "cell_type": "markdown",
      "metadata": {
        "id": "1e1umH2_V66c",
        "colab_type": "text"
      },
      "source": [
        "Without smote"
      ]
    },
    {
      "cell_type": "code",
      "metadata": {
        "id": "7Gt3h8bJV6gm",
        "colab_type": "code",
        "colab": {}
      },
      "source": [
        "y=data1['is_promoted']\n",
        "data1=data1.drop('is_promoted',axis=1)\n",
        "x_train,x_test,x_train_label,x_test_label=train_test_split(data1,y,train_size=0.7)"
      ],
      "execution_count": 0,
      "outputs": []
    },
    {
      "cell_type": "code",
      "metadata": {
        "id": "BPKNULN9VuCI",
        "colab_type": "code",
        "colab": {}
      },
      "source": [
        "for i in [3,4,5,6,7,8,9]:\n",
        "  model = XGBClassifier(min_depth=i)\n",
        "  model.fit(x_traiy=data1['is_promoted']\n",
        "data1=data1.drop('is_promoted',axis=1)\n",
        "x_train,x_test,x_train_label,x_test_label=train_test_split(data1,y,train_size=0.7)n,x_train_label)\n",
        "  predict=model.predict(x_test)\n",
        "  print(f1_score(predict,x_test_label))"
      ],
      "execution_count": 0,
      "outputs": []
    },
    {
      "cell_type": "code",
      "metadata": {
        "id": "O8XfNJ0oV-AB",
        "colab_type": "code",
        "colab": {}
      },
      "source": [
        "prediction=model.predict(data2.values)"
      ],
      "execution_count": 0,
      "outputs": []
    },
    {
      "cell_type": "code",
      "metadata": {
        "id": "m_IDqyToV99Z",
        "colab_type": "code",
        "colab": {}
      },
      "source": [
        "df=pd.DataFrame(prediction,data2['employee_id'],columns=['is_promoted'])\n",
        "df.to_csv(\"/content/drive/My Drive/Colab Notebooks/hacathon_analytic_vidhya/result.csv\")"
      ],
      "execution_count": 0,
      "outputs": []
    },
    {
      "cell_type": "markdown",
      "metadata": {
        "id": "i7EZAUPLWDxt",
        "colab_type": "text"
      },
      "source": [
        "Random"
      ]
    },
    {
      "cell_type": "code",
      "metadata": {
        "id": "mFxOk13hV97f",
        "colab_type": "code",
        "colab": {}
      },
      "source": [
        "train['education']=train['education'].fillna(mode(train['education']))\n",
        "train['previous_year_rating']=train['previous_year_rating'].fillna(mode(train['previous_year_rating']))\n",
        "\n",
        "test['education']=test['education'].fillna(mode(test['education']))\n",
        "test['previous_year_rating']=test['previous_year_rating'].fillna(mode(test['previous_year_rating']))"
      ],
      "execution_count": 0,
      "outputs": []
    },
    {
      "cell_type": "code",
      "metadata": {
        "id": "TUM4QBFsV94x",
        "colab_type": "code",
        "colab": {}
      },
      "source": [
        "y=train['is_promoted']\n",
        "train=train.drop('is_promoted',axis=1)\n",
        "\n",
        "x_train,x_test,x_train_label,x_test_label=train_test_split(train,y,train_size=0.7)"
      ],
      "execution_count": 0,
      "outputs": []
    },
    {
      "cell_type": "code",
      "metadata": {
        "id": "xk9u--0kWLZa",
        "colab_type": "code",
        "colab": {}
      },
      "source": [
        "for i in [3,4,5,6,7,8,9]:\n",
        "  model = XGBClassifier(min_depth=3)\n",
        "  model.fit(x_train,x_train_label)\n",
        "  predict=model.predict(x_test)\n",
        "  print(f1_score(predict,x_test_label))"
      ],
      "execution_count": 0,
      "outputs": []
    },
    {
      "cell_type": "code",
      "metadata": {
        "id": "ObYMaP1QWLXr",
        "colab_type": "code",
        "colab": {}
      },
      "source": [
        "prediction=model.predict(test)\n",
        "df=pd.DataFrame(prediction,data2['employee_id'],columns=['is_promoted'])\n",
        "df.to_csv(\"/content/drive/My Drive/Colab Notebooks/hacathon_analytic_vidhya/result.csv\")"
      ],
      "execution_count": 0,
      "outputs": []
    },
    {
      "cell_type": "markdown",
      "metadata": {
        "id": "ymYtX49dWOmw",
        "colab_type": "text"
      },
      "source": [
        "Grid search with Xgboost"
      ]
    },
    {
      "cell_type": "code",
      "metadata": {
        "id": "IzND3chCWLU8",
        "colab_type": "code",
        "colab": {}
      },
      "source": [
        "from sklearn.model_selection import StratifiedKFold\n",
        "from sklearn.model_selection import RandomizedSearchCV"
      ],
      "execution_count": 0,
      "outputs": []
    },
    {
      "cell_type": "code",
      "metadata": {
        "id": "0PPf8skuWLSs",
        "colab_type": "code",
        "colab": {}
      },
      "source": [
        "test['education']=test['education'].fillna(mode(test['education']))\n",
        "test['previous_year_rating']=test['previous_year_rating'].fillna(mode(test['previous_year_rating']))\n",
        "\n",
        "train['education']=train['education'].fillna(mode(train['education']))\n",
        "train['previous_year_rating']=train['previous_year_rating'].fillna(mode(train['previous_year_rating']))\n",
        "\n",
        "test=test.drop('recruitment_channel',axis=1)\n",
        "train=train.drop('recruitment_channel',axis=1)\n",
        "\n",
        "from sklearn.preprocessing import LabelEncoder\n",
        "l=LabelEncoder()\n",
        "a1=train[['department','region','education','gender']]\n",
        "a1=a1.apply(lambda x:l.fit_transform(x))\n",
        "a2=test[['department','region','education','gender']]\n",
        "a2=a2.apply(lambda x:l.fit_transform(x))\n",
        "\n",
        "train[['department','region','education','gender']]=a1\n",
        "test[['department','region','education','gender']]=a2\n",
        "\n",
        "y=train['is_promoted']\n",
        "train=train.drop('is_promoted',axis=1)\n",
        "x_train,x_test,x_train_label,x_test_label=train_test_split(train,y,train_size=0.7)"
      ],
      "execution_count": 0,
      "outputs": []
    },
    {
      "cell_type": "code",
      "metadata": {
        "id": "Q_ECKpUMWLQW",
        "colab_type": "code",
        "colab": {}
      },
      "source": [
        "params = {\n",
        "        'min_child_weight': [1, 5, 10],\n",
        "        'gamma': [0.5, 1, 1.5, 2, 5],\n",
        "        'subsample': [0.6, 0.8, 1.0],\n",
        "        'colsample_bytree': [0.6, 0.8, 1.0],\n",
        "        'max_depth': [3, 4, 5]\n",
        "        }\n",
        "xgb = XGBClassifier(learning_rate=0.02, n_estimators=600, objective='binary:logistic',\n",
        "                    silent=True, nthread=1)\n",
        "folds = 3\n",
        "param_comb = 5\n",
        "\n",
        "skf = StratifiedKFold(n_splits=folds, shuffle = True, random_state = 1001)\n",
        "model = RandomizedSearchCV(xgb, param_distributions=params, n_iter=param_comb, scoring='roc_auc', n_jobs=4, cv=skf.split(x_train,x_train_label), verbose=3, random_state=1001 )"
      ],
      "execution_count": 0,
      "outputs": []
    },
    {
      "cell_type": "code",
      "metadata": {
        "id": "DeUE6nxTWLM9",
        "colab_type": "code",
        "colab": {}
      },
      "source": [
        "model.fit(x_train,x_train_label)\n",
        "predict=model.predict(x_test)\n",
        "print(f1_score(predict,x_test_label))"
      ],
      "execution_count": 0,
      "outputs": []
    },
    {
      "cell_type": "code",
      "metadata": {
        "id": "-DltfCQzWcpV",
        "colab_type": "code",
        "colab": {}
      },
      "source": [
        "prediction=model.predict(test)\n",
        "df=pd.DataFrame(prediction,test['employee_id'],columns=['is_promoted'])\n",
        "df.to_csv(\"/content/drive/My Drive/Colab Notebooks/hacathon_analytic_vidhya/result.csv\")"
      ],
      "execution_count": 0,
      "outputs": []
    }
  ]
}